{
 "cells": [
  {
   "cell_type": "code",
   "execution_count": 2,
   "metadata": {},
   "outputs": [
    {
     "name": "stderr",
     "output_type": "stream",
     "text": [
      "[nltk_data] Downloading package wordnet to\n",
      "[nltk_data]     C:\\Users\\Paola.YELA\\AppData\\Roaming\\nltk_data...\n",
      "[nltk_data]   Package wordnet is already up-to-date!\n",
      "[nltk_data] Downloading package averaged_perceptron_tagger to\n",
      "[nltk_data]     C:\\Users\\Paola.YELA\\AppData\\Roaming\\nltk_data...\n",
      "[nltk_data]   Package averaged_perceptron_tagger is already up-to-\n",
      "[nltk_data]       date!\n",
      "[nltk_data] Downloading package stopwords to\n",
      "[nltk_data]     C:\\Users\\Paola.YELA\\AppData\\Roaming\\nltk_data...\n",
      "[nltk_data]   Package stopwords is already up-to-date!\n"
     ]
    }
   ],
   "source": [
    "import string\n",
    "import re\n",
    "import pickle\n",
    "import ipdb\n",
    "import itertools\n",
    "from collections import Counter\n",
    "\n",
    "import os, codecs, string, random\n",
    "\n",
    "import pandas as pd\n",
    "import numpy as np\n",
    "import matplotlib.pyplot as plt\n",
    "\n",
    "import nltk\n",
    "import langid\n",
    "\n",
    "import nltk\n",
    "from nltk.stem.wordnet import WordNetLemmatizer\n",
    "from nltk.corpus import wordnet as wn\n",
    "\n",
    "nltk.download('wordnet')\n",
    "nltk.download('averaged_perceptron_tagger')\n",
    "nltk.download('stopwords')\n",
    "\n",
    "\n",
    "\n",
    "from gensim.corpora.dictionary import Dictionary\n",
    "from gensim.models import TfidfModel\n",
    "from sklearn.decomposition import PCA\n",
    "from sklearn.svm import SVC\n",
    "from sklearn.naive_bayes import GaussianNB\n",
    "from sklearn.dummy import DummyClassifier\n",
    "from sklearn.tree import DecisionTreeClassifier\n",
    "from sklearn.linear_model import LogisticRegression\n",
    "from sklearn.ensemble import VotingClassifier, RandomForestClassifier\n",
    "from sklearn.model_selection import train_test_split\n",
    "from sklearn.metrics import accuracy_score, classification_report\n",
    "from sklearn.manifold import TSNE\n",
    "from sklearn.metrics import confusion_matrix\n",
    "from sklearn.model_selection import cross_val_predict\n",
    "from sklearn.model_selection import cross_val_score"
   ]
  },
  {
   "cell_type": "markdown",
   "metadata": {},
   "source": [
    "# A. FromTxtData_ToSuggestedTags"
   ]
  },
  {
   "cell_type": "markdown",
   "metadata": {},
   "source": [
    "This notebook uses as input the _descriptors actions_ file (which contains the different tags) and the files in the folder _data/data simplified_ that contains the source documents in txt format."
   ]
  },
  {
   "cell_type": "markdown",
   "metadata": {},
   "source": [
    "The NLP and ML pipeline was taken from the Github account of Navid Rekabsaz."
   ]
  },
  {
   "cell_type": "markdown",
   "metadata": {},
   "source": [
    "## 1) Creation of baseline dataset"
   ]
  },
  {
   "cell_type": "markdown",
   "metadata": {},
   "source": [
    "### 1.1) Merging of relevant datasets"
   ]
  },
  {
   "cell_type": "markdown",
   "metadata": {},
   "source": [
    "Load the VCA reports"
   ]
  },
  {
   "cell_type": "code",
   "execution_count": 3,
   "metadata": {},
   "outputs": [],
   "source": [
    "corpus_root = 'data/'"
   ]
  },
  {
   "cell_type": "code",
   "execution_count": 4,
   "metadata": {},
   "outputs": [],
   "source": [
    "reports = list()\n",
    "reports_title = list()\n",
    "for report_file in (os.listdir(corpus_root+'data_simplified/Asia Pacific/Philippines/All reports')):\n",
    "    if \".txt\" in report_file:\n",
    "        with codecs.open(os.path.join(corpus_root+'data_simplified/Asia Pacific/Philippines/All Reports',report_file),encoding=\"utf8\", errors='ignore') as f:\n",
    "            reports.append(f.read())\n",
    "            reports_title.append(report_file)"
   ]
  },
  {
   "cell_type": "code",
   "execution_count": 5,
   "metadata": {
    "scrolled": true
   },
   "outputs": [
    {
     "name": "stdout",
     "output_type": "stream",
     "text": [
      "Number of documents found:  89\n"
     ]
    },
    {
     "data": {
      "text/html": [
       "<div>\n",
       "<style scoped>\n",
       "    .dataframe tbody tr th:only-of-type {\n",
       "        vertical-align: middle;\n",
       "    }\n",
       "\n",
       "    .dataframe tbody tr th {\n",
       "        vertical-align: top;\n",
       "    }\n",
       "\n",
       "    .dataframe thead th {\n",
       "        text-align: right;\n",
       "    }\n",
       "</style>\n",
       "<table border=\"1\" class=\"dataframe\">\n",
       "  <thead>\n",
       "    <tr style=\"text-align: right;\">\n",
       "      <th></th>\n",
       "      <th>Lead Title</th>\n",
       "      <th>Content Report</th>\n",
       "    </tr>\n",
       "  </thead>\n",
       "  <tbody>\n",
       "    <tr>\n",
       "      <th>13</th>\n",
       "      <td>Barangay Bakhaw Sur_2018-09-27_05-56-34</td>\n",
       "      <td>Philippine Red Cross  Aklan Chapter\\r\\n\\r\\nVul...</td>\n",
       "    </tr>\n",
       "    <tr>\n",
       "      <th>28</th>\n",
       "      <td>Kiling CAP output</td>\n",
       "      <td>Three (3) Years 2014-2017\\r\\n\\r\\n\\r\\nIn partne...</td>\n",
       "    </tr>\n",
       "    <tr>\n",
       "      <th>9</th>\n",
       "      <td>Aslum PRA Outputs landscape</td>\n",
       "      <td>Barangay , Alang-alang, Leyte\\r\\n\\r\\nBarangay ...</td>\n",
       "    </tr>\n",
       "  </tbody>\n",
       "</table>\n",
       "</div>"
      ],
      "text/plain": [
       "                                 Lead Title  \\\n",
       "13  Barangay Bakhaw Sur_2018-09-27_05-56-34   \n",
       "28                        Kiling CAP output   \n",
       "9               Aslum PRA Outputs landscape   \n",
       "\n",
       "                                       Content Report  \n",
       "13  Philippine Red Cross  Aklan Chapter\\r\\n\\r\\nVul...  \n",
       "28  Three (3) Years 2014-2017\\r\\n\\r\\n\\r\\nIn partne...  \n",
       "9   Barangay , Alang-alang, Leyte\\r\\n\\r\\nBarangay ...  "
      ]
     },
     "execution_count": 5,
     "metadata": {},
     "output_type": "execute_result"
    }
   ],
   "source": [
    "content = pd.DataFrame()\n",
    "content['Lead Title'] = reports_title\n",
    "content['Lead Title'] = content['Lead Title'].str.replace('.txt','')\n",
    "content['Content Report'] = reports\n",
    "print('Number of documents found: ',len(content))\n",
    "content.sample(3)"
   ]
  },
  {
   "cell_type": "markdown",
   "metadata": {},
   "source": [
    "Load dataset with labels and remove extensions from file names in order to easily merge them with the _content_ dataset"
   ]
  },
  {
   "cell_type": "code",
   "execution_count": 6,
   "metadata": {},
   "outputs": [
    {
     "data": {
      "text/html": [
       "<div>\n",
       "<style scoped>\n",
       "    .dataframe tbody tr th:only-of-type {\n",
       "        vertical-align: middle;\n",
       "    }\n",
       "\n",
       "    .dataframe tbody tr th {\n",
       "        vertical-align: top;\n",
       "    }\n",
       "\n",
       "    .dataframe thead th {\n",
       "        text-align: right;\n",
       "    }\n",
       "</style>\n",
       "<table border=\"1\" class=\"dataframe\">\n",
       "  <thead>\n",
       "    <tr style=\"text-align: right;\">\n",
       "      <th></th>\n",
       "      <th>Country</th>\n",
       "      <th>Province</th>\n",
       "      <th>Municipality</th>\n",
       "      <th>Name of Community</th>\n",
       "      <th>Hazards</th>\n",
       "      <th>Livelihood Activities</th>\n",
       "      <th>Type of context</th>\n",
       "      <th>Geophysical environment</th>\n",
       "      <th>VCA tools used</th>\n",
       "      <th>Source</th>\n",
       "      <th>...</th>\n",
       "      <th>German Red Cross</th>\n",
       "      <th>Finnish Red Cross</th>\n",
       "      <th>American Red Cross</th>\n",
       "      <th>Norwegian Red Cross</th>\n",
       "      <th>Excerpt</th>\n",
       "      <th>Number of planned actions</th>\n",
       "      <th>Action 1</th>\n",
       "      <th>Action 2</th>\n",
       "      <th>Action 3</th>\n",
       "      <th>Planned Action Title</th>\n",
       "    </tr>\n",
       "  </thead>\n",
       "  <tbody>\n",
       "    <tr>\n",
       "      <th>24</th>\n",
       "      <td>Philippines</td>\n",
       "      <td>Camarines Norte</td>\n",
       "      <td>Santa Elena</td>\n",
       "      <td>Polungguitguit</td>\n",
       "      <td>Cyclones, Floods, Drought, Diseases, Other, Fires</td>\n",
       "      <td>Agriculture, Fishery and Aquaculture, Forestry...</td>\n",
       "      <td>Rural</td>\n",
       "      <td>Coastal, Lowland</td>\n",
       "      <td>Transect walk, Mapping, Direct observation, Hi...</td>\n",
       "      <td>Philippine Red Cross and Spanish Red Cross</td>\n",
       "      <td>...</td>\n",
       "      <td>0</td>\n",
       "      <td>0</td>\n",
       "      <td>0</td>\n",
       "      <td>0</td>\n",
       "      <td>NaN</td>\n",
       "      <td>NaN</td>\n",
       "      <td>NaN</td>\n",
       "      <td>NaN</td>\n",
       "      <td>NaN</td>\n",
       "      <td>NaN</td>\n",
       "    </tr>\n",
       "  </tbody>\n",
       "</table>\n",
       "<p>1 rows × 89 columns</p>\n",
       "</div>"
      ],
      "text/plain": [
       "        Country         Province Municipality Name of Community  \\\n",
       "24  Philippines  Camarines Norte  Santa Elena    Polungguitguit   \n",
       "\n",
       "                                              Hazards  \\\n",
       "24  Cyclones, Floods, Drought, Diseases, Other, Fires   \n",
       "\n",
       "                                Livelihood Activities Type of context  \\\n",
       "24  Agriculture, Fishery and Aquaculture, Forestry...           Rural   \n",
       "\n",
       "   Geophysical environment                                     VCA tools used  \\\n",
       "24        Coastal, Lowland  Transect walk, Mapping, Direct observation, Hi...   \n",
       "\n",
       "                                        Source          ...           \\\n",
       "24  Philippine Red Cross and Spanish Red Cross          ...            \n",
       "\n",
       "    German Red Cross  Finnish Red Cross  American Red Cross  \\\n",
       "24                 0                  0                   0   \n",
       "\n",
       "    Norwegian Red Cross  Excerpt Number of planned actions Action 1 Action 2  \\\n",
       "24                    0      NaN                       NaN      NaN      NaN   \n",
       "\n",
       "    Action 3  Planned Action Title  \n",
       "24       NaN                   NaN  \n",
       "\n",
       "[1 rows x 89 columns]"
      ]
     },
     "execution_count": 6,
     "metadata": {},
     "output_type": "execute_result"
    }
   ],
   "source": [
    "labels = pd.read_excel(corpus_root + 'data_preprocessed/Asia Pacific/Philippines/descriptors_actions.xlsx',encoding=\"utf-8\")\n",
    "labels['Report Title'] = labels['Report Title'].str.replace('.docx','')\n",
    "labels['Report Title'] = labels['Report Title'].str.replace('.doc','')\n",
    "labels['Report Title'] = labels['Report Title'].str.replace('.pdf','')\n",
    "labels['Planned Action Title'] = labels['Planned Action Title'].str.replace('.docx','')\n",
    "labels['Planned Action Title'] = labels['Planned Action Title'].str.replace('.doc','')\n",
    "labels['Planned Action Title'] = labels['Planned Action Title'].str.replace('.pdf','')\n",
    "labels.sample()"
   ]
  },
  {
   "cell_type": "markdown",
   "metadata": {},
   "source": [
    "Merging both datasets"
   ]
  },
  {
   "cell_type": "code",
   "execution_count": 7,
   "metadata": {},
   "outputs": [
    {
     "data": {
      "text/html": [
       "<div>\n",
       "<style scoped>\n",
       "    .dataframe tbody tr th:only-of-type {\n",
       "        vertical-align: middle;\n",
       "    }\n",
       "\n",
       "    .dataframe tbody tr th {\n",
       "        vertical-align: top;\n",
       "    }\n",
       "\n",
       "    .dataframe thead th {\n",
       "        text-align: right;\n",
       "    }\n",
       "</style>\n",
       "<table border=\"1\" class=\"dataframe\">\n",
       "  <thead>\n",
       "    <tr style=\"text-align: right;\">\n",
       "      <th></th>\n",
       "      <th>Report Text</th>\n",
       "      <th>Planned Action Text</th>\n",
       "      <th>Country</th>\n",
       "      <th>Province</th>\n",
       "      <th>Municipality</th>\n",
       "      <th>Name of Community</th>\n",
       "      <th>Hazards</th>\n",
       "      <th>Livelihood Activities</th>\n",
       "      <th>Type of context</th>\n",
       "      <th>Geophysical environment</th>\n",
       "      <th>...</th>\n",
       "      <th>German Red Cross</th>\n",
       "      <th>Finnish Red Cross</th>\n",
       "      <th>American Red Cross</th>\n",
       "      <th>Norwegian Red Cross</th>\n",
       "      <th>Excerpt</th>\n",
       "      <th>Number of planned actions</th>\n",
       "      <th>Action 1</th>\n",
       "      <th>Action 2</th>\n",
       "      <th>Action 3</th>\n",
       "      <th>Planned Action Title</th>\n",
       "    </tr>\n",
       "  </thead>\n",
       "  <tbody>\n",
       "    <tr>\n",
       "      <th>18</th>\n",
       "      <td>Barangay , Alang-alang, Leyte\\r\\n\\r\\nBarangay ...</td>\n",
       "      <td>Three (3) Years 2014-2017\\r\\n\\r\\n\\r\\nThree (3)...</td>\n",
       "      <td>Philippines</td>\n",
       "      <td>Leyte</td>\n",
       "      <td>Alangalang</td>\n",
       "      <td>Hubang</td>\n",
       "      <td>Floods, Cyclones, Diseases, El niño/La niña</td>\n",
       "      <td>Agriculture, Forestry</td>\n",
       "      <td>Rural</td>\n",
       "      <td>Lowland</td>\n",
       "      <td>...</td>\n",
       "      <td>0</td>\n",
       "      <td>0</td>\n",
       "      <td>1</td>\n",
       "      <td>0</td>\n",
       "      <td>['Provided the following alternative livelihoo...</td>\n",
       "      <td>7.0</td>\n",
       "      <td>Constructed core shelter for 220 totally damag...</td>\n",
       "      <td>Constructed Drainage for:    - Proper 1    - P...</td>\n",
       "      <td>150 Households have accessed to latrines</td>\n",
       "      <td>Hubang CAP output</td>\n",
       "    </tr>\n",
       "    <tr>\n",
       "      <th>56</th>\n",
       "      <td>Empowering Communities and Local Government Un...</td>\n",
       "      <td>Empowering Communities and Local Government Un...</td>\n",
       "      <td>Philippines</td>\n",
       "      <td>Antique</td>\n",
       "      <td>Hamtic</td>\n",
       "      <td>Malandog</td>\n",
       "      <td>Cyclones, Floods, Road accidents, Fires</td>\n",
       "      <td>Agriculture, Fishery and Aquaculture</td>\n",
       "      <td>Rural</td>\n",
       "      <td>Coastal, Lowland</td>\n",
       "      <td>...</td>\n",
       "      <td>1</td>\n",
       "      <td>0</td>\n",
       "      <td>0</td>\n",
       "      <td>0</td>\n",
       "      <td>['Capacity Building on Basic Life support and ...</td>\n",
       "      <td>4.0</td>\n",
       "      <td>Repair and Rehabilitation of Evacuation Center</td>\n",
       "      <td>Capacity Building on Basic Life support and Fi...</td>\n",
       "      <td>Make a Brgy Resolution requesting the Land Tra...</td>\n",
       "      <td>VCA REPORT Malandog with Action plan EDITED_20...</td>\n",
       "    </tr>\n",
       "    <tr>\n",
       "      <th>60</th>\n",
       "      <td>Project funded by the European Union \\r\\n\\r\\n\\...</td>\n",
       "      <td>NaN</td>\n",
       "      <td>Philippines</td>\n",
       "      <td>Camarines Norte</td>\n",
       "      <td>Vinzons</td>\n",
       "      <td>Sabang</td>\n",
       "      <td>Cyclones, Floods, Drought, Diseases, Fires</td>\n",
       "      <td>Agriculture, Fishery and Aquaculture, Forestry</td>\n",
       "      <td>Rural</td>\n",
       "      <td>Coastal, Lowland</td>\n",
       "      <td>...</td>\n",
       "      <td>0</td>\n",
       "      <td>0</td>\n",
       "      <td>0</td>\n",
       "      <td>0</td>\n",
       "      <td>NaN</td>\n",
       "      <td>NaN</td>\n",
       "      <td>NaN</td>\n",
       "      <td>NaN</td>\n",
       "      <td>NaN</td>\n",
       "      <td>NaN</td>\n",
       "    </tr>\n",
       "  </tbody>\n",
       "</table>\n",
       "<p>3 rows × 91 columns</p>\n",
       "</div>"
      ],
      "text/plain": [
       "                                          Report Text  \\\n",
       "18  Barangay , Alang-alang, Leyte\\r\\n\\r\\nBarangay ...   \n",
       "56  Empowering Communities and Local Government Un...   \n",
       "60  Project funded by the European Union \\r\\n\\r\\n\\...   \n",
       "\n",
       "                                  Planned Action Text      Country  \\\n",
       "18  Three (3) Years 2014-2017\\r\\n\\r\\n\\r\\nThree (3)...  Philippines   \n",
       "56  Empowering Communities and Local Government Un...  Philippines   \n",
       "60                                                NaN  Philippines   \n",
       "\n",
       "           Province Municipality Name of Community  \\\n",
       "18            Leyte   Alangalang            Hubang   \n",
       "56          Antique       Hamtic          Malandog   \n",
       "60  Camarines Norte      Vinzons            Sabang   \n",
       "\n",
       "                                        Hazards  \\\n",
       "18  Floods, Cyclones, Diseases, El niño/La niña   \n",
       "56      Cyclones, Floods, Road accidents, Fires   \n",
       "60   Cyclones, Floods, Drought, Diseases, Fires   \n",
       "\n",
       "                             Livelihood Activities Type of context  \\\n",
       "18                           Agriculture, Forestry           Rural   \n",
       "56            Agriculture, Fishery and Aquaculture           Rural   \n",
       "60  Agriculture, Fishery and Aquaculture, Forestry           Rural   \n",
       "\n",
       "   Geophysical environment                        ...                          \\\n",
       "18                 Lowland                        ...                           \n",
       "56        Coastal, Lowland                        ...                           \n",
       "60        Coastal, Lowland                        ...                           \n",
       "\n",
       "   German Red Cross Finnish Red Cross  American Red Cross  \\\n",
       "18                0                 0                   1   \n",
       "56                1                 0                   0   \n",
       "60                0                 0                   0   \n",
       "\n",
       "    Norwegian Red Cross                                            Excerpt  \\\n",
       "18                    0  ['Provided the following alternative livelihoo...   \n",
       "56                    0  ['Capacity Building on Basic Life support and ...   \n",
       "60                    0                                                NaN   \n",
       "\n",
       "    Number of planned actions  \\\n",
       "18                        7.0   \n",
       "56                        4.0   \n",
       "60                        NaN   \n",
       "\n",
       "                                             Action 1  \\\n",
       "18  Constructed core shelter for 220 totally damag...   \n",
       "56     Repair and Rehabilitation of Evacuation Center   \n",
       "60                                                NaN   \n",
       "\n",
       "                                             Action 2  \\\n",
       "18  Constructed Drainage for:    - Proper 1    - P...   \n",
       "56  Capacity Building on Basic Life support and Fi...   \n",
       "60                                                NaN   \n",
       "\n",
       "                                             Action 3  \\\n",
       "18           150 Households have accessed to latrines   \n",
       "56  Make a Brgy Resolution requesting the Land Tra...   \n",
       "60                                                NaN   \n",
       "\n",
       "                                 Planned Action Title  \n",
       "18                                  Hubang CAP output  \n",
       "56  VCA REPORT Malandog with Action plan EDITED_20...  \n",
       "60                                                NaN  \n",
       "\n",
       "[3 rows x 91 columns]"
      ]
     },
     "execution_count": 7,
     "metadata": {},
     "output_type": "execute_result"
    }
   ],
   "source": [
    "baseline = pd.merge(content, labels,  how='right', left_on ='Lead Title', right_on = 'Planned Action Title')\n",
    "baseline = baseline.rename(columns = {'Content Report': 'Planned Action Text'})\n",
    "baseline = baseline.drop(columns = 'Lead Title')\n",
    "baseline = pd.merge(content, baseline,  how='right', left_on ='Lead Title', right_on = 'Report Title')\n",
    "baseline = baseline.rename(columns = {'Content Report': 'Report Text'})\n",
    "baseline = baseline.drop(columns = 'Lead Title')\n",
    "baseline.sample(3)"
   ]
  },
  {
   "cell_type": "markdown",
   "metadata": {},
   "source": [
    "### 1.2) Text preprocessing "
   ]
  },
  {
   "cell_type": "markdown",
   "metadata": {},
   "source": [
    "Until this moment the _Report Text_ and _Planned Action Text_ features have the extracted text from the reports without any further preprocessing. In order to extract meaningful information from them, a preprocessing step is done using NLP techniques."
   ]
  },
  {
   "cell_type": "code",
   "execution_count": 8,
   "metadata": {},
   "outputs": [
    {
     "data": {
      "text/plain": [
       "'Philippine Red Cross  Aklan Chapter\\r\\n\\r\\nVulnerability \\r\\n\\r\\nCapacity\\r\\n\\r\\nAssessment Study\\r\\n\\r\\nBarangay BakhawNorte, Kalibo, Aklan\\r\\n\\r\\nPhilippine Red Cross  Aklan Chapter\\r\\n\\r\\nVulnerability \\r\\n\\r\\nCapacity\\r\\n\\r\\nAssessment Study\\r\\n\\r\\nBarangay BakhawNorte, Kalibo, Aklan\\r\\n\\r\\n\\r\\nIn Partnership with\\r\\n\\r\\n\\r\\nIn Partnership with\\r\\n\\r\\n\\r\\nA Project Supported by \\r\\n\\r\\n\\r\\nEuropean Union\\r\\n\\r\\n\\r\\nA Project Supported by \\r\\n\\r\\n\\r\\nEuropean Union\\r\\n\\r\\n\\r\\nThe information contained in this document was produced by the community members of Barangay Rosario, Malinao, Aklan, Philippines and validated by its Barangay Council as a result of the collected data from VCA facilitated by European Union Funded Project of the Philippine Red Cross Aklan Chapter for the benefit of this community to create a better Barangay Development Plans and may not be reproduced or used by any means without the written permission of the Philippine Red Cross.\\r\\n\\r\\nThe in'"
      ]
     },
     "execution_count": 8,
     "metadata": {},
     "output_type": "execute_result"
    }
   ],
   "source": [
    "baseline['Report Text'][0][0:900]"
   ]
  },
  {
   "cell_type": "markdown",
   "metadata": {},
   "source": [
    "Specifically, the following steps are taken:\n",
    "1. Lemmatization\n",
    "2. Remove punctuation but not numbers\n",
    "3. Stop word removal\n",
    "4. Join strings separated by a space\n",
    "5. Converts the string into lower case characters\n",
    "6. Converts everything into a string"
   ]
  },
  {
   "cell_type": "code",
   "execution_count": 9,
   "metadata": {},
   "outputs": [
    {
     "name": "stdout",
     "output_type": "stream",
     "text": [
      "Testing...\n",
      "2 quick brown fox jumped lazy dogs\n"
     ]
    }
   ],
   "source": [
    "nltk_wordnet_tag_map = {\n",
    "    'NN': wn.NOUN,\n",
    "    'NNS': wn.NOUN,\n",
    "    'VBP': wn.VERB,\n",
    "    'VBG': wn.VERB,\n",
    "    'JJ': wn.ADJ,\n",
    "}\n",
    "\n",
    "from functools import reduce\n",
    "\n",
    "def compose(*functions):\n",
    "    def compose2(f1, f2):\n",
    "        \"\"\"Compose two functions\"\"\"\n",
    "        return lambda *args: f1(f2(*args))\n",
    "    return reduce(compose2, functions)\n",
    "\n",
    "def lemmatize(row, lemmatizer=WordNetLemmatizer()):\n",
    "    text = row\n",
    "    splitted = text if type(text) == list else str(text).split()\n",
    "    splitted = list(map(lambda x: str(x).lower(), splitted))\n",
    "    tagged = nltk.pos_tag(splitted)\n",
    "    lemmatized = []\n",
    "    for word, tag in tagged:\n",
    "        wnet_tag = nltk_wordnet_tag_map.get(tag)\n",
    "        if wnet_tag:\n",
    "            lemmatized.append(lemmatizer.lemmatize(word, wnet_tag))\n",
    "        else:\n",
    "            lemmatized.append(word)\n",
    "    return ' '.join(lemmatized)\n",
    "\n",
    "def rm_punc_not_nums(inp, col=None):\n",
    "    \"\"\"Remove punctuation unless it's a number for either a df (and col)\n",
    "    or single entry\n",
    "    \"\"\"\n",
    "    punc = string.punctuation\n",
    "\n",
    "\n",
    "    def sing_rm(phr):\n",
    "        \"\"\"Remove for a single entity\"\"\"\n",
    "        return ' '.join([re.sub('\\W+', '', i) if not (\n",
    "                    all(j.isdigit() or j in punc for j in i)\n",
    "                    and\n",
    "                    any(j.isdigit() for j in i)\n",
    "                ) else re.sub('\\W+', '', i)\n",
    "                for i in str(phr).split(' ')]\n",
    "        )\n",
    "    if col and isinstance(inp, pd.core.frame.DataFrame):\n",
    "        return inp.filter(like=col).applymap(lambda phr: sing_rm(phr))\n",
    "    elif isinstance(inp, str):\n",
    "        return sing_rm(inp)\n",
    "    else:\n",
    "        raise Exception('Not a vaild type')\n",
    "\n",
    "\n",
    "def rm_stop_words_txt(txt, swords=nltk.corpus.stopwords.words('english')):\n",
    "    \"\"\" Remove stop words from given text \"\"\"\n",
    "    return ' '.join(\n",
    "        [token for token in str(txt).split(' ')\n",
    "            if token.lower() not in swords]\n",
    "    )\n",
    "\n",
    "def preprocessReport(row):\n",
    "        inp = row[\"Report Text\"]\n",
    "        #print (inp)\n",
    "        inp = lemmatize(inp)\n",
    "        func = compose(\n",
    "            rm_punc_not_nums,\n",
    "            rm_stop_words_txt,\n",
    "            ' '.join,\n",
    "            str.split,\n",
    "            str.lower,\n",
    "            str\n",
    "        )\n",
    "        return func(inp)\n",
    "\n",
    "def preprocessPOA(row):\n",
    "        inp = row[\"Planned Action Text\"]\n",
    "        #print (inp)\n",
    "        inp = lemmatize(inp)\n",
    "        func = compose(\n",
    "            rm_punc_not_nums,\n",
    "            rm_stop_words_txt,\n",
    "            ' '.join,\n",
    "            str.split,\n",
    "            str.lower,\n",
    "            str\n",
    "        )\n",
    "        return func(inp)\n",
    "\n",
    "print ('Testing...')\n",
    "print (preprocessReport({\"Report Text\": \"The 2 quick brown foxes jumped over the lazy dogs!\"}))"
   ]
  },
  {
   "cell_type": "code",
   "execution_count": 10,
   "metadata": {
    "scrolled": false
   },
   "outputs": [
    {
     "data": {
      "text/html": [
       "<div>\n",
       "<style scoped>\n",
       "    .dataframe tbody tr th:only-of-type {\n",
       "        vertical-align: middle;\n",
       "    }\n",
       "\n",
       "    .dataframe tbody tr th {\n",
       "        vertical-align: top;\n",
       "    }\n",
       "\n",
       "    .dataframe thead th {\n",
       "        text-align: right;\n",
       "    }\n",
       "</style>\n",
       "<table border=\"1\" class=\"dataframe\">\n",
       "  <thead>\n",
       "    <tr style=\"text-align: right;\">\n",
       "      <th></th>\n",
       "      <th>Report Text</th>\n",
       "      <th>Planned Action Text</th>\n",
       "      <th>Country</th>\n",
       "      <th>Province</th>\n",
       "      <th>Municipality</th>\n",
       "      <th>Name of Community</th>\n",
       "      <th>Hazards</th>\n",
       "      <th>Livelihood Activities</th>\n",
       "      <th>Type of context</th>\n",
       "      <th>Geophysical environment</th>\n",
       "      <th>...</th>\n",
       "      <th>American Red Cross</th>\n",
       "      <th>Norwegian Red Cross</th>\n",
       "      <th>Excerpt</th>\n",
       "      <th>Number of planned actions</th>\n",
       "      <th>Action 1</th>\n",
       "      <th>Action 2</th>\n",
       "      <th>Action 3</th>\n",
       "      <th>Planned Action Title</th>\n",
       "      <th>Report Preprocessed</th>\n",
       "      <th>Planned Action Preprocessed</th>\n",
       "    </tr>\n",
       "  </thead>\n",
       "  <tbody>\n",
       "    <tr>\n",
       "      <th>19</th>\n",
       "      <td>Barangay , Mac Arthur, Leyte\\r\\n\\r\\nBarangay K...</td>\n",
       "      <td>Three (3) Years 2014-2017\\r\\n\\r\\n\\r\\nIn partne...</td>\n",
       "      <td>Philippines</td>\n",
       "      <td>Leyte</td>\n",
       "      <td>Macarthur</td>\n",
       "      <td>Kiling</td>\n",
       "      <td>Conflict/Violence, Cyclones, Other, Floods, La...</td>\n",
       "      <td>Forestry, Agriculture</td>\n",
       "      <td>Rural</td>\n",
       "      <td>Mountain</td>\n",
       "      <td>...</td>\n",
       "      <td>1</td>\n",
       "      <td>0</td>\n",
       "      <td>['Banana, corn, sweet potato, cassava, pechay,...</td>\n",
       "      <td>7.0</td>\n",
       "      <td>15 households provided with sanitary toilets</td>\n",
       "      <td>1km constructed concrete road from Brgy. Kilin...</td>\n",
       "      <td>Available facilities and medicines in the heal...</td>\n",
       "      <td>Kiling CAP output</td>\n",
       "      <td>barangay  mac arthur leyte barangay kiling mac...</td>\n",
       "      <td>three 3 year 20142017 partnership barangay  ma...</td>\n",
       "    </tr>\n",
       "    <tr>\n",
       "      <th>63</th>\n",
       "      <td>Barangay , Mac Arthur, Leyte\\r\\n\\r\\nBarangay V...</td>\n",
       "      <td>Barangay , Mac Arthur, Leyte\\r\\n\\r\\nThree (3) ...</td>\n",
       "      <td>Philippines</td>\n",
       "      <td>Leyte</td>\n",
       "      <td>Macarthur</td>\n",
       "      <td>Villa Imelda</td>\n",
       "      <td>Cyclones, Other, Floods, Landslides, Fires</td>\n",
       "      <td>Agriculture, Livestock, Fishery and Aquacultur...</td>\n",
       "      <td>Rural</td>\n",
       "      <td>Lowland, Mountain</td>\n",
       "      <td>...</td>\n",
       "      <td>1</td>\n",
       "      <td>0</td>\n",
       "      <td>['Livelihood assistance given to the farmers, ...</td>\n",
       "      <td>9.0</td>\n",
       "      <td>2 classrooms repaired and school facilities pr...</td>\n",
       "      <td>Clean Drinking Water    Provided</td>\n",
       "      <td>Clean Drinking Water Provided</td>\n",
       "      <td>Villa Imelda CAP output</td>\n",
       "      <td>barangay  mac arthur leyte barangay villa imel...</td>\n",
       "      <td>barangay  mac arthur leyte three 3 year 201420...</td>\n",
       "    </tr>\n",
       "    <tr>\n",
       "      <th>24</th>\n",
       "      <td>Barangay , Mac Arthur, Leyte\\r\\n\\r\\nBarangay S...</td>\n",
       "      <td>Barangay , Mac Arthur, Leyte\\r\\n\\r\\nThree (3) ...</td>\n",
       "      <td>Philippines</td>\n",
       "      <td>Leyte</td>\n",
       "      <td>Macarthur</td>\n",
       "      <td>San Isidro</td>\n",
       "      <td>Floods, Earthquake, Cyclones, Diseases</td>\n",
       "      <td>Agriculture, Livestock, Forestry</td>\n",
       "      <td>Rural</td>\n",
       "      <td>Lowland</td>\n",
       "      <td>...</td>\n",
       "      <td>1</td>\n",
       "      <td>0</td>\n",
       "      <td>['210 households of Barangay San Isidro provid...</td>\n",
       "      <td>11.0</td>\n",
       "      <td>210 houses in Barangay San Isidro reconstruc-t...</td>\n",
       "      <td>Participation in every schistosomiasis mass tr...</td>\n",
       "      <td>350 m. road constructed</td>\n",
       "      <td>San Isidro CAP output</td>\n",
       "      <td>barangay  mac arthur leyte barangay san isidro...</td>\n",
       "      <td>barangay  mac arthur leyte three 3 year 201420...</td>\n",
       "    </tr>\n",
       "  </tbody>\n",
       "</table>\n",
       "<p>3 rows × 93 columns</p>\n",
       "</div>"
      ],
      "text/plain": [
       "                                          Report Text  \\\n",
       "19  Barangay , Mac Arthur, Leyte\\r\\n\\r\\nBarangay K...   \n",
       "63  Barangay , Mac Arthur, Leyte\\r\\n\\r\\nBarangay V...   \n",
       "24  Barangay , Mac Arthur, Leyte\\r\\n\\r\\nBarangay S...   \n",
       "\n",
       "                                  Planned Action Text      Country Province  \\\n",
       "19  Three (3) Years 2014-2017\\r\\n\\r\\n\\r\\nIn partne...  Philippines    Leyte   \n",
       "63  Barangay , Mac Arthur, Leyte\\r\\n\\r\\nThree (3) ...  Philippines    Leyte   \n",
       "24  Barangay , Mac Arthur, Leyte\\r\\n\\r\\nThree (3) ...  Philippines    Leyte   \n",
       "\n",
       "   Municipality Name of Community  \\\n",
       "19    Macarthur            Kiling   \n",
       "63    Macarthur      Villa Imelda   \n",
       "24    Macarthur        San Isidro   \n",
       "\n",
       "                                              Hazards  \\\n",
       "19  Conflict/Violence, Cyclones, Other, Floods, La...   \n",
       "63         Cyclones, Other, Floods, Landslides, Fires   \n",
       "24             Floods, Earthquake, Cyclones, Diseases   \n",
       "\n",
       "                                Livelihood Activities Type of context  \\\n",
       "19                              Forestry, Agriculture           Rural   \n",
       "63  Agriculture, Livestock, Fishery and Aquacultur...           Rural   \n",
       "24                   Agriculture, Livestock, Forestry           Rural   \n",
       "\n",
       "   Geophysical environment                        ...                          \\\n",
       "19                Mountain                        ...                           \n",
       "63       Lowland, Mountain                        ...                           \n",
       "24                 Lowland                        ...                           \n",
       "\n",
       "   American Red Cross Norwegian Red Cross  \\\n",
       "19                  1                   0   \n",
       "63                  1                   0   \n",
       "24                  1                   0   \n",
       "\n",
       "                                              Excerpt  \\\n",
       "19  ['Banana, corn, sweet potato, cassava, pechay,...   \n",
       "63  ['Livelihood assistance given to the farmers, ...   \n",
       "24  ['210 households of Barangay San Isidro provid...   \n",
       "\n",
       "    Number of planned actions  \\\n",
       "19                        7.0   \n",
       "63                        9.0   \n",
       "24                       11.0   \n",
       "\n",
       "                                             Action 1  \\\n",
       "19       15 households provided with sanitary toilets   \n",
       "63  2 classrooms repaired and school facilities pr...   \n",
       "24  210 houses in Barangay San Isidro reconstruc-t...   \n",
       "\n",
       "                                             Action 2  \\\n",
       "19  1km constructed concrete road from Brgy. Kilin...   \n",
       "63                   Clean Drinking Water    Provided   \n",
       "24  Participation in every schistosomiasis mass tr...   \n",
       "\n",
       "                                             Action 3  \\\n",
       "19  Available facilities and medicines in the heal...   \n",
       "63                      Clean Drinking Water Provided   \n",
       "24                            350 m. road constructed   \n",
       "\n",
       "       Planned Action Title  \\\n",
       "19        Kiling CAP output   \n",
       "63  Villa Imelda CAP output   \n",
       "24    San Isidro CAP output   \n",
       "\n",
       "                                  Report Preprocessed  \\\n",
       "19  barangay  mac arthur leyte barangay kiling mac...   \n",
       "63  barangay  mac arthur leyte barangay villa imel...   \n",
       "24  barangay  mac arthur leyte barangay san isidro...   \n",
       "\n",
       "                          Planned Action Preprocessed  \n",
       "19  three 3 year 20142017 partnership barangay  ma...  \n",
       "63  barangay  mac arthur leyte three 3 year 201420...  \n",
       "24  barangay  mac arthur leyte three 3 year 201420...  \n",
       "\n",
       "[3 rows x 93 columns]"
      ]
     },
     "execution_count": 10,
     "metadata": {},
     "output_type": "execute_result"
    }
   ],
   "source": [
    "baseline['Report Preprocessed'] = baseline.apply(preprocessReport, axis=1)\n",
    "baseline['Planned Action Preprocessed'] = baseline.apply(preprocessPOA, axis=1)\n",
    "baseline.sample(3)"
   ]
  },
  {
   "cell_type": "code",
   "execution_count": 162,
   "metadata": {},
   "outputs": [
    {
     "data": {
      "text/plain": [
       "'barangay 103a paglaum tacloban city leyte three 3 year 20142017 partnership community action plan overall goal make community barangay 103 progressive  resilient next three years objective target indicator project activity timeframe resource needed potential agency work budget source fund remark y1 y2 y3 local contribution loan grant provide sustainable livelihood 136 households provided necessary supply capital following alternative livelihoods 47 hhs rice farm 112 hhs vegetable  root crop farm 30 coconut farm 50 hhs livestock raise 18 sarisari store 1 mini eaterycarenderia 6 petty trader 5 sewer 20 motorcycle hire mch 8 cosmetology 2 physical therapist 30 peanut butter make  plan  proposal make  coordination agency  capacity building  implementation  monitoring x x x x x x paglaum farmer association manpower budget da dar red cross tesda city govt dole fao ilo us aid p 327 10000000  da 400 00000  dar 20 00000  tesda 5000000  dole 200 00000  city govt 1  red cross 500 00000  usaid 500 00000  ilo 500 00000  fao funding provide sturdy house 85 household  planning  design  preparation pow  detailed estimate assessment  implementation  monitoring x x x x manpower 10 carpenter  20 laborers material budget christian church red cross lgu community dswd p 2 3000000 community contribution 30000000  dswd 300 00000  christian church 137  red cross fund access safe drinking water 85hhs  planning  design  validation water source  potability test  hydraulic analysis  construction level 2 water system  organize association bawasa  formulate monitoring  sustainability plan x x x x x x x manpower 4 mason 10 laborers 2 plumbers material budget acf red cross p 1 500 00000  acf 500 00000  red cross fund rehabilitate farm market road brgy 103a paglaum brgy palanog  plan  coordination agency  implementation  monitoring  maintenance x x x x manpower 2 heavy equipment operators equipment 1 bulldozer 1 backhoe budget city engineer office dar p 20 1  city engineer office 19  dar followup city engineer office fund dar prevent occurrence soil erosion  flooding construct ripraps  planning  design  preparation pow  detailed estimate  coordination agency  implementation  procurement material  organize operation  maintenance committee x x x x x x manpower 10 mason 20 laborers material budget dilg dpwh red cross blgu p 3 130 00000  blgu 1  dpwh 870 00000  dilg 1  red cross fund aip code  800011 prevent occurrence disease rehabilitating construct drainage canal  planning  design  site survey  assessment  preparation pow  detailed estimate  procurement material needed  implementation  monitoring x x x x x x manpower 5 mason 20 laborers 2 mixer operator material hand tools mixer machine budget dpwh city govt red cross 900 00000 300 00000  dpwh 30000000  city govt 300 00000  red cross fund construct irrigation system rice farmers  planning  design  site survey assessment  preparation pow  detailed estimate  procurement material needed  implementation  monitoring  coordination w agency x x x x x x x manpower 5 mason 20 laborers materials hand tool mixer machine budget dar nia red cross p 3 1  dar 1  nia 1  red cross funding provide educational facility conducive learning construct daycare center  planning  design  survey lot area  procurement material  construction  implementation  monitoring x x x x x manpower 5 mason 5 carpenters 20 laborers materials hand tool budget dswd intersos red cross stc 800 00000 200 00000  dswd 200 00000  intersos 20000000  red cross 20000000  stc funding decrease incidence crime night instal 20 street lights  planning  design  coordinate leyeco ii  procurement material installation street light  create operation  maintenance committee  formulate operation  maintenance sustainability plan x x x x x x manpower 5 electrician material budget city govt 150 00000 150 00000  city govt funding provide health care facility  service 85 household  planning  design  survey lot area  procurement material  construction  implementation  monitoring x x x x x manpower 5 mason 5 carpenters 20 laborers materials hand tool budget doh red cross acf 900 00000 300 00000  doh 300 00000  red cross 300 00000  acf funding provide toilet 85 hhs  plan  identify hhs without toilet  ask assistance bhw validation  procurement material  installation  coordinate ingos  ngos x x x x x x manpower 5 plumbers 5 mason 5 carpenters 10 laborers material budget red cross doh city govt acf 500 00000 100 00000  doh 10000000  city govt 200 00000  red cross 10000000  acf fund categorized general service section aip file constituent brgy 103  legislative  administrative program x budget blgu 530 36400 530 36400  blgu aip code  10001 supply  fidelity bond x budget blgu 30 00000 3000000  blgu aip code  100012 peace  order program x budget blgu 33 00000 33 00000  blgu aip code  10002 provide health service  recreational activity resident health  nutrition program provided resident feed program malnourished child x bhw bns city health officer budget blgu 5 00000 5 00000  blgu aip code  300011 gad program x barangay council budget blgu 8 00000 8 00000  blgu aip code  30002 training  seminar youth x dilg officer budget blgu dilg 35 40600 35 40600  blgu aip code  30002 gad advocacy x dilg officer budget blgu dilg 50 00000 50 00000  blgu aip code  300022 sociocultural activites x sport facility blgu sk 50 00000 50 00000  blgu aip code  300032 repair basketball court x manpower 2 carpenters 1 mason 5 laborers blgu sk 46 81100 46 81100  blgu aip code  300032 categorized infrastructure section aip file 2 meter pathway constructed construction pathway x manpower 1 mason 2 laborers material blgu 51 12100 51 12100  blgu aip code  800012 conduct disaster risk reduction training drr training conducted member brc cv barangay development council red cross 143  first aid training orientation x red cross 143  1st aid training officer dilg train officer training material budget red cross dilg 50 00000 50 00000  red cross fund workshop local governance x drr train x blgu 48 40500 48 40500  blgu aip code  9000 acronyms acf accion contra famine aip annual investment plan bawasa barangay waterworks sanitation association blgu barangay local government unit da department agriculture dar department agrarian reform dilg department interior local government doh department health dole department labor employment dpwh department public work highway dswd department social welfare development fao food agriculture organization ilo international labor organization lgu local government unit nia national irrigation administration ndrrmc national risk reduction management council pow program work sk sangguniang kabataan stc save child tesda technical education skill development authority'"
      ]
     },
     "execution_count": 162,
     "metadata": {},
     "output_type": "execute_result"
    }
   ],
   "source": [
    "baseline['Planned Action Preprocessed'][1]"
   ]
  },
  {
   "cell_type": "markdown",
   "metadata": {},
   "source": [
    "## 2) Creation of Dictionaries and TFIDF Vectors"
   ]
  },
  {
   "cell_type": "markdown",
   "metadata": {},
   "source": [
    "### 2.1) From Reports Text"
   ]
  },
  {
   "cell_type": "code",
   "execution_count": 150,
   "metadata": {},
   "outputs": [],
   "source": [
    "MAX_NB_WORDS=20000\n",
    "dictionary_reports_path = corpus_root+'data_dictionaries/Asia Pacific/Philippines/dictionary_reports.pkl'\n",
    "vectors_tfidf_reports_path = corpus_root+'data_vectors/Asia Pacific/Philippines/vectors_tfidf_reports.pkl'\n",
    "vectors_tfidf_reports_dim65_path = corpus_root+'data_vectors/Asia Pacific/Philippines/vectors_tfidf_reports_dim65.pkl'"
   ]
  },
  {
   "cell_type": "code",
   "execution_count": 151,
   "metadata": {},
   "outputs": [
    {
     "name": "stdout",
     "output_type": "stream",
     "text": [
      "Total 9203 unique tokens.\n"
     ]
    }
   ],
   "source": [
    "dictionary_reports = Dictionary([doc.split() for doc in baseline['Report Preprocessed']])\n",
    "dictionary_reports.filter_extremes(no_below=1, no_above=0.5, keep_n=MAX_NB_WORDS)\n",
    "dictionary_reports.compactify()\n",
    "print('Total %s unique tokens.' % len(dictionary_reports))"
   ]
  },
  {
   "cell_type": "code",
   "execution_count": 152,
   "metadata": {},
   "outputs": [
    {
     "data": {
      "text/plain": [
       "'power'"
      ]
     },
     "execution_count": 152,
     "metadata": {},
     "output_type": "execute_result"
    }
   ],
   "source": [
    "#example of token in dictionary\n",
    "dictionary_reports[900]"
   ]
  },
  {
   "cell_type": "code",
   "execution_count": 153,
   "metadata": {},
   "outputs": [],
   "source": [
    "with open(dictionary_reports_path, 'wb') as fw:\n",
    "    pickle.dump(dictionary_reports, fw)"
   ]
  },
  {
   "cell_type": "markdown",
   "metadata": {},
   "source": [
    "Creating TFIDF vectors"
   ]
  },
  {
   "cell_type": "code",
   "execution_count": 154,
   "metadata": {},
   "outputs": [],
   "source": [
    "corpus = [dictionary_reports.doc2bow(line) for line in [x.split() for x in baseline['Report Preprocessed']]]  # convert corpus to BoW format\n",
    "\n",
    "weight_model = TfidfModel(corpus)  # fit model\n",
    "\n",
    "vectors_tfidf_reports=[]\n",
    "for x in corpus:\n",
    "    vectors_tfidf_reports.append(weight_model[x])\n",
    "corpus = None"
   ]
  },
  {
   "cell_type": "code",
   "execution_count": 155,
   "metadata": {},
   "outputs": [
    {
     "data": {
      "text/plain": [
       "65"
      ]
     },
     "execution_count": 155,
     "metadata": {},
     "output_type": "execute_result"
    }
   ],
   "source": [
    "#a vector of term frequency-inverse document frequency by document\n",
    "len(vectors_tfidf_reports)"
   ]
  },
  {
   "cell_type": "code",
   "execution_count": 156,
   "metadata": {},
   "outputs": [],
   "source": [
    "with open(vectors_tfidf_reports_path, 'wb') as fw:\n",
    "    pickle.dump([vectors_tfidf_reports], fw)"
   ]
  },
  {
   "cell_type": "code",
   "execution_count": 157,
   "metadata": {},
   "outputs": [],
   "source": [
    "# first sparsifying the TFIDF vectors\n",
    "vectors_tfidf_reports_sparse=np.zeros((len(vectors_tfidf_reports), MAX_NB_WORDS))\n",
    "for doc_i, doc in enumerate(vectors_tfidf_reports):\n",
    "    for item in doc:\n",
    "        vectors_tfidf_reports_sparse[doc_i][item[0]] = item[1]"
   ]
  },
  {
   "cell_type": "code",
   "execution_count": 158,
   "metadata": {},
   "outputs": [
    {
     "data": {
      "text/plain": [
       "array([0.01202846, 0.01623023, 0.01028424, ..., 0.        , 0.        ,\n",
       "       0.        ])"
      ]
     },
     "execution_count": 158,
     "metadata": {},
     "output_type": "execute_result"
    }
   ],
   "source": [
    "#each document expressed in a vector of fixed length - 2000 DIMENSIONS\n",
    "vectors_tfidf_reports_sparse[0]"
   ]
  },
  {
   "cell_type": "code",
   "execution_count": 159,
   "metadata": {},
   "outputs": [],
   "source": [
    "pca = PCA(n_components = 65)\n",
    "vectors_tfidf_reports_dim65=pca.fit_transform(vectors_tfidf_reports_sparse)"
   ]
  },
  {
   "cell_type": "code",
   "execution_count": 160,
   "metadata": {},
   "outputs": [],
   "source": [
    "with open(vectors_tfidf_reports_dim65_path, 'wb') as fw:\n",
    "    pickle.dump([vectors_tfidf_reports_dim65], fw)"
   ]
  },
  {
   "cell_type": "code",
   "execution_count": 161,
   "metadata": {},
   "outputs": [
    {
     "data": {
      "text/plain": [
       "array([ 1.51279124e-01,  4.19497748e-01, -8.16097078e-02, -6.63422974e-02,\n",
       "        2.28440244e-03,  5.61489562e-03, -3.01514996e-02,  2.15988207e-02,\n",
       "       -9.11795778e-02,  1.50347582e-02,  1.11765043e-01,  5.28897298e-01,\n",
       "       -2.34887770e-01,  7.63255311e-03, -6.32143282e-02,  6.42076924e-03,\n",
       "        3.36669291e-02, -2.87711540e-02,  3.65651486e-02, -2.65594375e-02,\n",
       "       -2.14650682e-03, -1.08466903e-02,  4.86267593e-02,  2.68442907e-02,\n",
       "       -2.28519626e-02,  7.82648109e-03, -6.38734409e-02,  7.86229063e-02,\n",
       "        4.19862262e-02,  5.20118342e-03, -2.13819825e-01, -3.80887713e-02,\n",
       "       -7.59027318e-02, -4.69875759e-02, -1.80256005e-03, -2.73853505e-02,\n",
       "       -1.15099591e-02,  7.30374415e-03,  1.93207507e-02, -1.25003928e-02,\n",
       "       -2.02446454e-03, -7.87004482e-03,  6.14565741e-03, -1.01459375e-02,\n",
       "       -7.78202289e-03, -1.64280915e-02, -1.42457066e-02, -9.59664864e-03,\n",
       "        5.23540714e-03,  2.29719089e-03,  2.63861646e-02,  4.08683577e-02,\n",
       "       -2.49071882e-02, -5.46244396e-03, -1.44906768e-02,  1.15236797e-02,\n",
       "        7.73218188e-03, -2.29499725e-02, -4.71782358e-02, -4.27121206e-02,\n",
       "        4.79835390e-01, -1.08307648e-02, -8.56060815e-04,  7.66558385e-03,\n",
       "        9.35133490e-16])"
      ]
     },
     "execution_count": 161,
     "metadata": {},
     "output_type": "execute_result"
    }
   ],
   "source": [
    "#each document expressed in a vector of fixed length - 65 DIMENSIONS (after dimensionality reduction process)\n",
    "vectors_tfidf_reports_dim65[0]"
   ]
  },
  {
   "cell_type": "markdown",
   "metadata": {},
   "source": [
    "### 2.2) From Planned Action Text"
   ]
  },
  {
   "cell_type": "code",
   "execution_count": 148,
   "metadata": {},
   "outputs": [],
   "source": [
    "MAX_NB_WORDS=20000\n",
    "dictionary_action_path = corpus_root+'data_dictionaries/Asia Pacific/Philippines/dictionary_action.pkl'\n",
    "vectors_tfidf_action_path = corpus_root+'data_vectors/Asia Pacific/Philippines/vectors_tfidf_action.pkl'\n",
    "vectors_tfidf_action_dim65_path = corpus_root+'data_vectors/Asia Pacific/Philippines/vectors_tfidf_action_dim65.pkl'"
   ]
  },
  {
   "cell_type": "code",
   "execution_count": 24,
   "metadata": {},
   "outputs": [
    {
     "name": "stdout",
     "output_type": "stream",
     "text": [
      "Total 7449 unique tokens.\n"
     ]
    }
   ],
   "source": [
    "dictionary_action = Dictionary([doc.split() for doc in baseline['Planned Action Preprocessed']])\n",
    "dictionary_action.filter_extremes(no_below=1, no_above=0.5, keep_n=MAX_NB_WORDS)\n",
    "dictionary_action.compactify()\n",
    "print('Total %s unique tokens.' % len(dictionary_action))"
   ]
  },
  {
   "cell_type": "code",
   "execution_count": 25,
   "metadata": {},
   "outputs": [
    {
     "data": {
      "text/plain": [
       "'loss'"
      ]
     },
     "execution_count": 25,
     "metadata": {},
     "output_type": "execute_result"
    }
   ],
   "source": [
    "#example of token in dictionary\n",
    "dictionary_action[900]"
   ]
  },
  {
   "cell_type": "code",
   "execution_count": 26,
   "metadata": {},
   "outputs": [],
   "source": [
    "with open(dictionary_action_path, 'wb') as fw:\n",
    "    pickle.dump(dictionary_action, fw)"
   ]
  },
  {
   "cell_type": "code",
   "execution_count": 27,
   "metadata": {},
   "outputs": [],
   "source": [
    "corpus = [dictionary_action.doc2bow(line) for line in [x.split() for x in baseline['Report Preprocessed']]]  # convert corpus to BoW format\n",
    "\n",
    "weight_model = TfidfModel(corpus)  # fit model\n",
    "\n",
    "vectors_tfidf_action=[]\n",
    "for x in corpus:\n",
    "    vectors_tfidf_action.append(weight_model[x])\n",
    "corpus = None"
   ]
  },
  {
   "cell_type": "code",
   "execution_count": 28,
   "metadata": {},
   "outputs": [
    {
     "data": {
      "text/plain": [
       "65"
      ]
     },
     "execution_count": 28,
     "metadata": {},
     "output_type": "execute_result"
    }
   ],
   "source": [
    "#a vector of term frequency-inverse document frequency by document\n",
    "len(vectors_tfidf_action)"
   ]
  },
  {
   "cell_type": "code",
   "execution_count": 29,
   "metadata": {},
   "outputs": [],
   "source": [
    "with open(vectors_tfidf_action_path, 'wb') as fw:\n",
    "    pickle.dump([vectors_tfidf_action], fw)"
   ]
  },
  {
   "cell_type": "code",
   "execution_count": 30,
   "metadata": {},
   "outputs": [],
   "source": [
    "# first sparsifying the TFIDF vectors\n",
    "vectors_tfidf_action_sparse=np.zeros((len(vectors_tfidf_action), MAX_NB_WORDS))\n",
    "for doc_i, doc in enumerate(vectors_tfidf_action):\n",
    "    for item in doc:\n",
    "        vectors_tfidf_action_sparse[doc_i][item[0]] = item[1]"
   ]
  },
  {
   "cell_type": "code",
   "execution_count": 31,
   "metadata": {},
   "outputs": [
    {
     "data": {
      "text/plain": [
       "array([0.00923321, 0.01160772, 0.01566252, ..., 0.        , 0.        ,\n",
       "       0.        ])"
      ]
     },
     "execution_count": 31,
     "metadata": {},
     "output_type": "execute_result"
    }
   ],
   "source": [
    "#each document expressed in a vector of fixed length - 2000 DIMENSIONS\n",
    "vectors_tfidf_action_sparse[0]"
   ]
  },
  {
   "cell_type": "code",
   "execution_count": 32,
   "metadata": {},
   "outputs": [],
   "source": [
    "pca = PCA(n_components = 65)\n",
    "vectors_tfidf_action_dim65=pca.fit_transform(vectors_tfidf_action_sparse)"
   ]
  },
  {
   "cell_type": "markdown",
   "metadata": {},
   "source": [
    "## 3) A Machine Learning approach for Information Extraction"
   ]
  },
  {
   "cell_type": "code",
   "execution_count": 33,
   "metadata": {},
   "outputs": [],
   "source": [
    "TEST_SPLIT = 0.3"
   ]
  },
  {
   "cell_type": "markdown",
   "metadata": {},
   "source": [
    "Training models"
   ]
  },
  {
   "cell_type": "code",
   "execution_count": 34,
   "metadata": {},
   "outputs": [],
   "source": [
    "def train(x, y, modelname):\n",
    "    if modelname=='Dummy':\n",
    "        clf = DummyClassifier(strategy='most_frequent')\n",
    "    elif modelname=='LogisticRegression':\n",
    "        clf = LogisticRegression(solver='lbfgs', multi_class='auto', max_iter=500)\n",
    "    elif modelname=='NaiveBayes':\n",
    "        clf = GaussianNB()\n",
    "    elif modelname=='SVC':\n",
    "        clf = SVC(kernel='sigmoid', gamma='auto')\n",
    "    elif modelname=='DecisionTree':\n",
    "        clf = DecisionTreeClassifier()\n",
    "    elif modelname=='RandomForest':\n",
    "        clf = RandomForestClassifier(n_estimators=100, random_state=1)\n",
    "    elif modelname=='Ensemble':\n",
    "        clf1 = GaussianNB()\n",
    "        clf2 = LogisticRegression(solver='liblinear', multi_class='auto')\n",
    "        clf3 = SVC(kernel='sigmoid', gamma='auto')\n",
    "        clf4 = RandomForestClassifier(n_estimators=100, random_state=1)\n",
    "        clf = VotingClassifier(estimators=[('nb', clf1), ('lr', clf2), ('svc', clf3), ('forest', clf4)], voting='hard')\n",
    "    else:\n",
    "        print ('No definition for the model name %s!' % modelname)\n",
    "    clf.fit(x, y) \n",
    "    \n",
    "    return clf\n"
   ]
  },
  {
   "cell_type": "markdown",
   "metadata": {},
   "source": [
    "### 3.1) General characteristics of community"
   ]
  },
  {
   "cell_type": "markdown",
   "metadata": {},
   "source": [
    "#### 3.1.1) Type of context"
   ]
  },
  {
   "cell_type": "code",
   "execution_count": 149,
   "metadata": {},
   "outputs": [
    {
     "data": {
      "text/html": [
       "<div>\n",
       "<style scoped>\n",
       "    .dataframe tbody tr th:only-of-type {\n",
       "        vertical-align: middle;\n",
       "    }\n",
       "\n",
       "    .dataframe tbody tr th {\n",
       "        vertical-align: top;\n",
       "    }\n",
       "\n",
       "    .dataframe thead th {\n",
       "        text-align: right;\n",
       "    }\n",
       "</style>\n",
       "<table border=\"1\" class=\"dataframe\">\n",
       "  <thead>\n",
       "    <tr style=\"text-align: right;\">\n",
       "      <th></th>\n",
       "      <th>0</th>\n",
       "      <th>1</th>\n",
       "      <th>2</th>\n",
       "      <th>3</th>\n",
       "      <th>4</th>\n",
       "      <th>5</th>\n",
       "      <th>6</th>\n",
       "      <th>7</th>\n",
       "      <th>8</th>\n",
       "      <th>9</th>\n",
       "      <th>...</th>\n",
       "      <th>48</th>\n",
       "      <th>49</th>\n",
       "      <th>50</th>\n",
       "      <th>51</th>\n",
       "      <th>52</th>\n",
       "      <th>53</th>\n",
       "      <th>54</th>\n",
       "      <th>55</th>\n",
       "      <th>56</th>\n",
       "      <th>Context</th>\n",
       "    </tr>\n",
       "  </thead>\n",
       "  <tbody>\n",
       "    <tr>\n",
       "      <th>63</th>\n",
       "      <td>-0.242114</td>\n",
       "      <td>-0.043175</td>\n",
       "      <td>-0.085252</td>\n",
       "      <td>0.021237</td>\n",
       "      <td>-0.059866</td>\n",
       "      <td>-0.093242</td>\n",
       "      <td>-0.139110</td>\n",
       "      <td>-0.094615</td>\n",
       "      <td>-0.042617</td>\n",
       "      <td>0.049522</td>\n",
       "      <td>...</td>\n",
       "      <td>-0.007508</td>\n",
       "      <td>-0.030612</td>\n",
       "      <td>0.051573</td>\n",
       "      <td>-0.004322</td>\n",
       "      <td>-0.002167</td>\n",
       "      <td>-0.005654</td>\n",
       "      <td>-0.004679</td>\n",
       "      <td>-0.003730</td>\n",
       "      <td>-0.005034</td>\n",
       "      <td>Rural</td>\n",
       "    </tr>\n",
       "    <tr>\n",
       "      <th>37</th>\n",
       "      <td>-0.036895</td>\n",
       "      <td>0.070082</td>\n",
       "      <td>0.385997</td>\n",
       "      <td>-0.107435</td>\n",
       "      <td>-0.051307</td>\n",
       "      <td>0.018583</td>\n",
       "      <td>-0.006310</td>\n",
       "      <td>-0.073386</td>\n",
       "      <td>0.055633</td>\n",
       "      <td>-0.162336</td>\n",
       "      <td>...</td>\n",
       "      <td>-0.016554</td>\n",
       "      <td>-0.024500</td>\n",
       "      <td>0.016167</td>\n",
       "      <td>-0.008724</td>\n",
       "      <td>-0.008972</td>\n",
       "      <td>0.001471</td>\n",
       "      <td>-0.001115</td>\n",
       "      <td>0.015210</td>\n",
       "      <td>-0.009296</td>\n",
       "      <td>Rural</td>\n",
       "    </tr>\n",
       "    <tr>\n",
       "      <th>57</th>\n",
       "      <td>0.207353</td>\n",
       "      <td>-0.138645</td>\n",
       "      <td>-0.045516</td>\n",
       "      <td>-0.012617</td>\n",
       "      <td>-0.005792</td>\n",
       "      <td>0.004517</td>\n",
       "      <td>0.035247</td>\n",
       "      <td>0.035658</td>\n",
       "      <td>-0.101697</td>\n",
       "      <td>-0.036679</td>\n",
       "      <td>...</td>\n",
       "      <td>0.040401</td>\n",
       "      <td>-0.010467</td>\n",
       "      <td>-0.028187</td>\n",
       "      <td>0.027337</td>\n",
       "      <td>0.009202</td>\n",
       "      <td>0.029040</td>\n",
       "      <td>0.023686</td>\n",
       "      <td>-0.004952</td>\n",
       "      <td>-0.007247</td>\n",
       "      <td>Rural</td>\n",
       "    </tr>\n",
       "  </tbody>\n",
       "</table>\n",
       "<p>3 rows × 58 columns</p>\n",
       "</div>"
      ],
      "text/plain": [
       "           0         1         2         3         4         5         6  \\\n",
       "63 -0.242114 -0.043175 -0.085252  0.021237 -0.059866 -0.093242 -0.139110   \n",
       "37 -0.036895  0.070082  0.385997 -0.107435 -0.051307  0.018583 -0.006310   \n",
       "57  0.207353 -0.138645 -0.045516 -0.012617 -0.005792  0.004517  0.035247   \n",
       "\n",
       "           7         8         9   ...           48        49        50  \\\n",
       "63 -0.094615 -0.042617  0.049522   ...    -0.007508 -0.030612  0.051573   \n",
       "37 -0.073386  0.055633 -0.162336   ...    -0.016554 -0.024500  0.016167   \n",
       "57  0.035658 -0.101697 -0.036679   ...     0.040401 -0.010467 -0.028187   \n",
       "\n",
       "          51        52        53        54        55        56  Context  \n",
       "63 -0.004322 -0.002167 -0.005654 -0.004679 -0.003730 -0.005034    Rural  \n",
       "37 -0.008724 -0.008972  0.001471 -0.001115  0.015210 -0.009296    Rural  \n",
       "57  0.027337  0.009202  0.029040  0.023686 -0.004952 -0.007247    Rural  \n",
       "\n",
       "[3 rows x 58 columns]"
      ]
     },
     "execution_count": 149,
     "metadata": {},
     "output_type": "execute_result"
    }
   ],
   "source": [
    "data_context = pd.DataFrame(vectors_tfidf_reports_dim65)\n",
    "data_context['Context'] = baseline['Type of context']\n",
    "data_context['Context'] = data_context['Context'].replace('Perirural-Periurban','Urban')\n",
    "data_context.sample(3)"
   ]
  },
  {
   "cell_type": "code",
   "execution_count": 60,
   "metadata": {},
   "outputs": [
    {
     "name": "stdout",
     "output_type": "stream",
     "text": [
      "Proportion of rural class observations:  0.815\n"
     ]
    }
   ],
   "source": [
    "#There is a high inbalance of classes... even if peri-rural peri-urban is considered as urban\n",
    "print('Proportion of rural class observations: ',np.round(np.sum(data_context['Context'] == 'Rural')/len(data_context), decimals = 3))"
   ]
  },
  {
   "cell_type": "code",
   "execution_count": 61,
   "metadata": {},
   "outputs": [
    {
     "name": "stdout",
     "output_type": "stream",
     "text": [
      "Labels caption and LabelIDs:\n",
      "{'Rural': 0, 'Urban': 1}\n"
     ]
    }
   ],
   "source": [
    "label_captions = list(data_context['Context'].unique())\n",
    "label_captions.sort()\n",
    "\n",
    "labels_caption2id={}\n",
    "for i, x in enumerate(label_captions):\n",
    "    labels_caption2id[x]=i\n",
    "    \n",
    "print (\"Labels caption and LabelIDs:\")\n",
    "print (labels_caption2id)\n",
    "\n",
    "labels=[]\n",
    "for x in data_context['Context']:\n",
    "    labels.append([labels_caption2id[x]])\n",
    "labels=np.array(labels)   "
   ]
  },
  {
   "cell_type": "code",
   "execution_count": 62,
   "metadata": {},
   "outputs": [
    {
     "data": {
      "text/html": [
       "<div>\n",
       "<style scoped>\n",
       "    .dataframe tbody tr th:only-of-type {\n",
       "        vertical-align: middle;\n",
       "    }\n",
       "\n",
       "    .dataframe tbody tr th {\n",
       "        vertical-align: top;\n",
       "    }\n",
       "\n",
       "    .dataframe thead th {\n",
       "        text-align: right;\n",
       "    }\n",
       "</style>\n",
       "<table border=\"1\" class=\"dataframe\">\n",
       "  <thead>\n",
       "    <tr style=\"text-align: right;\">\n",
       "      <th></th>\n",
       "      <th>0</th>\n",
       "      <th>1</th>\n",
       "      <th>2</th>\n",
       "      <th>3</th>\n",
       "      <th>4</th>\n",
       "      <th>5</th>\n",
       "      <th>6</th>\n",
       "      <th>7</th>\n",
       "      <th>8</th>\n",
       "      <th>9</th>\n",
       "      <th>...</th>\n",
       "      <th>56</th>\n",
       "      <th>57</th>\n",
       "      <th>58</th>\n",
       "      <th>59</th>\n",
       "      <th>60</th>\n",
       "      <th>61</th>\n",
       "      <th>62</th>\n",
       "      <th>63</th>\n",
       "      <th>64</th>\n",
       "      <th>Context</th>\n",
       "    </tr>\n",
       "  </thead>\n",
       "  <tbody>\n",
       "    <tr>\n",
       "      <th>2</th>\n",
       "      <td>-0.355118</td>\n",
       "      <td>-0.099976</td>\n",
       "      <td>-0.210628</td>\n",
       "      <td>-0.020801</td>\n",
       "      <td>-0.226698</td>\n",
       "      <td>0.405763</td>\n",
       "      <td>-0.136034</td>\n",
       "      <td>-0.262158</td>\n",
       "      <td>-0.058336</td>\n",
       "      <td>0.086057</td>\n",
       "      <td>...</td>\n",
       "      <td>-0.019611</td>\n",
       "      <td>-0.350773</td>\n",
       "      <td>-0.231458</td>\n",
       "      <td>-0.024175</td>\n",
       "      <td>-0.039076</td>\n",
       "      <td>0.019900</td>\n",
       "      <td>0.007682</td>\n",
       "      <td>0.001370</td>\n",
       "      <td>9.351335e-16</td>\n",
       "      <td>0</td>\n",
       "    </tr>\n",
       "    <tr>\n",
       "      <th>33</th>\n",
       "      <td>0.019281</td>\n",
       "      <td>0.041375</td>\n",
       "      <td>0.086577</td>\n",
       "      <td>0.591752</td>\n",
       "      <td>0.028803</td>\n",
       "      <td>-0.007231</td>\n",
       "      <td>-0.028990</td>\n",
       "      <td>-0.020369</td>\n",
       "      <td>0.020921</td>\n",
       "      <td>-0.075410</td>\n",
       "      <td>...</td>\n",
       "      <td>-0.039971</td>\n",
       "      <td>-0.028957</td>\n",
       "      <td>0.000038</td>\n",
       "      <td>-0.015025</td>\n",
       "      <td>-0.002607</td>\n",
       "      <td>0.000934</td>\n",
       "      <td>-0.008758</td>\n",
       "      <td>0.002607</td>\n",
       "      <td>9.351335e-16</td>\n",
       "      <td>1</td>\n",
       "    </tr>\n",
       "    <tr>\n",
       "      <th>6</th>\n",
       "      <td>-0.250860</td>\n",
       "      <td>-0.061030</td>\n",
       "      <td>-0.115270</td>\n",
       "      <td>-0.027623</td>\n",
       "      <td>0.069199</td>\n",
       "      <td>-0.057053</td>\n",
       "      <td>0.118419</td>\n",
       "      <td>0.476800</td>\n",
       "      <td>0.218001</td>\n",
       "      <td>-0.109452</td>\n",
       "      <td>...</td>\n",
       "      <td>0.028601</td>\n",
       "      <td>-0.003187</td>\n",
       "      <td>0.009262</td>\n",
       "      <td>-0.005088</td>\n",
       "      <td>0.008077</td>\n",
       "      <td>-0.002130</td>\n",
       "      <td>-0.003900</td>\n",
       "      <td>-0.002991</td>\n",
       "      <td>9.351335e-16</td>\n",
       "      <td>0</td>\n",
       "    </tr>\n",
       "  </tbody>\n",
       "</table>\n",
       "<p>3 rows × 66 columns</p>\n",
       "</div>"
      ],
      "text/plain": [
       "           0         1         2         3         4         5         6  \\\n",
       "2  -0.355118 -0.099976 -0.210628 -0.020801 -0.226698  0.405763 -0.136034   \n",
       "33  0.019281  0.041375  0.086577  0.591752  0.028803 -0.007231 -0.028990   \n",
       "6  -0.250860 -0.061030 -0.115270 -0.027623  0.069199 -0.057053  0.118419   \n",
       "\n",
       "           7         8         9   ...           56        57        58  \\\n",
       "2  -0.262158 -0.058336  0.086057   ...    -0.019611 -0.350773 -0.231458   \n",
       "33 -0.020369  0.020921 -0.075410   ...    -0.039971 -0.028957  0.000038   \n",
       "6   0.476800  0.218001 -0.109452   ...     0.028601 -0.003187  0.009262   \n",
       "\n",
       "          59        60        61        62        63            64  Context  \n",
       "2  -0.024175 -0.039076  0.019900  0.007682  0.001370  9.351335e-16        0  \n",
       "33 -0.015025 -0.002607  0.000934 -0.008758  0.002607  9.351335e-16        1  \n",
       "6  -0.005088  0.008077 -0.002130 -0.003900 -0.002991  9.351335e-16        0  \n",
       "\n",
       "[3 rows x 66 columns]"
      ]
     },
     "execution_count": 62,
     "metadata": {},
     "output_type": "execute_result"
    }
   ],
   "source": [
    "data_context['Context'] = labels\n",
    "data_context.sample(3)"
   ]
  },
  {
   "cell_type": "code",
   "execution_count": 55,
   "metadata": {},
   "outputs": [
    {
     "name": "stdout",
     "output_type": "stream",
     "text": [
      "TFIDF vectors Train/Test shapes : (45, 65) / (20, 65)\n"
     ]
    }
   ],
   "source": [
    "x_train, x_test, y_train, y_test = train_test_split(data_context.iloc[:,0:65], data_context['Context'], test_size=TEST_SPLIT, random_state=42)\n",
    "\n",
    "#total number of observations\n",
    "print (\"TFIDF vectors Train/Test shapes : %s / %s\" % (str(x_train.shape), str(x_test.shape)))"
   ]
  },
  {
   "cell_type": "code",
   "execution_count": 56,
   "metadata": {},
   "outputs": [
    {
     "name": "stdout",
     "output_type": "stream",
     "text": [
      "Dummy\n",
      "DummyClassifier(constant=None, random_state=None, strategy='most_frequent')\n",
      "[0 0 0 0 0 0 0 0 0 0 0 0 0 0 0 0 0 0 0 0]\n",
      "LogisticRegression\n",
      "LogisticRegression(C=1.0, class_weight=None, dual=False, fit_intercept=True,\n",
      "          intercept_scaling=1, max_iter=500, multi_class='auto',\n",
      "          n_jobs=None, penalty='l2', random_state=None, solver='lbfgs',\n",
      "          tol=0.0001, verbose=0, warm_start=False)\n",
      "[0 0 0 0 0 0 0 0 0 0 0 0 0 0 0 0 0 0 0 0]\n",
      "NaiveBayes\n",
      "GaussianNB(priors=None, var_smoothing=1e-09)\n",
      "[0 0 0 0 0 1 0 0 0 0 1 0 0 0 1 0 0 0 0 0]\n",
      "SVC\n",
      "SVC(C=1.0, cache_size=200, class_weight=None, coef0=0.0,\n",
      "  decision_function_shape='ovr', degree=3, gamma='auto', kernel='sigmoid',\n",
      "  max_iter=-1, probability=False, random_state=None, shrinking=True,\n",
      "  tol=0.001, verbose=False)\n",
      "[0 0 0 0 0 0 0 0 0 0 0 0 0 0 0 0 0 0 0 0]\n",
      "DecisionTree\n",
      "DecisionTreeClassifier(class_weight=None, criterion='gini', max_depth=None,\n",
      "            max_features=None, max_leaf_nodes=None,\n",
      "            min_impurity_decrease=0.0, min_impurity_split=None,\n",
      "            min_samples_leaf=1, min_samples_split=2,\n",
      "            min_weight_fraction_leaf=0.0, presort=False, random_state=None,\n",
      "            splitter='best')\n",
      "[0 0 0 0 0 0 0 0 0 0 1 0 0 0 1 0 0 0 0 0]\n",
      "RandomForest\n",
      "RandomForestClassifier(bootstrap=True, class_weight=None, criterion='gini',\n",
      "            max_depth=None, max_features='auto', max_leaf_nodes=None,\n",
      "            min_impurity_decrease=0.0, min_impurity_split=None,\n",
      "            min_samples_leaf=1, min_samples_split=2,\n",
      "            min_weight_fraction_leaf=0.0, n_estimators=100, n_jobs=None,\n",
      "            oob_score=False, random_state=1, verbose=0, warm_start=False)\n",
      "[0 0 0 0 0 0 0 0 0 0 0 0 0 0 0 0 0 0 0 0]\n",
      "Ensemble\n",
      "VotingClassifier(estimators=[('nb', GaussianNB(priors=None, var_smoothing=1e-09)), ('lr', LogisticRegression(C=1.0, class_weight=None, dual=False, fit_intercept=True,\n",
      "          intercept_scaling=1, max_iter=100, multi_class='auto',\n",
      "          n_jobs=None, penalty='l2', random_state=None, solver='liblinear',\n",
      "         ...mators=100, n_jobs=None,\n",
      "            oob_score=False, random_state=1, verbose=0, warm_start=False))],\n",
      "         flatten_transform=None, n_jobs=None, voting='hard', weights=None)\n",
      "[0 0 0 0 0 0 0 0 0 0 0 0 0 0 0 0 0 0 0 0]\n",
      "done!\n"
     ]
    }
   ],
   "source": [
    "modelnames = ['Dummy','LogisticRegression','NaiveBayes','SVC','DecisionTree','RandomForest','Ensemble']\n",
    "yhat = {}\n",
    "for modelname in modelnames:\n",
    "    print (modelname)\n",
    "    model = train(x_train, y_train, modelname)\n",
    "    print (model)\n",
    "    \n",
    "    yhat[modelname] = model.predict(x_test)\n",
    "    print (yhat[modelname])\n",
    "    \n",
    "print ('done!')"
   ]
  },
  {
   "cell_type": "markdown",
   "metadata": {},
   "source": [
    "Evaluation"
   ]
  },
  {
   "cell_type": "code",
   "execution_count": 57,
   "metadata": {},
   "outputs": [
    {
     "name": "stdout",
     "output_type": "stream",
     "text": [
      "Dummy\n",
      "              precision    recall  f1-score   support\n",
      "\n",
      "           0       0.75      1.00      0.86        15\n",
      "           1       0.00      0.00      0.00         5\n",
      "\n",
      "   micro avg       0.75      0.75      0.75        20\n",
      "   macro avg       0.38      0.50      0.43        20\n",
      "weighted avg       0.56      0.75      0.64        20\n",
      "\n",
      "LogisticRegression\n",
      "              precision    recall  f1-score   support\n",
      "\n",
      "           0       0.75      1.00      0.86        15\n",
      "           1       0.00      0.00      0.00         5\n",
      "\n",
      "   micro avg       0.75      0.75      0.75        20\n",
      "   macro avg       0.38      0.50      0.43        20\n",
      "weighted avg       0.56      0.75      0.64        20\n",
      "\n",
      "NaiveBayes\n",
      "              precision    recall  f1-score   support\n",
      "\n",
      "           0       0.82      0.93      0.87        15\n",
      "           1       0.67      0.40      0.50         5\n",
      "\n",
      "   micro avg       0.80      0.80      0.80        20\n",
      "   macro avg       0.75      0.67      0.69        20\n",
      "weighted avg       0.78      0.80      0.78        20\n",
      "\n",
      "SVC\n",
      "              precision    recall  f1-score   support\n",
      "\n",
      "           0       0.75      1.00      0.86        15\n",
      "           1       0.00      0.00      0.00         5\n",
      "\n",
      "   micro avg       0.75      0.75      0.75        20\n",
      "   macro avg       0.38      0.50      0.43        20\n",
      "weighted avg       0.56      0.75      0.64        20\n",
      "\n",
      "DecisionTree\n",
      "              precision    recall  f1-score   support\n",
      "\n",
      "           0       0.83      1.00      0.91        15\n",
      "           1       1.00      0.40      0.57         5\n",
      "\n",
      "   micro avg       0.85      0.85      0.85        20\n",
      "   macro avg       0.92      0.70      0.74        20\n",
      "weighted avg       0.88      0.85      0.82        20\n",
      "\n",
      "RandomForest\n",
      "              precision    recall  f1-score   support\n",
      "\n",
      "           0       0.75      1.00      0.86        15\n",
      "           1       0.00      0.00      0.00         5\n",
      "\n",
      "   micro avg       0.75      0.75      0.75        20\n",
      "   macro avg       0.38      0.50      0.43        20\n",
      "weighted avg       0.56      0.75      0.64        20\n",
      "\n",
      "Ensemble\n",
      "              precision    recall  f1-score   support\n",
      "\n",
      "           0       0.75      1.00      0.86        15\n",
      "           1       0.00      0.00      0.00         5\n",
      "\n",
      "   micro avg       0.75      0.75      0.75        20\n",
      "   macro avg       0.38      0.50      0.43        20\n",
      "weighted avg       0.56      0.75      0.64        20\n",
      "\n"
     ]
    },
    {
     "name": "stderr",
     "output_type": "stream",
     "text": [
      "C:\\Users\\Paola.YELA\\AppData\\Local\\Continuum\\anaconda3\\lib\\site-packages\\sklearn\\metrics\\classification.py:1143: UndefinedMetricWarning: Precision and F-score are ill-defined and being set to 0.0 in labels with no predicted samples.\n",
      "  'precision', 'predicted', average, warn_for)\n"
     ]
    }
   ],
   "source": [
    "# Now evaluate\n",
    "results={}\n",
    "for modelname in yhat:\n",
    "    print (modelname)\n",
    "    results[modelname] = classification_report(y_test, yhat[modelname], output_dict=True)\n",
    "    print (classification_report(y_test, yhat[modelname]))"
   ]
  },
  {
   "cell_type": "markdown",
   "metadata": {},
   "source": [
    "Plots"
   ]
  },
  {
   "cell_type": "code",
   "execution_count": 58,
   "metadata": {},
   "outputs": [
    {
     "data": {
      "image/png": "[encoded data removed]",
      "text/plain": [
       "<Figure size 576x432 with 1 Axes>"
      ]
     },
     "metadata": {
      "needs_background": "light"
     },
     "output_type": "display_data"
    }
   ],
   "source": [
    "EVAL_AVGTYPE = 'weighted avg'\n",
    "EVAL_MEASURE = 'precision'\n",
    "\n",
    "fig = plt.figure(figsize=(8,6)) \n",
    "\n",
    "labels = modelnames\n",
    "data = [results[x][EVAL_AVGTYPE][EVAL_MEASURE] for x in labels]\n",
    "\n",
    "plt.bar(labels, data, color='#E32219',alpha = .8)\n",
    "    \n",
    "plt.ylabel(EVAL_MEASURE, fontsize=18)\n",
    "plt.tick_params(axis='both', which='major', labelsize=16)\n",
    "plt.tick_params(axis='both', which='minor', labelsize=12)\n",
    "plt.xticks(rotation=90)\n",
    "\n",
    "plt.show()"
   ]
  },
  {
   "cell_type": "markdown",
   "metadata": {},
   "source": [
    "### 3.2) General characteristics of VCA process/report"
   ]
  },
  {
   "cell_type": "markdown",
   "metadata": {},
   "source": [
    "#### 3.2.1) Considers climate change"
   ]
  },
  {
   "cell_type": "code",
   "execution_count": 63,
   "metadata": {},
   "outputs": [
    {
     "data": {
      "text/html": [
       "<div>\n",
       "<style scoped>\n",
       "    .dataframe tbody tr th:only-of-type {\n",
       "        vertical-align: middle;\n",
       "    }\n",
       "\n",
       "    .dataframe tbody tr th {\n",
       "        vertical-align: top;\n",
       "    }\n",
       "\n",
       "    .dataframe thead th {\n",
       "        text-align: right;\n",
       "    }\n",
       "</style>\n",
       "<table border=\"1\" class=\"dataframe\">\n",
       "  <thead>\n",
       "    <tr style=\"text-align: right;\">\n",
       "      <th></th>\n",
       "      <th>0</th>\n",
       "      <th>1</th>\n",
       "      <th>2</th>\n",
       "      <th>3</th>\n",
       "      <th>4</th>\n",
       "      <th>5</th>\n",
       "      <th>6</th>\n",
       "      <th>7</th>\n",
       "      <th>8</th>\n",
       "      <th>9</th>\n",
       "      <th>...</th>\n",
       "      <th>56</th>\n",
       "      <th>57</th>\n",
       "      <th>58</th>\n",
       "      <th>59</th>\n",
       "      <th>60</th>\n",
       "      <th>61</th>\n",
       "      <th>62</th>\n",
       "      <th>63</th>\n",
       "      <th>64</th>\n",
       "      <th>Climate</th>\n",
       "    </tr>\n",
       "  </thead>\n",
       "  <tbody>\n",
       "    <tr>\n",
       "      <th>30</th>\n",
       "      <td>-0.039004</td>\n",
       "      <td>0.060057</td>\n",
       "      <td>0.347022</td>\n",
       "      <td>-0.091153</td>\n",
       "      <td>-0.032372</td>\n",
       "      <td>0.030452</td>\n",
       "      <td>-0.002567</td>\n",
       "      <td>-0.026956</td>\n",
       "      <td>0.046849</td>\n",
       "      <td>-0.142825</td>\n",
       "      <td>...</td>\n",
       "      <td>0.006959</td>\n",
       "      <td>-0.002742</td>\n",
       "      <td>0.008529</td>\n",
       "      <td>0.001940</td>\n",
       "      <td>-0.004329</td>\n",
       "      <td>0.007149</td>\n",
       "      <td>0.001182</td>\n",
       "      <td>0.000317</td>\n",
       "      <td>9.351335e-16</td>\n",
       "      <td>1</td>\n",
       "    </tr>\n",
       "    <tr>\n",
       "      <th>43</th>\n",
       "      <td>-0.051226</td>\n",
       "      <td>0.068850</td>\n",
       "      <td>0.419180</td>\n",
       "      <td>-0.085052</td>\n",
       "      <td>-0.040415</td>\n",
       "      <td>0.016302</td>\n",
       "      <td>-0.001494</td>\n",
       "      <td>0.055178</td>\n",
       "      <td>-0.060566</td>\n",
       "      <td>0.204003</td>\n",
       "      <td>...</td>\n",
       "      <td>0.003245</td>\n",
       "      <td>0.001168</td>\n",
       "      <td>0.019516</td>\n",
       "      <td>-0.012738</td>\n",
       "      <td>-0.022754</td>\n",
       "      <td>0.001871</td>\n",
       "      <td>0.003724</td>\n",
       "      <td>0.001837</td>\n",
       "      <td>9.351335e-16</td>\n",
       "      <td>1</td>\n",
       "    </tr>\n",
       "    <tr>\n",
       "      <th>46</th>\n",
       "      <td>0.435999</td>\n",
       "      <td>-0.333335</td>\n",
       "      <td>-0.096734</td>\n",
       "      <td>-0.058260</td>\n",
       "      <td>-0.007066</td>\n",
       "      <td>-0.037990</td>\n",
       "      <td>-0.043022</td>\n",
       "      <td>-0.122349</td>\n",
       "      <td>0.339005</td>\n",
       "      <td>0.158950</td>\n",
       "      <td>...</td>\n",
       "      <td>-0.002242</td>\n",
       "      <td>0.032228</td>\n",
       "      <td>-0.012447</td>\n",
       "      <td>-0.013979</td>\n",
       "      <td>0.011780</td>\n",
       "      <td>0.367458</td>\n",
       "      <td>-0.297909</td>\n",
       "      <td>0.001440</td>\n",
       "      <td>9.351335e-16</td>\n",
       "      <td>1</td>\n",
       "    </tr>\n",
       "  </tbody>\n",
       "</table>\n",
       "<p>3 rows × 66 columns</p>\n",
       "</div>"
      ],
      "text/plain": [
       "           0         1         2         3         4         5         6  \\\n",
       "30 -0.039004  0.060057  0.347022 -0.091153 -0.032372  0.030452 -0.002567   \n",
       "43 -0.051226  0.068850  0.419180 -0.085052 -0.040415  0.016302 -0.001494   \n",
       "46  0.435999 -0.333335 -0.096734 -0.058260 -0.007066 -0.037990 -0.043022   \n",
       "\n",
       "           7         8         9   ...           56        57        58  \\\n",
       "30 -0.026956  0.046849 -0.142825   ...     0.006959 -0.002742  0.008529   \n",
       "43  0.055178 -0.060566  0.204003   ...     0.003245  0.001168  0.019516   \n",
       "46 -0.122349  0.339005  0.158950   ...    -0.002242  0.032228 -0.012447   \n",
       "\n",
       "          59        60        61        62        63            64  Climate  \n",
       "30  0.001940 -0.004329  0.007149  0.001182  0.000317  9.351335e-16        1  \n",
       "43 -0.012738 -0.022754  0.001871  0.003724  0.001837  9.351335e-16        1  \n",
       "46 -0.013979  0.011780  0.367458 -0.297909  0.001440  9.351335e-16        1  \n",
       "\n",
       "[3 rows x 66 columns]"
      ]
     },
     "execution_count": 63,
     "metadata": {},
     "output_type": "execute_result"
    }
   ],
   "source": [
    "data_climate = pd.DataFrame(vectors_tfidf_reports_dim65)\n",
    "data_climate['Climate'] = baseline['Considers climate change']\n",
    "data_climate.sample(3)"
   ]
  },
  {
   "cell_type": "code",
   "execution_count": 64,
   "metadata": {},
   "outputs": [
    {
     "name": "stdout",
     "output_type": "stream",
     "text": [
      "Proportion of \"considers climate\" class observations:  0.585\n"
     ]
    }
   ],
   "source": [
    "# well balanced classes :)\n",
    "print('Proportion of \"considers climate\" class observations: ',np.round(np.sum(data_climate['Climate'])/len(data_climate), decimals = 3))"
   ]
  },
  {
   "cell_type": "code",
   "execution_count": 65,
   "metadata": {},
   "outputs": [
    {
     "name": "stdout",
     "output_type": "stream",
     "text": [
      "TFIDF vectors Train/Test shapes : (45, 65) / (20, 65)\n"
     ]
    }
   ],
   "source": [
    "x_train, x_test, y_train, y_test = train_test_split(data_climate.iloc[:,0:65], data_climate['Climate'], test_size=TEST_SPLIT, random_state=42)\n",
    "#x_train, x_val, y_train, y_val = train_test_split(x_train, y_train, test_size=TEST_SPLIT, random_state=43)\n",
    "\n",
    "#total number of observations\n",
    "print (\"TFIDF vectors Train/Test shapes : %s / %s\" % (str(x_train.shape), str(x_test.shape)))"
   ]
  },
  {
   "cell_type": "code",
   "execution_count": 66,
   "metadata": {},
   "outputs": [
    {
     "name": "stdout",
     "output_type": "stream",
     "text": [
      "Dummy\n",
      "DummyClassifier(constant=None, random_state=None, strategy='most_frequent')\n",
      "[1 1 1 1 1 1 1 1 1 1 1 1 1 1 1 1 1 1 1 1]\n",
      "LogisticRegression\n",
      "LogisticRegression(C=1.0, class_weight=None, dual=False, fit_intercept=True,\n",
      "          intercept_scaling=1, max_iter=500, multi_class='auto',\n",
      "          n_jobs=None, penalty='l2', random_state=None, solver='lbfgs',\n",
      "          tol=0.0001, verbose=0, warm_start=False)\n",
      "[1 1 1 1 0 1 0 1 0 1 1 1 1 1 1 0 0 0 1 1]\n",
      "NaiveBayes\n",
      "GaussianNB(priors=None, var_smoothing=1e-09)\n",
      "[1 1 0 1 0 1 0 1 0 0 1 1 1 1 1 0 0 0 1 0]\n",
      "SVC\n",
      "SVC(C=1.0, cache_size=200, class_weight=None, coef0=0.0,\n",
      "  decision_function_shape='ovr', degree=3, gamma='auto', kernel='sigmoid',\n",
      "  max_iter=-1, probability=False, random_state=None, shrinking=True,\n",
      "  tol=0.001, verbose=False)\n",
      "[1 1 1 1 1 1 1 1 1 1 1 1 1 1 1 1 1 1 1 1]\n",
      "DecisionTree\n",
      "DecisionTreeClassifier(class_weight=None, criterion='gini', max_depth=None,\n",
      "            max_features=None, max_leaf_nodes=None,\n",
      "            min_impurity_decrease=0.0, min_impurity_split=None,\n",
      "            min_samples_leaf=1, min_samples_split=2,\n",
      "            min_weight_fraction_leaf=0.0, presort=False, random_state=None,\n",
      "            splitter='best')\n",
      "[1 1 1 1 0 1 0 1 0 1 1 1 1 1 1 0 0 0 1 1]\n",
      "RandomForest\n",
      "RandomForestClassifier(bootstrap=True, class_weight=None, criterion='gini',\n",
      "            max_depth=None, max_features='auto', max_leaf_nodes=None,\n",
      "            min_impurity_decrease=0.0, min_impurity_split=None,\n",
      "            min_samples_leaf=1, min_samples_split=2,\n",
      "            min_weight_fraction_leaf=0.0, n_estimators=100, n_jobs=None,\n",
      "            oob_score=False, random_state=1, verbose=0, warm_start=False)\n",
      "[1 1 1 1 0 1 0 1 0 1 1 1 1 1 1 0 0 0 1 1]\n",
      "Ensemble\n",
      "VotingClassifier(estimators=[('nb', GaussianNB(priors=None, var_smoothing=1e-09)), ('lr', LogisticRegression(C=1.0, class_weight=None, dual=False, fit_intercept=True,\n",
      "          intercept_scaling=1, max_iter=100, multi_class='auto',\n",
      "          n_jobs=None, penalty='l2', random_state=None, solver='liblinear',\n",
      "         ...mators=100, n_jobs=None,\n",
      "            oob_score=False, random_state=1, verbose=0, warm_start=False))],\n",
      "         flatten_transform=None, n_jobs=None, voting='hard', weights=None)\n",
      "[1 1 1 1 0 1 0 1 0 1 1 1 1 1 1 0 0 0 1 1]\n",
      "done!\n"
     ]
    }
   ],
   "source": [
    "#Train models\n",
    "modelnames = ['Dummy','LogisticRegression','NaiveBayes','SVC','DecisionTree','RandomForest','Ensemble']\n",
    "yhat = {}\n",
    "for modelname in modelnames:\n",
    "    print (modelname)\n",
    "    model = train(x_train, y_train, modelname)\n",
    "    print (model)\n",
    "    \n",
    "    yhat[modelname] = model.predict(x_test)\n",
    "    print (yhat[modelname])\n",
    "    \n",
    "print ('done!')"
   ]
  },
  {
   "cell_type": "code",
   "execution_count": 67,
   "metadata": {},
   "outputs": [
    {
     "name": "stdout",
     "output_type": "stream",
     "text": [
      "Dummy\n",
      "              precision    recall  f1-score   support\n",
      "\n",
      "           0       0.00      0.00      0.00         9\n",
      "           1       0.55      1.00      0.71        11\n",
      "\n",
      "   micro avg       0.55      0.55      0.55        20\n",
      "   macro avg       0.28      0.50      0.35        20\n",
      "weighted avg       0.30      0.55      0.39        20\n",
      "\n",
      "LogisticRegression\n",
      "              precision    recall  f1-score   support\n",
      "\n",
      "           0       1.00      0.67      0.80         9\n",
      "           1       0.79      1.00      0.88        11\n",
      "\n",
      "   micro avg       0.85      0.85      0.85        20\n",
      "   macro avg       0.89      0.83      0.84        20\n",
      "weighted avg       0.88      0.85      0.84        20\n",
      "\n",
      "NaiveBayes\n",
      "              precision    recall  f1-score   support\n",
      "\n",
      "           0       0.67      0.67      0.67         9\n",
      "           1       0.73      0.73      0.73        11\n",
      "\n",
      "   micro avg       0.70      0.70      0.70        20\n",
      "   macro avg       0.70      0.70      0.70        20\n",
      "weighted avg       0.70      0.70      0.70        20\n",
      "\n",
      "SVC\n",
      "              precision    recall  f1-score   support\n",
      "\n",
      "           0       0.00      0.00      0.00         9\n",
      "           1       0.55      1.00      0.71        11\n",
      "\n",
      "   micro avg       0.55      0.55      0.55        20\n",
      "   macro avg       0.28      0.50      0.35        20\n",
      "weighted avg       0.30      0.55      0.39        20\n",
      "\n",
      "DecisionTree\n",
      "              precision    recall  f1-score   support\n",
      "\n",
      "           0       1.00      0.67      0.80         9\n",
      "           1       0.79      1.00      0.88        11\n",
      "\n",
      "   micro avg       0.85      0.85      0.85        20\n",
      "   macro avg       0.89      0.83      0.84        20\n",
      "weighted avg       0.88      0.85      0.84        20\n",
      "\n",
      "RandomForest\n",
      "              precision    recall  f1-score   support\n",
      "\n",
      "           0       1.00      0.67      0.80         9\n",
      "           1       0.79      1.00      0.88        11\n",
      "\n",
      "   micro avg       0.85      0.85      0.85        20\n",
      "   macro avg       0.89      0.83      0.84        20\n",
      "weighted avg       0.88      0.85      0.84        20\n",
      "\n",
      "Ensemble\n",
      "              precision    recall  f1-score   support\n",
      "\n",
      "           0       1.00      0.67      0.80         9\n",
      "           1       0.79      1.00      0.88        11\n",
      "\n",
      "   micro avg       0.85      0.85      0.85        20\n",
      "   macro avg       0.89      0.83      0.84        20\n",
      "weighted avg       0.88      0.85      0.84        20\n",
      "\n"
     ]
    },
    {
     "name": "stderr",
     "output_type": "stream",
     "text": [
      "C:\\Users\\Paola.YELA\\AppData\\Local\\Continuum\\anaconda3\\lib\\site-packages\\sklearn\\metrics\\classification.py:1143: UndefinedMetricWarning: Precision and F-score are ill-defined and being set to 0.0 in labels with no predicted samples.\n",
      "  'precision', 'predicted', average, warn_for)\n"
     ]
    }
   ],
   "source": [
    "# Now evaluate\n",
    "results={}\n",
    "for modelname in yhat:\n",
    "    print (modelname)\n",
    "    results[modelname] = classification_report(y_test, yhat[modelname], output_dict=True)\n",
    "    print (classification_report(y_test, yhat[modelname]))"
   ]
  },
  {
   "cell_type": "code",
   "execution_count": 68,
   "metadata": {
    "scrolled": true
   },
   "outputs": [
    {
     "data": {
      "image/png": "[encoded data removed]",
      "text/plain": [
       "<Figure size 576x432 with 1 Axes>"
      ]
     },
     "metadata": {
      "needs_background": "light"
     },
     "output_type": "display_data"
    }
   ],
   "source": [
    "#Now plot\n",
    "EVAL_AVGTYPE = 'weighted avg'\n",
    "EVAL_MEASURE = 'precision'\n",
    "\n",
    "fig = plt.figure(figsize=(8,6)) \n",
    "\n",
    "labels = modelnames\n",
    "data = [results[x][EVAL_AVGTYPE][EVAL_MEASURE] for x in labels]\n",
    "\n",
    "plt.bar(labels, data, color='#E32219',alpha = .8)\n",
    "    \n",
    "plt.ylabel(EVAL_MEASURE, fontsize=18)\n",
    "plt.tick_params(axis='both', which='major', labelsize=16)\n",
    "plt.tick_params(axis='both', which='minor', labelsize=12)\n",
    "plt.xticks(rotation=90)\n",
    "\n",
    "plt.show()"
   ]
  },
  {
   "cell_type": "markdown",
   "metadata": {},
   "source": [
    "#### 3.2.2) Disaggregate gender"
   ]
  },
  {
   "cell_type": "code",
   "execution_count": 69,
   "metadata": {},
   "outputs": [
    {
     "data": {
      "text/html": [
       "<div>\n",
       "<style scoped>\n",
       "    .dataframe tbody tr th:only-of-type {\n",
       "        vertical-align: middle;\n",
       "    }\n",
       "\n",
       "    .dataframe tbody tr th {\n",
       "        vertical-align: top;\n",
       "    }\n",
       "\n",
       "    .dataframe thead th {\n",
       "        text-align: right;\n",
       "    }\n",
       "</style>\n",
       "<table border=\"1\" class=\"dataframe\">\n",
       "  <thead>\n",
       "    <tr style=\"text-align: right;\">\n",
       "      <th></th>\n",
       "      <th>0</th>\n",
       "      <th>1</th>\n",
       "      <th>2</th>\n",
       "      <th>3</th>\n",
       "      <th>4</th>\n",
       "      <th>5</th>\n",
       "      <th>6</th>\n",
       "      <th>7</th>\n",
       "      <th>8</th>\n",
       "      <th>9</th>\n",
       "      <th>...</th>\n",
       "      <th>56</th>\n",
       "      <th>57</th>\n",
       "      <th>58</th>\n",
       "      <th>59</th>\n",
       "      <th>60</th>\n",
       "      <th>61</th>\n",
       "      <th>62</th>\n",
       "      <th>63</th>\n",
       "      <th>64</th>\n",
       "      <th>Gender</th>\n",
       "    </tr>\n",
       "  </thead>\n",
       "  <tbody>\n",
       "    <tr>\n",
       "      <th>10</th>\n",
       "      <td>0.170861</td>\n",
       "      <td>0.466220</td>\n",
       "      <td>-0.179660</td>\n",
       "      <td>-0.043863</td>\n",
       "      <td>-0.012640</td>\n",
       "      <td>-0.007860</td>\n",
       "      <td>0.010396</td>\n",
       "      <td>-0.001546</td>\n",
       "      <td>0.019989</td>\n",
       "      <td>-0.018934</td>\n",
       "      <td>...</td>\n",
       "      <td>0.005350</td>\n",
       "      <td>-0.005779</td>\n",
       "      <td>0.009429</td>\n",
       "      <td>-0.020491</td>\n",
       "      <td>0.035613</td>\n",
       "      <td>-0.007507</td>\n",
       "      <td>-0.029272</td>\n",
       "      <td>0.001321</td>\n",
       "      <td>9.351335e-16</td>\n",
       "      <td>0</td>\n",
       "    </tr>\n",
       "    <tr>\n",
       "      <th>49</th>\n",
       "      <td>0.300208</td>\n",
       "      <td>-0.267844</td>\n",
       "      <td>-0.078409</td>\n",
       "      <td>-0.030790</td>\n",
       "      <td>-0.023025</td>\n",
       "      <td>0.099189</td>\n",
       "      <td>0.001090</td>\n",
       "      <td>0.050306</td>\n",
       "      <td>-0.308164</td>\n",
       "      <td>-0.208238</td>\n",
       "      <td>...</td>\n",
       "      <td>0.025189</td>\n",
       "      <td>0.081484</td>\n",
       "      <td>-0.153669</td>\n",
       "      <td>-0.064443</td>\n",
       "      <td>-0.022176</td>\n",
       "      <td>0.003117</td>\n",
       "      <td>0.000613</td>\n",
       "      <td>0.002628</td>\n",
       "      <td>9.351335e-16</td>\n",
       "      <td>1</td>\n",
       "    </tr>\n",
       "    <tr>\n",
       "      <th>58</th>\n",
       "      <td>0.266001</td>\n",
       "      <td>-0.199345</td>\n",
       "      <td>-0.054510</td>\n",
       "      <td>-0.003061</td>\n",
       "      <td>-0.034952</td>\n",
       "      <td>0.010566</td>\n",
       "      <td>0.009736</td>\n",
       "      <td>0.037210</td>\n",
       "      <td>-0.180968</td>\n",
       "      <td>-0.119031</td>\n",
       "      <td>...</td>\n",
       "      <td>-0.015895</td>\n",
       "      <td>0.042185</td>\n",
       "      <td>-0.001804</td>\n",
       "      <td>-0.005081</td>\n",
       "      <td>-0.008457</td>\n",
       "      <td>0.009506</td>\n",
       "      <td>-0.000269</td>\n",
       "      <td>0.000821</td>\n",
       "      <td>9.351335e-16</td>\n",
       "      <td>1</td>\n",
       "    </tr>\n",
       "  </tbody>\n",
       "</table>\n",
       "<p>3 rows × 66 columns</p>\n",
       "</div>"
      ],
      "text/plain": [
       "           0         1         2         3         4         5         6  \\\n",
       "10  0.170861  0.466220 -0.179660 -0.043863 -0.012640 -0.007860  0.010396   \n",
       "49  0.300208 -0.267844 -0.078409 -0.030790 -0.023025  0.099189  0.001090   \n",
       "58  0.266001 -0.199345 -0.054510 -0.003061 -0.034952  0.010566  0.009736   \n",
       "\n",
       "           7         8         9   ...          56        57        58  \\\n",
       "10 -0.001546  0.019989 -0.018934   ...    0.005350 -0.005779  0.009429   \n",
       "49  0.050306 -0.308164 -0.208238   ...    0.025189  0.081484 -0.153669   \n",
       "58  0.037210 -0.180968 -0.119031   ...   -0.015895  0.042185 -0.001804   \n",
       "\n",
       "          59        60        61        62        63            64  Gender  \n",
       "10 -0.020491  0.035613 -0.007507 -0.029272  0.001321  9.351335e-16       0  \n",
       "49 -0.064443 -0.022176  0.003117  0.000613  0.002628  9.351335e-16       1  \n",
       "58 -0.005081 -0.008457  0.009506 -0.000269  0.000821  9.351335e-16       1  \n",
       "\n",
       "[3 rows x 66 columns]"
      ]
     },
     "execution_count": 69,
     "metadata": {},
     "output_type": "execute_result"
    }
   ],
   "source": [
    "data_gender = pd.DataFrame(vectors_tfidf_reports_dim65)\n",
    "data_gender['Gender'] = baseline['Disaggregate gender']\n",
    "data_gender.sample(3)"
   ]
  },
  {
   "cell_type": "code",
   "execution_count": 70,
   "metadata": {},
   "outputs": [
    {
     "name": "stdout",
     "output_type": "stream",
     "text": [
      "Proportion of \"considers gender\" class observations:  0.277\n"
     ]
    }
   ],
   "source": [
    "# not-that-bad balanced classes\n",
    "print('Proportion of \"considers gender\" class observations: ',np.round(np.sum(data_gender['Gender'])/len(data_gender), decimals = 3))"
   ]
  },
  {
   "cell_type": "code",
   "execution_count": 71,
   "metadata": {},
   "outputs": [
    {
     "name": "stdout",
     "output_type": "stream",
     "text": [
      "TFIDF vectors Train/Test shapes : (45, 65)  / (20, 65)\n"
     ]
    }
   ],
   "source": [
    "x_train, x_test, y_train, y_test = train_test_split(data_gender.iloc[:,0:65], data_gender['Gender'], test_size=TEST_SPLIT, random_state=42)\n",
    "#x_train, x_val, y_train, y_val = train_test_split(x_train, y_train, test_size=TEST_SPLIT, random_state=43)\n",
    "\n",
    "#total number of observations\n",
    "print (\"TFIDF vectors Train/Test shapes : %s  / %s\" % (str(x_train.shape), str(x_test.shape)))"
   ]
  },
  {
   "cell_type": "code",
   "execution_count": 72,
   "metadata": {},
   "outputs": [
    {
     "name": "stdout",
     "output_type": "stream",
     "text": [
      "Dummy\n",
      "DummyClassifier(constant=None, random_state=None, strategy='most_frequent')\n",
      "[0 0 0 0 0 0 0 0 0 0 0 0 0 0 0 0 0 0 0 0]\n",
      "LogisticRegression\n",
      "LogisticRegression(C=1.0, class_weight=None, dual=False, fit_intercept=True,\n",
      "          intercept_scaling=1, max_iter=500, multi_class='auto',\n",
      "          n_jobs=None, penalty='l2', random_state=None, solver='lbfgs',\n",
      "          tol=0.0001, verbose=0, warm_start=False)\n",
      "[1 0 0 0 0 0 0 0 0 0 0 0 0 0 0 0 0 0 0 0]\n",
      "NaiveBayes\n",
      "GaussianNB(priors=None, var_smoothing=1e-09)\n",
      "[1 0 0 0 0 1 0 0 0 0 0 1 0 1 0 0 0 0 1 0]\n",
      "SVC\n",
      "SVC(C=1.0, cache_size=200, class_weight=None, coef0=0.0,\n",
      "  decision_function_shape='ovr', degree=3, gamma='auto', kernel='sigmoid',\n",
      "  max_iter=-1, probability=False, random_state=None, shrinking=True,\n",
      "  tol=0.001, verbose=False)\n",
      "[0 0 0 0 0 0 0 0 0 0 0 0 0 0 0 0 0 0 0 0]\n",
      "DecisionTree\n",
      "DecisionTreeClassifier(class_weight=None, criterion='gini', max_depth=None,\n",
      "            max_features=None, max_leaf_nodes=None,\n",
      "            min_impurity_decrease=0.0, min_impurity_split=None,\n",
      "            min_samples_leaf=1, min_samples_split=2,\n",
      "            min_weight_fraction_leaf=0.0, presort=False, random_state=None,\n",
      "            splitter='best')\n",
      "[1 0 0 0 0 1 0 0 0 0 0 0 0 0 0 0 0 0 1 0]\n",
      "RandomForest\n",
      "RandomForestClassifier(bootstrap=True, class_weight=None, criterion='gini',\n",
      "            max_depth=None, max_features='auto', max_leaf_nodes=None,\n",
      "            min_impurity_decrease=0.0, min_impurity_split=None,\n",
      "            min_samples_leaf=1, min_samples_split=2,\n",
      "            min_weight_fraction_leaf=0.0, n_estimators=100, n_jobs=None,\n",
      "            oob_score=False, random_state=1, verbose=0, warm_start=False)\n",
      "[1 0 0 0 0 1 0 0 0 0 0 0 0 1 0 0 0 0 1 0]\n",
      "Ensemble\n",
      "VotingClassifier(estimators=[('nb', GaussianNB(priors=None, var_smoothing=1e-09)), ('lr', LogisticRegression(C=1.0, class_weight=None, dual=False, fit_intercept=True,\n",
      "          intercept_scaling=1, max_iter=100, multi_class='auto',\n",
      "          n_jobs=None, penalty='l2', random_state=None, solver='liblinear',\n",
      "         ...mators=100, n_jobs=None,\n",
      "            oob_score=False, random_state=1, verbose=0, warm_start=False))],\n",
      "         flatten_transform=None, n_jobs=None, voting='hard', weights=None)\n",
      "[1 0 0 0 0 0 0 0 0 0 0 0 0 0 0 0 0 0 0 0]\n",
      "done!\n"
     ]
    }
   ],
   "source": [
    "#Train models\n",
    "modelnames = ['Dummy','LogisticRegression','NaiveBayes','SVC','DecisionTree','RandomForest','Ensemble']\n",
    "yhat = {}\n",
    "for modelname in modelnames:\n",
    "    print (modelname)\n",
    "    model = train(x_train, y_train, modelname)\n",
    "    print (model)\n",
    "    \n",
    "    yhat[modelname] = model.predict(x_test)\n",
    "    print (yhat[modelname])\n",
    "    \n",
    "print ('done!')"
   ]
  },
  {
   "cell_type": "code",
   "execution_count": 73,
   "metadata": {},
   "outputs": [
    {
     "name": "stdout",
     "output_type": "stream",
     "text": [
      "Dummy\n",
      "              precision    recall  f1-score   support\n",
      "\n",
      "           0       0.75      1.00      0.86        15\n",
      "           1       0.00      0.00      0.00         5\n",
      "\n",
      "   micro avg       0.75      0.75      0.75        20\n",
      "   macro avg       0.38      0.50      0.43        20\n",
      "weighted avg       0.56      0.75      0.64        20\n",
      "\n",
      "LogisticRegression\n",
      "              precision    recall  f1-score   support\n",
      "\n",
      "           0       0.79      1.00      0.88        15\n",
      "           1       1.00      0.20      0.33         5\n",
      "\n",
      "   micro avg       0.80      0.80      0.80        20\n",
      "   macro avg       0.89      0.60      0.61        20\n",
      "weighted avg       0.84      0.80      0.75        20\n",
      "\n",
      "NaiveBayes\n",
      "              precision    recall  f1-score   support\n",
      "\n",
      "           0       0.87      0.87      0.87        15\n",
      "           1       0.60      0.60      0.60         5\n",
      "\n",
      "   micro avg       0.80      0.80      0.80        20\n",
      "   macro avg       0.73      0.73      0.73        20\n",
      "weighted avg       0.80      0.80      0.80        20\n",
      "\n",
      "SVC\n",
      "              precision    recall  f1-score   support\n",
      "\n",
      "           0       0.75      1.00      0.86        15\n",
      "           1       0.00      0.00      0.00         5\n",
      "\n",
      "   micro avg       0.75      0.75      0.75        20\n",
      "   macro avg       0.38      0.50      0.43        20\n",
      "weighted avg       0.56      0.75      0.64        20\n",
      "\n",
      "DecisionTree\n",
      "              precision    recall  f1-score   support\n",
      "\n",
      "           0       0.88      1.00      0.94        15\n",
      "           1       1.00      0.60      0.75         5\n",
      "\n",
      "   micro avg       0.90      0.90      0.90        20\n",
      "   macro avg       0.94      0.80      0.84        20\n",
      "weighted avg       0.91      0.90      0.89        20\n",
      "\n",
      "RandomForest\n",
      "              precision    recall  f1-score   support\n",
      "\n",
      "           0       0.88      0.93      0.90        15\n",
      "           1       0.75      0.60      0.67         5\n",
      "\n",
      "   micro avg       0.85      0.85      0.85        20\n",
      "   macro avg       0.81      0.77      0.78        20\n",
      "weighted avg       0.84      0.85      0.84        20\n",
      "\n",
      "Ensemble\n",
      "              precision    recall  f1-score   support\n",
      "\n",
      "           0       0.79      1.00      0.88        15\n",
      "           1       1.00      0.20      0.33         5\n",
      "\n",
      "   micro avg       0.80      0.80      0.80        20\n",
      "   macro avg       0.89      0.60      0.61        20\n",
      "weighted avg       0.84      0.80      0.75        20\n",
      "\n"
     ]
    },
    {
     "name": "stderr",
     "output_type": "stream",
     "text": [
      "C:\\Users\\Paola.YELA\\AppData\\Local\\Continuum\\anaconda3\\lib\\site-packages\\sklearn\\metrics\\classification.py:1143: UndefinedMetricWarning: Precision and F-score are ill-defined and being set to 0.0 in labels with no predicted samples.\n",
      "  'precision', 'predicted', average, warn_for)\n"
     ]
    }
   ],
   "source": [
    "# Now evaluate\n",
    "results={}\n",
    "for modelname in yhat:\n",
    "    print (modelname)\n",
    "    results[modelname] = classification_report(y_test, yhat[modelname], output_dict=True)\n",
    "    print (classification_report(y_test, yhat[modelname]))"
   ]
  },
  {
   "cell_type": "code",
   "execution_count": 74,
   "metadata": {},
   "outputs": [
    {
     "data": {
      "image/png": "[encoded data removed]",
      "text/plain": [
       "<Figure size 576x432 with 1 Axes>"
      ]
     },
     "metadata": {
      "needs_background": "light"
     },
     "output_type": "display_data"
    }
   ],
   "source": [
    "#Now plot\n",
    "EVAL_AVGTYPE = 'weighted avg'\n",
    "EVAL_MEASURE = 'precision'\n",
    "\n",
    "fig = plt.figure(figsize=(8,6)) \n",
    "\n",
    "labels = modelnames\n",
    "data = [results[x][EVAL_AVGTYPE][EVAL_MEASURE] for x in labels]\n",
    "\n",
    "plt.bar(labels, data, color='#E32219',alpha = .8)\n",
    "    \n",
    "plt.ylabel(EVAL_MEASURE, fontsize=18)\n",
    "plt.tick_params(axis='both', which='major', labelsize=16)\n",
    "plt.tick_params(axis='both', which='minor', labelsize=12)\n",
    "plt.xticks(rotation=90)\n",
    "\n",
    "plt.show()"
   ]
  },
  {
   "cell_type": "markdown",
   "metadata": {},
   "source": [
    "#### 3.2.3) Disaggregate age"
   ]
  },
  {
   "cell_type": "code",
   "execution_count": 75,
   "metadata": {},
   "outputs": [
    {
     "data": {
      "text/html": [
       "<div>\n",
       "<style scoped>\n",
       "    .dataframe tbody tr th:only-of-type {\n",
       "        vertical-align: middle;\n",
       "    }\n",
       "\n",
       "    .dataframe tbody tr th {\n",
       "        vertical-align: top;\n",
       "    }\n",
       "\n",
       "    .dataframe thead th {\n",
       "        text-align: right;\n",
       "    }\n",
       "</style>\n",
       "<table border=\"1\" class=\"dataframe\">\n",
       "  <thead>\n",
       "    <tr style=\"text-align: right;\">\n",
       "      <th></th>\n",
       "      <th>0</th>\n",
       "      <th>1</th>\n",
       "      <th>2</th>\n",
       "      <th>3</th>\n",
       "      <th>4</th>\n",
       "      <th>5</th>\n",
       "      <th>6</th>\n",
       "      <th>7</th>\n",
       "      <th>8</th>\n",
       "      <th>9</th>\n",
       "      <th>...</th>\n",
       "      <th>56</th>\n",
       "      <th>57</th>\n",
       "      <th>58</th>\n",
       "      <th>59</th>\n",
       "      <th>60</th>\n",
       "      <th>61</th>\n",
       "      <th>62</th>\n",
       "      <th>63</th>\n",
       "      <th>64</th>\n",
       "      <th>Age</th>\n",
       "    </tr>\n",
       "  </thead>\n",
       "  <tbody>\n",
       "    <tr>\n",
       "      <th>33</th>\n",
       "      <td>0.019281</td>\n",
       "      <td>0.041375</td>\n",
       "      <td>0.086577</td>\n",
       "      <td>0.591752</td>\n",
       "      <td>0.028803</td>\n",
       "      <td>-0.007231</td>\n",
       "      <td>-0.028990</td>\n",
       "      <td>-0.020369</td>\n",
       "      <td>0.020921</td>\n",
       "      <td>-0.075410</td>\n",
       "      <td>...</td>\n",
       "      <td>-0.039971</td>\n",
       "      <td>-0.028957</td>\n",
       "      <td>0.000038</td>\n",
       "      <td>-0.015025</td>\n",
       "      <td>-0.002607</td>\n",
       "      <td>0.000934</td>\n",
       "      <td>-0.008758</td>\n",
       "      <td>0.002607</td>\n",
       "      <td>9.351335e-16</td>\n",
       "      <td>0</td>\n",
       "    </tr>\n",
       "    <tr>\n",
       "      <th>63</th>\n",
       "      <td>-0.242114</td>\n",
       "      <td>-0.043175</td>\n",
       "      <td>-0.085252</td>\n",
       "      <td>0.021237</td>\n",
       "      <td>-0.059866</td>\n",
       "      <td>-0.093242</td>\n",
       "      <td>-0.139110</td>\n",
       "      <td>-0.094615</td>\n",
       "      <td>-0.042617</td>\n",
       "      <td>0.049522</td>\n",
       "      <td>...</td>\n",
       "      <td>-0.005034</td>\n",
       "      <td>0.029055</td>\n",
       "      <td>0.017829</td>\n",
       "      <td>0.006078</td>\n",
       "      <td>-0.003326</td>\n",
       "      <td>0.018325</td>\n",
       "      <td>0.005003</td>\n",
       "      <td>-0.001903</td>\n",
       "      <td>9.351335e-16</td>\n",
       "      <td>0</td>\n",
       "    </tr>\n",
       "    <tr>\n",
       "      <th>16</th>\n",
       "      <td>-0.304351</td>\n",
       "      <td>-0.076043</td>\n",
       "      <td>-0.152761</td>\n",
       "      <td>-0.034064</td>\n",
       "      <td>-0.074541</td>\n",
       "      <td>-0.235117</td>\n",
       "      <td>0.184343</td>\n",
       "      <td>-0.042607</td>\n",
       "      <td>-0.005570</td>\n",
       "      <td>-0.047314</td>\n",
       "      <td>...</td>\n",
       "      <td>0.133530</td>\n",
       "      <td>0.067167</td>\n",
       "      <td>0.068838</td>\n",
       "      <td>0.023453</td>\n",
       "      <td>0.019731</td>\n",
       "      <td>-0.004064</td>\n",
       "      <td>-0.002798</td>\n",
       "      <td>-0.006737</td>\n",
       "      <td>9.351335e-16</td>\n",
       "      <td>0</td>\n",
       "    </tr>\n",
       "  </tbody>\n",
       "</table>\n",
       "<p>3 rows × 66 columns</p>\n",
       "</div>"
      ],
      "text/plain": [
       "           0         1         2         3         4         5         6  \\\n",
       "33  0.019281  0.041375  0.086577  0.591752  0.028803 -0.007231 -0.028990   \n",
       "63 -0.242114 -0.043175 -0.085252  0.021237 -0.059866 -0.093242 -0.139110   \n",
       "16 -0.304351 -0.076043 -0.152761 -0.034064 -0.074541 -0.235117  0.184343   \n",
       "\n",
       "           7         8         9 ...         56        57        58        59  \\\n",
       "33 -0.020369  0.020921 -0.075410 ...  -0.039971 -0.028957  0.000038 -0.015025   \n",
       "63 -0.094615 -0.042617  0.049522 ...  -0.005034  0.029055  0.017829  0.006078   \n",
       "16 -0.042607 -0.005570 -0.047314 ...   0.133530  0.067167  0.068838  0.023453   \n",
       "\n",
       "          60        61        62        63            64  Age  \n",
       "33 -0.002607  0.000934 -0.008758  0.002607  9.351335e-16    0  \n",
       "63 -0.003326  0.018325  0.005003 -0.001903  9.351335e-16    0  \n",
       "16  0.019731 -0.004064 -0.002798 -0.006737  9.351335e-16    0  \n",
       "\n",
       "[3 rows x 66 columns]"
      ]
     },
     "execution_count": 75,
     "metadata": {},
     "output_type": "execute_result"
    }
   ],
   "source": [
    "data_age = pd.DataFrame(vectors_tfidf_reports_dim65)\n",
    "data_age['Age'] = baseline['Disaggregate age']\n",
    "data_age.sample(3)"
   ]
  },
  {
   "cell_type": "code",
   "execution_count": 76,
   "metadata": {},
   "outputs": [
    {
     "name": "stdout",
     "output_type": "stream",
     "text": [
      "Proportion of \"considers age\" class observations:  0.277\n"
     ]
    }
   ],
   "source": [
    "# not-that-bad balanced classes\n",
    "print('Proportion of \"considers age\" class observations: ',np.round(np.sum(data_age['Age'])/len(data_age), decimals = 3))"
   ]
  },
  {
   "cell_type": "code",
   "execution_count": 77,
   "metadata": {},
   "outputs": [
    {
     "name": "stdout",
     "output_type": "stream",
     "text": [
      "TFIDF vectors Train/Test shapes : (45, 65) / (20, 65)\n"
     ]
    }
   ],
   "source": [
    "x_train, x_test, y_train, y_test = train_test_split(data_age.iloc[:,0:65], data_age['Age'], test_size=TEST_SPLIT, random_state=42)\n",
    "#x_train, x_val, y_train, y_val = train_test_split(x_train, y_train, test_size=TEST_SPLIT, random_state=43)\n",
    "\n",
    "#total number of observations\n",
    "print (\"TFIDF vectors Train/Test shapes : %s / %s\" % (str(x_train.shape), str(x_test.shape)))"
   ]
  },
  {
   "cell_type": "code",
   "execution_count": 78,
   "metadata": {},
   "outputs": [
    {
     "name": "stdout",
     "output_type": "stream",
     "text": [
      "Dummy\n",
      "DummyClassifier(constant=None, random_state=None, strategy='most_frequent')\n",
      "[0 0 0 0 0 0 0 0 0 0 0 0 0 0 0 0 0 0 0 0]\n",
      "LogisticRegression\n",
      "LogisticRegression(C=1.0, class_weight=None, dual=False, fit_intercept=True,\n",
      "          intercept_scaling=1, max_iter=500, multi_class='auto',\n",
      "          n_jobs=None, penalty='l2', random_state=None, solver='lbfgs',\n",
      "          tol=0.0001, verbose=0, warm_start=False)\n",
      "[1 0 0 0 0 0 0 0 0 0 0 0 0 0 0 0 0 0 0 0]\n",
      "NaiveBayes\n",
      "GaussianNB(priors=None, var_smoothing=1e-09)\n",
      "[1 0 0 0 0 1 0 0 0 0 0 1 0 1 0 0 0 0 1 0]\n",
      "SVC\n",
      "SVC(C=1.0, cache_size=200, class_weight=None, coef0=0.0,\n",
      "  decision_function_shape='ovr', degree=3, gamma='auto', kernel='sigmoid',\n",
      "  max_iter=-1, probability=False, random_state=None, shrinking=True,\n",
      "  tol=0.001, verbose=False)\n",
      "[0 0 0 0 0 0 0 0 0 0 0 0 0 0 0 0 0 0 0 0]\n",
      "DecisionTree\n",
      "DecisionTreeClassifier(class_weight=None, criterion='gini', max_depth=None,\n",
      "            max_features=None, max_leaf_nodes=None,\n",
      "            min_impurity_decrease=0.0, min_impurity_split=None,\n",
      "            min_samples_leaf=1, min_samples_split=2,\n",
      "            min_weight_fraction_leaf=0.0, presort=False, random_state=None,\n",
      "            splitter='best')\n",
      "[1 0 0 0 0 1 0 0 0 0 0 1 0 1 0 0 0 0 1 0]\n",
      "RandomForest\n",
      "RandomForestClassifier(bootstrap=True, class_weight=None, criterion='gini',\n",
      "            max_depth=None, max_features='auto', max_leaf_nodes=None,\n",
      "            min_impurity_decrease=0.0, min_impurity_split=None,\n",
      "            min_samples_leaf=1, min_samples_split=2,\n",
      "            min_weight_fraction_leaf=0.0, n_estimators=100, n_jobs=None,\n",
      "            oob_score=False, random_state=1, verbose=0, warm_start=False)\n",
      "[1 0 0 0 0 1 0 0 0 0 0 0 0 0 0 0 0 0 1 0]\n",
      "Ensemble\n",
      "VotingClassifier(estimators=[('nb', GaussianNB(priors=None, var_smoothing=1e-09)), ('lr', LogisticRegression(C=1.0, class_weight=None, dual=False, fit_intercept=True,\n",
      "          intercept_scaling=1, max_iter=100, multi_class='auto',\n",
      "          n_jobs=None, penalty='l2', random_state=None, solver='liblinear',\n",
      "         ...mators=100, n_jobs=None,\n",
      "            oob_score=False, random_state=1, verbose=0, warm_start=False))],\n",
      "         flatten_transform=None, n_jobs=None, voting='hard', weights=None)\n",
      "[1 0 0 0 0 0 0 0 0 0 0 0 0 0 0 0 0 0 0 0]\n",
      "done!\n"
     ]
    }
   ],
   "source": [
    "#Train models\n",
    "modelnames = ['Dummy','LogisticRegression','NaiveBayes','SVC','DecisionTree','RandomForest','Ensemble']\n",
    "yhat = {}\n",
    "for modelname in modelnames:\n",
    "    print (modelname)\n",
    "    model = train(x_train, y_train, modelname)\n",
    "    print (model)\n",
    "    \n",
    "    yhat[modelname] = model.predict(x_test)\n",
    "    print (yhat[modelname])\n",
    "    \n",
    "print ('done!')"
   ]
  },
  {
   "cell_type": "code",
   "execution_count": 79,
   "metadata": {},
   "outputs": [
    {
     "name": "stdout",
     "output_type": "stream",
     "text": [
      "Dummy\n",
      "              precision    recall  f1-score   support\n",
      "\n",
      "           0       0.80      1.00      0.89        16\n",
      "           1       0.00      0.00      0.00         4\n",
      "\n",
      "   micro avg       0.80      0.80      0.80        20\n",
      "   macro avg       0.40      0.50      0.44        20\n",
      "weighted avg       0.64      0.80      0.71        20\n",
      "\n",
      "LogisticRegression\n",
      "              precision    recall  f1-score   support\n",
      "\n",
      "           0       0.84      1.00      0.91        16\n",
      "           1       1.00      0.25      0.40         4\n",
      "\n",
      "   micro avg       0.85      0.85      0.85        20\n",
      "   macro avg       0.92      0.62      0.66        20\n",
      "weighted avg       0.87      0.85      0.81        20\n",
      "\n",
      "NaiveBayes\n",
      "              precision    recall  f1-score   support\n",
      "\n",
      "           0       0.93      0.88      0.90        16\n",
      "           1       0.60      0.75      0.67         4\n",
      "\n",
      "   micro avg       0.85      0.85      0.85        20\n",
      "   macro avg       0.77      0.81      0.78        20\n",
      "weighted avg       0.87      0.85      0.86        20\n",
      "\n",
      "SVC\n",
      "              precision    recall  f1-score   support\n",
      "\n",
      "           0       0.80      1.00      0.89        16\n",
      "           1       0.00      0.00      0.00         4\n",
      "\n",
      "   micro avg       0.80      0.80      0.80        20\n",
      "   macro avg       0.40      0.50      0.44        20\n",
      "weighted avg       0.64      0.80      0.71        20\n",
      "\n",
      "DecisionTree\n",
      "              precision    recall  f1-score   support\n",
      "\n",
      "           0       0.93      0.88      0.90        16\n",
      "           1       0.60      0.75      0.67         4\n",
      "\n",
      "   micro avg       0.85      0.85      0.85        20\n",
      "   macro avg       0.77      0.81      0.78        20\n",
      "weighted avg       0.87      0.85      0.86        20\n",
      "\n",
      "RandomForest\n",
      "              precision    recall  f1-score   support\n",
      "\n",
      "           0       0.94      1.00      0.97        16\n",
      "           1       1.00      0.75      0.86         4\n",
      "\n",
      "   micro avg       0.95      0.95      0.95        20\n",
      "   macro avg       0.97      0.88      0.91        20\n",
      "weighted avg       0.95      0.95      0.95        20\n",
      "\n",
      "Ensemble\n",
      "              precision    recall  f1-score   support\n",
      "\n",
      "           0       0.84      1.00      0.91        16\n",
      "           1       1.00      0.25      0.40         4\n",
      "\n",
      "   micro avg       0.85      0.85      0.85        20\n",
      "   macro avg       0.92      0.62      0.66        20\n",
      "weighted avg       0.87      0.85      0.81        20\n",
      "\n"
     ]
    },
    {
     "name": "stderr",
     "output_type": "stream",
     "text": [
      "C:\\Users\\Paola.YELA\\AppData\\Local\\Continuum\\anaconda3\\lib\\site-packages\\sklearn\\metrics\\classification.py:1143: UndefinedMetricWarning: Precision and F-score are ill-defined and being set to 0.0 in labels with no predicted samples.\n",
      "  'precision', 'predicted', average, warn_for)\n"
     ]
    }
   ],
   "source": [
    "# Now evaluate\n",
    "results={}\n",
    "for modelname in yhat:\n",
    "    print (modelname)\n",
    "    results[modelname] = classification_report(y_test, yhat[modelname], output_dict=True)\n",
    "    print (classification_report(y_test, yhat[modelname]))"
   ]
  },
  {
   "cell_type": "code",
   "execution_count": 80,
   "metadata": {},
   "outputs": [
    {
     "data": {
      "image/png": "[encoded data removed]",
      "text/plain": [
       "<Figure size 576x432 with 1 Axes>"
      ]
     },
     "metadata": {
      "needs_background": "light"
     },
     "output_type": "display_data"
    }
   ],
   "source": [
    "#Now plot\n",
    "EVAL_AVGTYPE = 'weighted avg'\n",
    "EVAL_MEASURE = 'precision'\n",
    "\n",
    "fig = plt.figure(figsize=(8,6)) \n",
    "\n",
    "labels = modelnames\n",
    "data = [results[x][EVAL_AVGTYPE][EVAL_MEASURE] for x in labels]\n",
    "\n",
    "plt.bar(labels, data, color='#E32219',alpha = .8)\n",
    "    \n",
    "plt.ylabel(EVAL_MEASURE, fontsize=18)\n",
    "plt.tick_params(axis='both', which='major', labelsize=16)\n",
    "plt.tick_params(axis='both', which='minor', labelsize=12)\n",
    "plt.xticks(rotation=90)\n",
    "\n",
    "plt.show()"
   ]
  },
  {
   "cell_type": "markdown",
   "metadata": {},
   "source": [
    "#### 3.2.4) Contains good practices/lessons learned"
   ]
  },
  {
   "cell_type": "code",
   "execution_count": 94,
   "metadata": {},
   "outputs": [
    {
     "data": {
      "text/html": [
       "<div>\n",
       "<style scoped>\n",
       "    .dataframe tbody tr th:only-of-type {\n",
       "        vertical-align: middle;\n",
       "    }\n",
       "\n",
       "    .dataframe tbody tr th {\n",
       "        vertical-align: top;\n",
       "    }\n",
       "\n",
       "    .dataframe thead th {\n",
       "        text-align: right;\n",
       "    }\n",
       "</style>\n",
       "<table border=\"1\" class=\"dataframe\">\n",
       "  <thead>\n",
       "    <tr style=\"text-align: right;\">\n",
       "      <th></th>\n",
       "      <th>0</th>\n",
       "      <th>1</th>\n",
       "      <th>2</th>\n",
       "      <th>3</th>\n",
       "      <th>4</th>\n",
       "      <th>5</th>\n",
       "      <th>6</th>\n",
       "      <th>7</th>\n",
       "      <th>8</th>\n",
       "      <th>9</th>\n",
       "      <th>...</th>\n",
       "      <th>56</th>\n",
       "      <th>57</th>\n",
       "      <th>58</th>\n",
       "      <th>59</th>\n",
       "      <th>60</th>\n",
       "      <th>61</th>\n",
       "      <th>62</th>\n",
       "      <th>63</th>\n",
       "      <th>64</th>\n",
       "      <th>Lessons</th>\n",
       "    </tr>\n",
       "  </thead>\n",
       "  <tbody>\n",
       "    <tr>\n",
       "      <th>16</th>\n",
       "      <td>-0.304351</td>\n",
       "      <td>-0.076043</td>\n",
       "      <td>-0.152761</td>\n",
       "      <td>-0.034064</td>\n",
       "      <td>-0.074541</td>\n",
       "      <td>-0.235117</td>\n",
       "      <td>0.184343</td>\n",
       "      <td>-0.042607</td>\n",
       "      <td>-0.005570</td>\n",
       "      <td>-0.047314</td>\n",
       "      <td>...</td>\n",
       "      <td>0.133530</td>\n",
       "      <td>0.067167</td>\n",
       "      <td>0.068838</td>\n",
       "      <td>0.023453</td>\n",
       "      <td>0.019731</td>\n",
       "      <td>-0.004064</td>\n",
       "      <td>-0.002798</td>\n",
       "      <td>-0.006737</td>\n",
       "      <td>9.351335e-16</td>\n",
       "      <td>0.0</td>\n",
       "    </tr>\n",
       "    <tr>\n",
       "      <th>17</th>\n",
       "      <td>-0.383493</td>\n",
       "      <td>-0.094145</td>\n",
       "      <td>-0.212004</td>\n",
       "      <td>-0.046401</td>\n",
       "      <td>-0.150786</td>\n",
       "      <td>0.052062</td>\n",
       "      <td>-0.251846</td>\n",
       "      <td>-0.133593</td>\n",
       "      <td>-0.046348</td>\n",
       "      <td>0.016631</td>\n",
       "      <td>...</td>\n",
       "      <td>0.003691</td>\n",
       "      <td>-0.097188</td>\n",
       "      <td>-0.062532</td>\n",
       "      <td>0.011131</td>\n",
       "      <td>-0.016269</td>\n",
       "      <td>-0.005284</td>\n",
       "      <td>-0.003587</td>\n",
       "      <td>-0.004119</td>\n",
       "      <td>9.351335e-16</td>\n",
       "      <td>0.0</td>\n",
       "    </tr>\n",
       "    <tr>\n",
       "      <th>1</th>\n",
       "      <td>-0.363748</td>\n",
       "      <td>-0.107417</td>\n",
       "      <td>-0.217384</td>\n",
       "      <td>-0.028779</td>\n",
       "      <td>-0.235657</td>\n",
       "      <td>0.445617</td>\n",
       "      <td>-0.140531</td>\n",
       "      <td>-0.200587</td>\n",
       "      <td>-0.041727</td>\n",
       "      <td>0.063572</td>\n",
       "      <td>...</td>\n",
       "      <td>0.077757</td>\n",
       "      <td>0.411397</td>\n",
       "      <td>0.283198</td>\n",
       "      <td>0.027800</td>\n",
       "      <td>0.051176</td>\n",
       "      <td>-0.010382</td>\n",
       "      <td>-0.005160</td>\n",
       "      <td>-0.001083</td>\n",
       "      <td>9.351335e-16</td>\n",
       "      <td>0.0</td>\n",
       "    </tr>\n",
       "  </tbody>\n",
       "</table>\n",
       "<p>3 rows × 66 columns</p>\n",
       "</div>"
      ],
      "text/plain": [
       "           0         1         2         3         4         5         6  \\\n",
       "16 -0.304351 -0.076043 -0.152761 -0.034064 -0.074541 -0.235117  0.184343   \n",
       "17 -0.383493 -0.094145 -0.212004 -0.046401 -0.150786  0.052062 -0.251846   \n",
       "1  -0.363748 -0.107417 -0.217384 -0.028779 -0.235657  0.445617 -0.140531   \n",
       "\n",
       "           7         8         9   ...           56        57        58  \\\n",
       "16 -0.042607 -0.005570 -0.047314   ...     0.133530  0.067167  0.068838   \n",
       "17 -0.133593 -0.046348  0.016631   ...     0.003691 -0.097188 -0.062532   \n",
       "1  -0.200587 -0.041727  0.063572   ...     0.077757  0.411397  0.283198   \n",
       "\n",
       "          59        60        61        62        63            64  Lessons  \n",
       "16  0.023453  0.019731 -0.004064 -0.002798 -0.006737  9.351335e-16      0.0  \n",
       "17  0.011131 -0.016269 -0.005284 -0.003587 -0.004119  9.351335e-16      0.0  \n",
       "1   0.027800  0.051176 -0.010382 -0.005160 -0.001083  9.351335e-16      0.0  \n",
       "\n",
       "[3 rows x 66 columns]"
      ]
     },
     "execution_count": 94,
     "metadata": {},
     "output_type": "execute_result"
    }
   ],
   "source": [
    "data_lessons = pd.DataFrame(vectors_tfidf_reports_dim65)\n",
    "data_lessons['Lessons'] = baseline['Contains good practices/lessons learned']\n",
    "data_lessons = data_lessons[data_lessons['Lessons'].notnull()]\n",
    "data_lessons.sample(3)"
   ]
  },
  {
   "cell_type": "code",
   "execution_count": 95,
   "metadata": {},
   "outputs": [
    {
     "name": "stdout",
     "output_type": "stream",
     "text": [
      "Proportion of \"contains lessons learned\" class observations:  0.641\n"
     ]
    }
   ],
   "source": [
    "# nicely balanced classes\n",
    "print('Proportion of \"contains lessons learned\" class observations: ',np.round(np.sum(data_lessons['Lessons'])/len(data_lessons), decimals = 3))"
   ]
  },
  {
   "cell_type": "code",
   "execution_count": 96,
   "metadata": {},
   "outputs": [
    {
     "name": "stdout",
     "output_type": "stream",
     "text": [
      "TFIDF vectors Train/Test shapes : (44, 65) / (20, 65)\n"
     ]
    }
   ],
   "source": [
    "x_train, x_test, y_train, y_test = train_test_split(data_lessons.iloc[:,0:65], data_lessons['Lessons'], test_size=TEST_SPLIT, random_state=42)\n",
    "#x_train, x_val, y_train, y_val = train_test_split(x_train, y_train, test_size=TEST_SPLIT, random_state=43)\n",
    "\n",
    "#total number of observations\n",
    "print (\"TFIDF vectors Train/Test shapes : %s / %s\" % (str(x_train.shape), str(x_test.shape)))"
   ]
  },
  {
   "cell_type": "code",
   "execution_count": 97,
   "metadata": {},
   "outputs": [
    {
     "name": "stdout",
     "output_type": "stream",
     "text": [
      "Dummy\n",
      "DummyClassifier(constant=None, random_state=None, strategy='most_frequent')\n",
      "[1. 1. 1. 1. 1. 1. 1. 1. 1. 1. 1. 1. 1. 1. 1. 1. 1. 1. 1. 1.]\n",
      "LogisticRegression\n",
      "LogisticRegression(C=1.0, class_weight=None, dual=False, fit_intercept=True,\n",
      "          intercept_scaling=1, max_iter=500, multi_class='auto',\n",
      "          n_jobs=None, penalty='l2', random_state=None, solver='lbfgs',\n",
      "          tol=0.0001, verbose=0, warm_start=False)\n",
      "[1. 1. 1. 1. 0. 1. 0. 1. 0. 1. 1. 1. 1. 1. 1. 1. 0. 0. 1. 1.]\n",
      "NaiveBayes\n",
      "GaussianNB(priors=None, var_smoothing=1e-09)\n",
      "[1. 1. 1. 1. 0. 1. 0. 1. 0. 1. 1. 1. 1. 1. 1. 1. 0. 0. 1. 1.]\n",
      "SVC\n",
      "SVC(C=1.0, cache_size=200, class_weight=None, coef0=0.0,\n",
      "  decision_function_shape='ovr', degree=3, gamma='auto', kernel='sigmoid',\n",
      "  max_iter=-1, probability=False, random_state=None, shrinking=True,\n",
      "  tol=0.001, verbose=False)\n",
      "[1. 1. 1. 1. 1. 1. 1. 1. 1. 1. 1. 1. 1. 1. 1. 1. 1. 1. 1. 1.]\n",
      "DecisionTree\n",
      "DecisionTreeClassifier(class_weight=None, criterion='gini', max_depth=None,\n",
      "            max_features=None, max_leaf_nodes=None,\n",
      "            min_impurity_decrease=0.0, min_impurity_split=None,\n",
      "            min_samples_leaf=1, min_samples_split=2,\n",
      "            min_weight_fraction_leaf=0.0, presort=False, random_state=None,\n",
      "            splitter='best')\n",
      "[1. 1. 1. 1. 0. 1. 0. 1. 0. 1. 1. 1. 1. 1. 1. 1. 0. 0. 1. 1.]\n",
      "RandomForest\n",
      "RandomForestClassifier(bootstrap=True, class_weight=None, criterion='gini',\n",
      "            max_depth=None, max_features='auto', max_leaf_nodes=None,\n",
      "            min_impurity_decrease=0.0, min_impurity_split=None,\n",
      "            min_samples_leaf=1, min_samples_split=2,\n",
      "            min_weight_fraction_leaf=0.0, n_estimators=100, n_jobs=None,\n",
      "            oob_score=False, random_state=1, verbose=0, warm_start=False)\n",
      "[1. 1. 1. 1. 0. 1. 0. 1. 0. 1. 1. 1. 1. 1. 1. 1. 0. 0. 1. 1.]\n",
      "Ensemble\n",
      "VotingClassifier(estimators=[('nb', GaussianNB(priors=None, var_smoothing=1e-09)), ('lr', LogisticRegression(C=1.0, class_weight=None, dual=False, fit_intercept=True,\n",
      "          intercept_scaling=1, max_iter=100, multi_class='auto',\n",
      "          n_jobs=None, penalty='l2', random_state=None, solver='liblinear',\n",
      "         ...mators=100, n_jobs=None,\n",
      "            oob_score=False, random_state=1, verbose=0, warm_start=False))],\n",
      "         flatten_transform=None, n_jobs=None, voting='hard', weights=None)\n",
      "[1. 1. 1. 1. 0. 1. 0. 1. 0. 1. 1. 1. 1. 1. 1. 1. 0. 0. 1. 1.]\n",
      "done!\n"
     ]
    }
   ],
   "source": [
    "#Train models\n",
    "modelnames = ['Dummy','LogisticRegression','NaiveBayes','SVC','DecisionTree','RandomForest','Ensemble']\n",
    "yhat = {}\n",
    "for modelname in modelnames:\n",
    "    print (modelname)\n",
    "    model = train(x_train, y_train, modelname)\n",
    "    print (model)\n",
    "    \n",
    "    yhat[modelname] = model.predict(x_test)\n",
    "    print (yhat[modelname])\n",
    "    \n",
    "print ('done!')"
   ]
  },
  {
   "cell_type": "code",
   "execution_count": 98,
   "metadata": {},
   "outputs": [
    {
     "name": "stdout",
     "output_type": "stream",
     "text": [
      "Dummy\n",
      "              precision    recall  f1-score   support\n",
      "\n",
      "         0.0       0.00      0.00      0.00         5\n",
      "         1.0       0.75      1.00      0.86        15\n",
      "\n",
      "   micro avg       0.75      0.75      0.75        20\n",
      "   macro avg       0.38      0.50      0.43        20\n",
      "weighted avg       0.56      0.75      0.64        20\n",
      "\n",
      "LogisticRegression\n",
      "              precision    recall  f1-score   support\n",
      "\n",
      "         0.0       1.00      1.00      1.00         5\n",
      "         1.0       1.00      1.00      1.00        15\n",
      "\n",
      "   micro avg       1.00      1.00      1.00        20\n",
      "   macro avg       1.00      1.00      1.00        20\n",
      "weighted avg       1.00      1.00      1.00        20\n",
      "\n",
      "NaiveBayes\n",
      "              precision    recall  f1-score   support\n",
      "\n",
      "         0.0       1.00      1.00      1.00         5\n",
      "         1.0       1.00      1.00      1.00        15\n",
      "\n",
      "   micro avg       1.00      1.00      1.00        20\n",
      "   macro avg       1.00      1.00      1.00        20\n",
      "weighted avg       1.00      1.00      1.00        20\n",
      "\n",
      "SVC\n",
      "              precision    recall  f1-score   support\n",
      "\n",
      "         0.0       0.00      0.00      0.00         5\n",
      "         1.0       0.75      1.00      0.86        15\n",
      "\n",
      "   micro avg       0.75      0.75      0.75        20\n",
      "   macro avg       0.38      0.50      0.43        20\n",
      "weighted avg       0.56      0.75      0.64        20\n",
      "\n",
      "DecisionTree\n",
      "              precision    recall  f1-score   support\n",
      "\n",
      "         0.0       1.00      1.00      1.00         5\n",
      "         1.0       1.00      1.00      1.00        15\n",
      "\n",
      "   micro avg       1.00      1.00      1.00        20\n",
      "   macro avg       1.00      1.00      1.00        20\n",
      "weighted avg       1.00      1.00      1.00        20\n",
      "\n",
      "RandomForest\n",
      "              precision    recall  f1-score   support\n",
      "\n",
      "         0.0       1.00      1.00      1.00         5\n",
      "         1.0       1.00      1.00      1.00        15\n",
      "\n",
      "   micro avg       1.00      1.00      1.00        20\n",
      "   macro avg       1.00      1.00      1.00        20\n",
      "weighted avg       1.00      1.00      1.00        20\n",
      "\n",
      "Ensemble\n",
      "              precision    recall  f1-score   support\n",
      "\n",
      "         0.0       1.00      1.00      1.00         5\n",
      "         1.0       1.00      1.00      1.00        15\n",
      "\n",
      "   micro avg       1.00      1.00      1.00        20\n",
      "   macro avg       1.00      1.00      1.00        20\n",
      "weighted avg       1.00      1.00      1.00        20\n",
      "\n"
     ]
    },
    {
     "name": "stderr",
     "output_type": "stream",
     "text": [
      "C:\\Users\\Paola.YELA\\AppData\\Local\\Continuum\\anaconda3\\lib\\site-packages\\sklearn\\metrics\\classification.py:1143: UndefinedMetricWarning: Precision and F-score are ill-defined and being set to 0.0 in labels with no predicted samples.\n",
      "  'precision', 'predicted', average, warn_for)\n"
     ]
    }
   ],
   "source": [
    "# Now evaluate\n",
    "results={}\n",
    "for modelname in yhat:\n",
    "    print (modelname)\n",
    "    results[modelname] = classification_report(y_test, yhat[modelname], output_dict=True)\n",
    "    print (classification_report(y_test, yhat[modelname]))"
   ]
  },
  {
   "cell_type": "code",
   "execution_count": 99,
   "metadata": {},
   "outputs": [
    {
     "data": {
      "image/png": "[encoded data removed]",
      "text/plain": [
       "<Figure size 576x432 with 1 Axes>"
      ]
     },
     "metadata": {
      "needs_background": "light"
     },
     "output_type": "display_data"
    }
   ],
   "source": [
    "#Now plot\n",
    "EVAL_AVGTYPE = 'weighted avg'\n",
    "EVAL_MEASURE = 'precision'\n",
    "\n",
    "fig = plt.figure(figsize=(8,6)) \n",
    "\n",
    "labels = modelnames\n",
    "data = [results[x][EVAL_AVGTYPE][EVAL_MEASURE] for x in labels]\n",
    "\n",
    "plt.bar(labels, data, color='#E32219',alpha = .8)\n",
    "    \n",
    "plt.ylabel(EVAL_MEASURE, fontsize=18)\n",
    "plt.tick_params(axis='both', which='major', labelsize=16)\n",
    "plt.tick_params(axis='both', which='minor', labelsize=12)\n",
    "plt.xticks(rotation=90)\n",
    "\n",
    "plt.show()"
   ]
  },
  {
   "cell_type": "markdown",
   "metadata": {},
   "source": [
    "### 3.3) On hazards"
   ]
  },
  {
   "cell_type": "markdown",
   "metadata": {},
   "source": [
    "#### 3.3.1) Cyclones"
   ]
  },
  {
   "cell_type": "code",
   "execution_count": 100,
   "metadata": {
    "scrolled": true
   },
   "outputs": [
    {
     "data": {
      "text/html": [
       "<div>\n",
       "<style scoped>\n",
       "    .dataframe tbody tr th:only-of-type {\n",
       "        vertical-align: middle;\n",
       "    }\n",
       "\n",
       "    .dataframe tbody tr th {\n",
       "        vertical-align: top;\n",
       "    }\n",
       "\n",
       "    .dataframe thead th {\n",
       "        text-align: right;\n",
       "    }\n",
       "</style>\n",
       "<table border=\"1\" class=\"dataframe\">\n",
       "  <thead>\n",
       "    <tr style=\"text-align: right;\">\n",
       "      <th></th>\n",
       "      <th>0</th>\n",
       "      <th>1</th>\n",
       "      <th>2</th>\n",
       "      <th>3</th>\n",
       "      <th>4</th>\n",
       "      <th>5</th>\n",
       "      <th>6</th>\n",
       "      <th>7</th>\n",
       "      <th>8</th>\n",
       "      <th>9</th>\n",
       "      <th>...</th>\n",
       "      <th>56</th>\n",
       "      <th>57</th>\n",
       "      <th>58</th>\n",
       "      <th>59</th>\n",
       "      <th>60</th>\n",
       "      <th>61</th>\n",
       "      <th>62</th>\n",
       "      <th>63</th>\n",
       "      <th>64</th>\n",
       "      <th>Cyclones</th>\n",
       "    </tr>\n",
       "  </thead>\n",
       "  <tbody>\n",
       "    <tr>\n",
       "      <th>50</th>\n",
       "      <td>0.343198</td>\n",
       "      <td>-0.266832</td>\n",
       "      <td>-0.050946</td>\n",
       "      <td>-0.081413</td>\n",
       "      <td>-0.006905</td>\n",
       "      <td>-0.049212</td>\n",
       "      <td>-0.043275</td>\n",
       "      <td>-0.10167</td>\n",
       "      <td>0.337649</td>\n",
       "      <td>0.156479</td>\n",
       "      <td>...</td>\n",
       "      <td>-0.002735</td>\n",
       "      <td>0.064520</td>\n",
       "      <td>-0.163817</td>\n",
       "      <td>0.380483</td>\n",
       "      <td>0.015722</td>\n",
       "      <td>-0.151324</td>\n",
       "      <td>-0.071362</td>\n",
       "      <td>0.000536</td>\n",
       "      <td>9.351335e-16</td>\n",
       "      <td>1</td>\n",
       "    </tr>\n",
       "    <tr>\n",
       "      <th>60</th>\n",
       "      <td>-0.060933</td>\n",
       "      <td>0.061457</td>\n",
       "      <td>0.354315</td>\n",
       "      <td>-0.077857</td>\n",
       "      <td>-0.032112</td>\n",
       "      <td>0.010583</td>\n",
       "      <td>-0.020689</td>\n",
       "      <td>-0.03014</td>\n",
       "      <td>0.018629</td>\n",
       "      <td>-0.104725</td>\n",
       "      <td>...</td>\n",
       "      <td>-0.001282</td>\n",
       "      <td>0.000133</td>\n",
       "      <td>0.003567</td>\n",
       "      <td>0.001609</td>\n",
       "      <td>0.000850</td>\n",
       "      <td>0.001635</td>\n",
       "      <td>0.001236</td>\n",
       "      <td>0.002656</td>\n",
       "      <td>9.351335e-16</td>\n",
       "      <td>1</td>\n",
       "    </tr>\n",
       "    <tr>\n",
       "      <th>11</th>\n",
       "      <td>0.177430</td>\n",
       "      <td>0.491629</td>\n",
       "      <td>-0.179082</td>\n",
       "      <td>-0.055194</td>\n",
       "      <td>0.013925</td>\n",
       "      <td>0.010473</td>\n",
       "      <td>-0.008350</td>\n",
       "      <td>0.01683</td>\n",
       "      <td>-0.028719</td>\n",
       "      <td>0.001911</td>\n",
       "      <td>...</td>\n",
       "      <td>-0.034772</td>\n",
       "      <td>0.001777</td>\n",
       "      <td>-0.017112</td>\n",
       "      <td>0.024876</td>\n",
       "      <td>0.006738</td>\n",
       "      <td>0.008668</td>\n",
       "      <td>-0.000593</td>\n",
       "      <td>-0.000091</td>\n",
       "      <td>9.351335e-16</td>\n",
       "      <td>1</td>\n",
       "    </tr>\n",
       "  </tbody>\n",
       "</table>\n",
       "<p>3 rows × 66 columns</p>\n",
       "</div>"
      ],
      "text/plain": [
       "           0         1         2         3         4         5         6  \\\n",
       "50  0.343198 -0.266832 -0.050946 -0.081413 -0.006905 -0.049212 -0.043275   \n",
       "60 -0.060933  0.061457  0.354315 -0.077857 -0.032112  0.010583 -0.020689   \n",
       "11  0.177430  0.491629 -0.179082 -0.055194  0.013925  0.010473 -0.008350   \n",
       "\n",
       "          7         8         9    ...           56        57        58  \\\n",
       "50 -0.10167  0.337649  0.156479    ...    -0.002735  0.064520 -0.163817   \n",
       "60 -0.03014  0.018629 -0.104725    ...    -0.001282  0.000133  0.003567   \n",
       "11  0.01683 -0.028719  0.001911    ...    -0.034772  0.001777 -0.017112   \n",
       "\n",
       "          59        60        61        62        63            64  Cyclones  \n",
       "50  0.380483  0.015722 -0.151324 -0.071362  0.000536  9.351335e-16         1  \n",
       "60  0.001609  0.000850  0.001635  0.001236  0.002656  9.351335e-16         1  \n",
       "11  0.024876  0.006738  0.008668 -0.000593 -0.000091  9.351335e-16         1  \n",
       "\n",
       "[3 rows x 66 columns]"
      ]
     },
     "execution_count": 100,
     "metadata": {},
     "output_type": "execute_result"
    }
   ],
   "source": [
    "data_cyclones = pd.DataFrame(vectors_tfidf_reports_dim65)\n",
    "data_cyclones['Cyclones'] = baseline['Cyclones']\n",
    "data_cyclones = data_cyclones[data_cyclones['Cyclones'].notnull()]\n",
    "data_cyclones['Cyclones'] = data_cyclones['Cyclones'].astype(int)\n",
    "data_cyclones.sample(3)"
   ]
  },
  {
   "cell_type": "code",
   "execution_count": 101,
   "metadata": {},
   "outputs": [
    {
     "name": "stdout",
     "output_type": "stream",
     "text": [
      "Proportion of cyclones class observations:  0.984\n"
     ]
    }
   ],
   "source": [
    "#There is just one observation without Cyclones. It's not possible to apply ML!\n",
    "print('Proportion of cyclones class observations: ',np.round(np.sum(data_cyclones['Cyclones'] == 1)/len(data_cyclones), decimals = 3))"
   ]
  },
  {
   "cell_type": "markdown",
   "metadata": {},
   "source": [
    "#### 3.3.2) Floods"
   ]
  },
  {
   "cell_type": "code",
   "execution_count": 102,
   "metadata": {},
   "outputs": [
    {
     "data": {
      "text/html": [
       "<div>\n",
       "<style scoped>\n",
       "    .dataframe tbody tr th:only-of-type {\n",
       "        vertical-align: middle;\n",
       "    }\n",
       "\n",
       "    .dataframe tbody tr th {\n",
       "        vertical-align: top;\n",
       "    }\n",
       "\n",
       "    .dataframe thead th {\n",
       "        text-align: right;\n",
       "    }\n",
       "</style>\n",
       "<table border=\"1\" class=\"dataframe\">\n",
       "  <thead>\n",
       "    <tr style=\"text-align: right;\">\n",
       "      <th></th>\n",
       "      <th>0</th>\n",
       "      <th>1</th>\n",
       "      <th>2</th>\n",
       "      <th>3</th>\n",
       "      <th>4</th>\n",
       "      <th>5</th>\n",
       "      <th>6</th>\n",
       "      <th>7</th>\n",
       "      <th>8</th>\n",
       "      <th>9</th>\n",
       "      <th>...</th>\n",
       "      <th>56</th>\n",
       "      <th>57</th>\n",
       "      <th>58</th>\n",
       "      <th>59</th>\n",
       "      <th>60</th>\n",
       "      <th>61</th>\n",
       "      <th>62</th>\n",
       "      <th>63</th>\n",
       "      <th>64</th>\n",
       "      <th>Floods</th>\n",
       "    </tr>\n",
       "  </thead>\n",
       "  <tbody>\n",
       "    <tr>\n",
       "      <th>28</th>\n",
       "      <td>-0.280048</td>\n",
       "      <td>-0.081509</td>\n",
       "      <td>-0.131827</td>\n",
       "      <td>-0.020574</td>\n",
       "      <td>0.014389</td>\n",
       "      <td>-0.419556</td>\n",
       "      <td>-0.408326</td>\n",
       "      <td>0.061705</td>\n",
       "      <td>-0.039007</td>\n",
       "      <td>-0.004892</td>\n",
       "      <td>...</td>\n",
       "      <td>-0.125078</td>\n",
       "      <td>0.055294</td>\n",
       "      <td>-0.011715</td>\n",
       "      <td>-0.014219</td>\n",
       "      <td>0.002767</td>\n",
       "      <td>-0.004338</td>\n",
       "      <td>-0.007874</td>\n",
       "      <td>-0.002645</td>\n",
       "      <td>9.351335e-16</td>\n",
       "      <td>1</td>\n",
       "    </tr>\n",
       "    <tr>\n",
       "      <th>12</th>\n",
       "      <td>0.203866</td>\n",
       "      <td>0.516668</td>\n",
       "      <td>-0.206135</td>\n",
       "      <td>-0.048428</td>\n",
       "      <td>-0.016315</td>\n",
       "      <td>0.009895</td>\n",
       "      <td>0.000233</td>\n",
       "      <td>-0.008035</td>\n",
       "      <td>-0.001141</td>\n",
       "      <td>-0.018322</td>\n",
       "      <td>...</td>\n",
       "      <td>0.217275</td>\n",
       "      <td>-0.033470</td>\n",
       "      <td>0.009077</td>\n",
       "      <td>-0.055947</td>\n",
       "      <td>-0.021178</td>\n",
       "      <td>-0.008381</td>\n",
       "      <td>-0.027384</td>\n",
       "      <td>0.000916</td>\n",
       "      <td>9.351335e-16</td>\n",
       "      <td>1</td>\n",
       "    </tr>\n",
       "    <tr>\n",
       "      <th>43</th>\n",
       "      <td>-0.051226</td>\n",
       "      <td>0.068850</td>\n",
       "      <td>0.419180</td>\n",
       "      <td>-0.085052</td>\n",
       "      <td>-0.040415</td>\n",
       "      <td>0.016302</td>\n",
       "      <td>-0.001494</td>\n",
       "      <td>0.055178</td>\n",
       "      <td>-0.060566</td>\n",
       "      <td>0.204003</td>\n",
       "      <td>...</td>\n",
       "      <td>0.003245</td>\n",
       "      <td>0.001168</td>\n",
       "      <td>0.019516</td>\n",
       "      <td>-0.012738</td>\n",
       "      <td>-0.022754</td>\n",
       "      <td>0.001871</td>\n",
       "      <td>0.003724</td>\n",
       "      <td>0.001837</td>\n",
       "      <td>9.351335e-16</td>\n",
       "      <td>0</td>\n",
       "    </tr>\n",
       "  </tbody>\n",
       "</table>\n",
       "<p>3 rows × 66 columns</p>\n",
       "</div>"
      ],
      "text/plain": [
       "           0         1         2         3         4         5         6  \\\n",
       "28 -0.280048 -0.081509 -0.131827 -0.020574  0.014389 -0.419556 -0.408326   \n",
       "12  0.203866  0.516668 -0.206135 -0.048428 -0.016315  0.009895  0.000233   \n",
       "43 -0.051226  0.068850  0.419180 -0.085052 -0.040415  0.016302 -0.001494   \n",
       "\n",
       "           7         8         9   ...          56        57        58  \\\n",
       "28  0.061705 -0.039007 -0.004892   ...   -0.125078  0.055294 -0.011715   \n",
       "12 -0.008035 -0.001141 -0.018322   ...    0.217275 -0.033470  0.009077   \n",
       "43  0.055178 -0.060566  0.204003   ...    0.003245  0.001168  0.019516   \n",
       "\n",
       "          59        60        61        62        63            64  Floods  \n",
       "28 -0.014219  0.002767 -0.004338 -0.007874 -0.002645  9.351335e-16       1  \n",
       "12 -0.055947 -0.021178 -0.008381 -0.027384  0.000916  9.351335e-16       1  \n",
       "43 -0.012738 -0.022754  0.001871  0.003724  0.001837  9.351335e-16       0  \n",
       "\n",
       "[3 rows x 66 columns]"
      ]
     },
     "execution_count": 102,
     "metadata": {},
     "output_type": "execute_result"
    }
   ],
   "source": [
    "data_floods = pd.DataFrame(vectors_tfidf_reports_dim65)\n",
    "data_floods['Floods'] = baseline['Floods']\n",
    "data_floods = data_floods[data_floods['Floods'].notnull()]\n",
    "data_floods['Floods'] = data_floods['Floods'].astype(int)\n",
    "data_floods.sample(3)"
   ]
  },
  {
   "cell_type": "code",
   "execution_count": 103,
   "metadata": {},
   "outputs": [
    {
     "name": "stdout",
     "output_type": "stream",
     "text": [
      "Proportion of floods class observations:  0.905\n"
     ]
    }
   ],
   "source": [
    "#Classes highly imbalanced...\n",
    "print('Proportion of floods class observations: ',np.round(np.sum(data_floods['Floods'])/len(data_floods), decimals = 3))"
   ]
  },
  {
   "cell_type": "code",
   "execution_count": 104,
   "metadata": {},
   "outputs": [
    {
     "name": "stdout",
     "output_type": "stream",
     "text": [
      "TFIDF vectors Train/Test shapes : (44, 65)  / (19, 65)\n"
     ]
    }
   ],
   "source": [
    "x_train, x_test, y_train, y_test = train_test_split(data_floods.iloc[:,0:65], data_floods['Floods'], test_size=TEST_SPLIT, random_state=42)\n",
    "#x_train, x_val, y_train, y_val = train_test_split(x_train, y_train, test_size=TEST_SPLIT, random_state=43)\n",
    "\n",
    "#total number of observations\n",
    "print (\"TFIDF vectors Train/Test shapes : %s  / %s\" % (str(x_train.shape), str(x_test.shape)))"
   ]
  },
  {
   "cell_type": "code",
   "execution_count": 105,
   "metadata": {},
   "outputs": [
    {
     "name": "stdout",
     "output_type": "stream",
     "text": [
      "Dummy\n",
      "DummyClassifier(constant=None, random_state=None, strategy='most_frequent')\n",
      "[1 1 1 1 1 1 1 1 1 1 1 1 1 1 1 1 1 1 1]\n",
      "LogisticRegression\n",
      "LogisticRegression(C=1.0, class_weight=None, dual=False, fit_intercept=True,\n",
      "          intercept_scaling=1, max_iter=500, multi_class='auto',\n",
      "          n_jobs=None, penalty='l2', random_state=None, solver='lbfgs',\n",
      "          tol=0.0001, verbose=0, warm_start=False)\n",
      "[1 1 1 1 1 1 1 1 1 1 1 1 1 1 1 1 1 1 1]\n",
      "NaiveBayes\n",
      "GaussianNB(priors=None, var_smoothing=1e-09)\n",
      "[1 1 1 1 1 1 1 1 1 1 1 1 1 1 1 1 1 1 1]\n",
      "SVC\n",
      "SVC(C=1.0, cache_size=200, class_weight=None, coef0=0.0,\n",
      "  decision_function_shape='ovr', degree=3, gamma='auto', kernel='sigmoid',\n",
      "  max_iter=-1, probability=False, random_state=None, shrinking=True,\n",
      "  tol=0.001, verbose=False)\n",
      "[1 1 1 1 1 1 1 1 1 1 1 1 1 1 1 1 1 1 1]\n",
      "DecisionTree\n",
      "DecisionTreeClassifier(class_weight=None, criterion='gini', max_depth=None,\n",
      "            max_features=None, max_leaf_nodes=None,\n",
      "            min_impurity_decrease=0.0, min_impurity_split=None,\n",
      "            min_samples_leaf=1, min_samples_split=2,\n",
      "            min_weight_fraction_leaf=0.0, presort=False, random_state=None,\n",
      "            splitter='best')\n",
      "[1 1 1 1 1 1 1 1 1 1 1 1 1 1 1 1 1 1 1]\n",
      "RandomForest\n",
      "RandomForestClassifier(bootstrap=True, class_weight=None, criterion='gini',\n",
      "            max_depth=None, max_features='auto', max_leaf_nodes=None,\n",
      "            min_impurity_decrease=0.0, min_impurity_split=None,\n",
      "            min_samples_leaf=1, min_samples_split=2,\n",
      "            min_weight_fraction_leaf=0.0, n_estimators=100, n_jobs=None,\n",
      "            oob_score=False, random_state=1, verbose=0, warm_start=False)\n",
      "[1 1 1 1 1 1 1 1 1 1 1 1 1 1 1 1 1 1 1]\n",
      "Ensemble\n",
      "VotingClassifier(estimators=[('nb', GaussianNB(priors=None, var_smoothing=1e-09)), ('lr', LogisticRegression(C=1.0, class_weight=None, dual=False, fit_intercept=True,\n",
      "          intercept_scaling=1, max_iter=100, multi_class='auto',\n",
      "          n_jobs=None, penalty='l2', random_state=None, solver='liblinear',\n",
      "         ...mators=100, n_jobs=None,\n",
      "            oob_score=False, random_state=1, verbose=0, warm_start=False))],\n",
      "         flatten_transform=None, n_jobs=None, voting='hard', weights=None)\n",
      "[1 1 1 1 1 1 1 1 1 1 1 1 1 1 1 1 1 1 1]\n",
      "done!\n"
     ]
    }
   ],
   "source": [
    "#Train models\n",
    "modelnames = ['Dummy','LogisticRegression','NaiveBayes','SVC','DecisionTree','RandomForest','Ensemble']\n",
    "yhat = {}\n",
    "for modelname in modelnames:\n",
    "    print (modelname)\n",
    "    model = train(x_train, y_train, modelname)\n",
    "    print (model)\n",
    "    \n",
    "    yhat[modelname] = model.predict(x_test)\n",
    "    print (yhat[modelname])\n",
    "    \n",
    "print ('done!')"
   ]
  },
  {
   "cell_type": "code",
   "execution_count": 106,
   "metadata": {},
   "outputs": [
    {
     "name": "stdout",
     "output_type": "stream",
     "text": [
      "Dummy\n",
      "              precision    recall  f1-score   support\n",
      "\n",
      "           0       0.00      0.00      0.00         3\n",
      "           1       0.84      1.00      0.91        16\n",
      "\n",
      "   micro avg       0.84      0.84      0.84        19\n",
      "   macro avg       0.42      0.50      0.46        19\n",
      "weighted avg       0.71      0.84      0.77        19\n",
      "\n",
      "LogisticRegression\n",
      "              precision    recall  f1-score   support\n",
      "\n",
      "           0       0.00      0.00      0.00         3\n",
      "           1       0.84      1.00      0.91        16\n",
      "\n",
      "   micro avg       0.84      0.84      0.84        19\n",
      "   macro avg       0.42      0.50      0.46        19\n",
      "weighted avg       0.71      0.84      0.77        19\n",
      "\n",
      "NaiveBayes\n",
      "              precision    recall  f1-score   support\n",
      "\n",
      "           0       0.00      0.00      0.00         3\n",
      "           1       0.84      1.00      0.91        16\n",
      "\n",
      "   micro avg       0.84      0.84      0.84        19\n",
      "   macro avg       0.42      0.50      0.46        19\n",
      "weighted avg       0.71      0.84      0.77        19\n",
      "\n",
      "SVC\n",
      "              precision    recall  f1-score   support\n",
      "\n",
      "           0       0.00      0.00      0.00         3\n",
      "           1       0.84      1.00      0.91        16\n",
      "\n",
      "   micro avg       0.84      0.84      0.84        19\n",
      "   macro avg       0.42      0.50      0.46        19\n",
      "weighted avg       0.71      0.84      0.77        19\n",
      "\n",
      "DecisionTree\n",
      "              precision    recall  f1-score   support\n",
      "\n",
      "           0       0.00      0.00      0.00         3\n",
      "           1       0.84      1.00      0.91        16\n",
      "\n",
      "   micro avg       0.84      0.84      0.84        19\n",
      "   macro avg       0.42      0.50      0.46        19\n",
      "weighted avg       0.71      0.84      0.77        19\n",
      "\n",
      "RandomForest\n",
      "              precision    recall  f1-score   support\n",
      "\n",
      "           0       0.00      0.00      0.00         3\n",
      "           1       0.84      1.00      0.91        16\n",
      "\n",
      "   micro avg       0.84      0.84      0.84        19\n",
      "   macro avg       0.42      0.50      0.46        19\n",
      "weighted avg       0.71      0.84      0.77        19\n",
      "\n",
      "Ensemble\n",
      "              precision    recall  f1-score   support\n",
      "\n",
      "           0       0.00      0.00      0.00         3\n",
      "           1       0.84      1.00      0.91        16\n",
      "\n",
      "   micro avg       0.84      0.84      0.84        19\n",
      "   macro avg       0.42      0.50      0.46        19\n",
      "weighted avg       0.71      0.84      0.77        19\n",
      "\n"
     ]
    },
    {
     "name": "stderr",
     "output_type": "stream",
     "text": [
      "C:\\Users\\Paola.YELA\\AppData\\Local\\Continuum\\anaconda3\\lib\\site-packages\\sklearn\\metrics\\classification.py:1143: UndefinedMetricWarning: Precision and F-score are ill-defined and being set to 0.0 in labels with no predicted samples.\n",
      "  'precision', 'predicted', average, warn_for)\n"
     ]
    }
   ],
   "source": [
    "# Now evaluate\n",
    "results={}\n",
    "for modelname in yhat:\n",
    "    print (modelname)\n",
    "    results[modelname] = classification_report(y_test, yhat[modelname], output_dict=True)\n",
    "    print (classification_report(y_test, yhat[modelname]))"
   ]
  },
  {
   "cell_type": "code",
   "execution_count": 107,
   "metadata": {},
   "outputs": [
    {
     "data": {
      "image/png": "[encoded data removed]",
      "text/plain": [
       "<Figure size 576x432 with 1 Axes>"
      ]
     },
     "metadata": {
      "needs_background": "light"
     },
     "output_type": "display_data"
    }
   ],
   "source": [
    "#Now plot\n",
    "EVAL_AVGTYPE = 'weighted avg'\n",
    "EVAL_MEASURE = 'precision'\n",
    "\n",
    "fig = plt.figure(figsize=(8,6)) \n",
    "\n",
    "labels = modelnames\n",
    "data = [results[x][EVAL_AVGTYPE][EVAL_MEASURE] for x in labels]\n",
    "\n",
    "plt.bar(labels, data, color='#E32219',alpha = .8)\n",
    "    \n",
    "plt.ylabel(EVAL_MEASURE, fontsize=18)\n",
    "plt.tick_params(axis='both', which='major', labelsize=16)\n",
    "plt.tick_params(axis='both', which='minor', labelsize=12)\n",
    "plt.xticks(rotation=90)\n",
    "\n",
    "plt.show()"
   ]
  },
  {
   "cell_type": "markdown",
   "metadata": {},
   "source": [
    "#### 3.3.3) Earthquake"
   ]
  },
  {
   "cell_type": "code",
   "execution_count": 108,
   "metadata": {},
   "outputs": [
    {
     "data": {
      "text/html": [
       "<div>\n",
       "<style scoped>\n",
       "    .dataframe tbody tr th:only-of-type {\n",
       "        vertical-align: middle;\n",
       "    }\n",
       "\n",
       "    .dataframe tbody tr th {\n",
       "        vertical-align: top;\n",
       "    }\n",
       "\n",
       "    .dataframe thead th {\n",
       "        text-align: right;\n",
       "    }\n",
       "</style>\n",
       "<table border=\"1\" class=\"dataframe\">\n",
       "  <thead>\n",
       "    <tr style=\"text-align: right;\">\n",
       "      <th></th>\n",
       "      <th>0</th>\n",
       "      <th>1</th>\n",
       "      <th>2</th>\n",
       "      <th>3</th>\n",
       "      <th>4</th>\n",
       "      <th>5</th>\n",
       "      <th>6</th>\n",
       "      <th>7</th>\n",
       "      <th>8</th>\n",
       "      <th>9</th>\n",
       "      <th>...</th>\n",
       "      <th>56</th>\n",
       "      <th>57</th>\n",
       "      <th>58</th>\n",
       "      <th>59</th>\n",
       "      <th>60</th>\n",
       "      <th>61</th>\n",
       "      <th>62</th>\n",
       "      <th>63</th>\n",
       "      <th>64</th>\n",
       "      <th>Earthquake</th>\n",
       "    </tr>\n",
       "  </thead>\n",
       "  <tbody>\n",
       "    <tr>\n",
       "      <th>56</th>\n",
       "      <td>0.289831</td>\n",
       "      <td>-0.229470</td>\n",
       "      <td>-0.047319</td>\n",
       "      <td>-0.062085</td>\n",
       "      <td>-0.000144</td>\n",
       "      <td>0.006018</td>\n",
       "      <td>-0.008942</td>\n",
       "      <td>0.039862</td>\n",
       "      <td>-0.069806</td>\n",
       "      <td>-0.040073</td>\n",
       "      <td>...</td>\n",
       "      <td>-0.036855</td>\n",
       "      <td>-0.013976</td>\n",
       "      <td>-0.028463</td>\n",
       "      <td>0.040563</td>\n",
       "      <td>-0.004026</td>\n",
       "      <td>-0.035063</td>\n",
       "      <td>-0.021601</td>\n",
       "      <td>-0.000971</td>\n",
       "      <td>9.351335e-16</td>\n",
       "      <td>0</td>\n",
       "    </tr>\n",
       "    <tr>\n",
       "      <th>57</th>\n",
       "      <td>0.207353</td>\n",
       "      <td>-0.138645</td>\n",
       "      <td>-0.045516</td>\n",
       "      <td>-0.012617</td>\n",
       "      <td>-0.005792</td>\n",
       "      <td>0.004517</td>\n",
       "      <td>0.035247</td>\n",
       "      <td>0.035658</td>\n",
       "      <td>-0.101697</td>\n",
       "      <td>-0.036679</td>\n",
       "      <td>...</td>\n",
       "      <td>-0.007247</td>\n",
       "      <td>-0.016849</td>\n",
       "      <td>0.018183</td>\n",
       "      <td>0.041803</td>\n",
       "      <td>-0.008368</td>\n",
       "      <td>-0.003596</td>\n",
       "      <td>-0.007281</td>\n",
       "      <td>0.002616</td>\n",
       "      <td>9.351335e-16</td>\n",
       "      <td>1</td>\n",
       "    </tr>\n",
       "    <tr>\n",
       "      <th>11</th>\n",
       "      <td>0.177430</td>\n",
       "      <td>0.491629</td>\n",
       "      <td>-0.179082</td>\n",
       "      <td>-0.055194</td>\n",
       "      <td>0.013925</td>\n",
       "      <td>0.010473</td>\n",
       "      <td>-0.008350</td>\n",
       "      <td>0.016830</td>\n",
       "      <td>-0.028719</td>\n",
       "      <td>0.001911</td>\n",
       "      <td>...</td>\n",
       "      <td>-0.034772</td>\n",
       "      <td>0.001777</td>\n",
       "      <td>-0.017112</td>\n",
       "      <td>0.024876</td>\n",
       "      <td>0.006738</td>\n",
       "      <td>0.008668</td>\n",
       "      <td>-0.000593</td>\n",
       "      <td>-0.000091</td>\n",
       "      <td>9.351335e-16</td>\n",
       "      <td>1</td>\n",
       "    </tr>\n",
       "  </tbody>\n",
       "</table>\n",
       "<p>3 rows × 66 columns</p>\n",
       "</div>"
      ],
      "text/plain": [
       "           0         1         2         3         4         5         6  \\\n",
       "56  0.289831 -0.229470 -0.047319 -0.062085 -0.000144  0.006018 -0.008942   \n",
       "57  0.207353 -0.138645 -0.045516 -0.012617 -0.005792  0.004517  0.035247   \n",
       "11  0.177430  0.491629 -0.179082 -0.055194  0.013925  0.010473 -0.008350   \n",
       "\n",
       "           7         8         9     ...            56        57        58  \\\n",
       "56  0.039862 -0.069806 -0.040073     ...     -0.036855 -0.013976 -0.028463   \n",
       "57  0.035658 -0.101697 -0.036679     ...     -0.007247 -0.016849  0.018183   \n",
       "11  0.016830 -0.028719  0.001911     ...     -0.034772  0.001777 -0.017112   \n",
       "\n",
       "          59        60        61        62        63            64  Earthquake  \n",
       "56  0.040563 -0.004026 -0.035063 -0.021601 -0.000971  9.351335e-16           0  \n",
       "57  0.041803 -0.008368 -0.003596 -0.007281  0.002616  9.351335e-16           1  \n",
       "11  0.024876  0.006738  0.008668 -0.000593 -0.000091  9.351335e-16           1  \n",
       "\n",
       "[3 rows x 66 columns]"
      ]
     },
     "execution_count": 108,
     "metadata": {},
     "output_type": "execute_result"
    }
   ],
   "source": [
    "data_earthquake = pd.DataFrame(vectors_tfidf_reports_dim65)\n",
    "data_earthquake['Earthquake'] = baseline['Earthquake']\n",
    "data_earthquake = data_earthquake[data_earthquake['Earthquake'].notnull()]\n",
    "data_earthquake['Earthquake'] = data_earthquake['Earthquake'].astype(int)\n",
    "data_earthquake.sample(3)"
   ]
  },
  {
   "cell_type": "code",
   "execution_count": 109,
   "metadata": {},
   "outputs": [
    {
     "name": "stdout",
     "output_type": "stream",
     "text": [
      "Proportion of earthquake class observations:  0.46\n"
     ]
    }
   ],
   "source": [
    "#Classes nicely balanced :)\n",
    "print('Proportion of earthquake class observations: ',np.round(np.sum(data_earthquake['Earthquake'])/len(data_earthquake), decimals = 3))"
   ]
  },
  {
   "cell_type": "code",
   "execution_count": 110,
   "metadata": {},
   "outputs": [],
   "source": [
    "TEST_SPLIT = 0.2"
   ]
  },
  {
   "cell_type": "code",
   "execution_count": 111,
   "metadata": {},
   "outputs": [
    {
     "name": "stdout",
     "output_type": "stream",
     "text": [
      "TFIDF vectors Train/Test shapes : (50, 65) / (13, 65)\n"
     ]
    }
   ],
   "source": [
    "x_train, x_test, y_train, y_test = train_test_split(data_earthquake.iloc[:,0:65], data_earthquake['Earthquake'], test_size=TEST_SPLIT, random_state=42)\n",
    "#x_train, x_val, y_train, y_val = train_test_split(x_train, y_train, test_size=TEST_SPLIT, random_state=43)\n",
    "\n",
    "#total number of observations\n",
    "print (\"TFIDF vectors Train/Test shapes : %s / %s\" % (str(x_train.shape),  str(x_test.shape)))"
   ]
  },
  {
   "cell_type": "code",
   "execution_count": 112,
   "metadata": {},
   "outputs": [
    {
     "name": "stdout",
     "output_type": "stream",
     "text": [
      "Dummy\n",
      "DummyClassifier(constant=None, random_state=None, strategy='most_frequent')\n",
      "[0 0 0 0 0 0 0 0 0 0 0 0 0]\n",
      "LogisticRegression\n",
      "LogisticRegression(C=1.0, class_weight=None, dual=False, fit_intercept=True,\n",
      "          intercept_scaling=1, max_iter=500, multi_class='auto',\n",
      "          n_jobs=None, penalty='l2', random_state=None, solver='lbfgs',\n",
      "          tol=0.0001, verbose=0, warm_start=False)\n",
      "[0 0 1 0 0 0 0 1 0 0 0 1 0]\n",
      "NaiveBayes\n",
      "GaussianNB(priors=None, var_smoothing=1e-09)\n",
      "[0 1 1 0 0 0 1 1 0 0 0 1 0]\n",
      "SVC\n",
      "SVC(C=1.0, cache_size=200, class_weight=None, coef0=0.0,\n",
      "  decision_function_shape='ovr', degree=3, gamma='auto', kernel='sigmoid',\n",
      "  max_iter=-1, probability=False, random_state=None, shrinking=True,\n",
      "  tol=0.001, verbose=False)\n",
      "[0 0 0 0 0 0 0 0 0 0 0 0 0]\n",
      "DecisionTree\n",
      "DecisionTreeClassifier(class_weight=None, criterion='gini', max_depth=None,\n",
      "            max_features=None, max_leaf_nodes=None,\n",
      "            min_impurity_decrease=0.0, min_impurity_split=None,\n",
      "            min_samples_leaf=1, min_samples_split=2,\n",
      "            min_weight_fraction_leaf=0.0, presort=False, random_state=None,\n",
      "            splitter='best')\n",
      "[0 1 1 0 0 0 0 1 0 1 0 1 1]\n",
      "RandomForest\n",
      "RandomForestClassifier(bootstrap=True, class_weight=None, criterion='gini',\n",
      "            max_depth=None, max_features='auto', max_leaf_nodes=None,\n",
      "            min_impurity_decrease=0.0, min_impurity_split=None,\n",
      "            min_samples_leaf=1, min_samples_split=2,\n",
      "            min_weight_fraction_leaf=0.0, n_estimators=100, n_jobs=None,\n",
      "            oob_score=False, random_state=1, verbose=0, warm_start=False)\n",
      "[0 1 1 0 0 0 0 1 0 0 1 1 1]\n",
      "Ensemble\n",
      "VotingClassifier(estimators=[('nb', GaussianNB(priors=None, var_smoothing=1e-09)), ('lr', LogisticRegression(C=1.0, class_weight=None, dual=False, fit_intercept=True,\n",
      "          intercept_scaling=1, max_iter=100, multi_class='auto',\n",
      "          n_jobs=None, penalty='l2', random_state=None, solver='liblinear',\n",
      "         ...mators=100, n_jobs=None,\n",
      "            oob_score=False, random_state=1, verbose=0, warm_start=False))],\n",
      "         flatten_transform=None, n_jobs=None, voting='hard', weights=None)\n",
      "[0 0 1 0 0 0 0 1 0 0 0 1 0]\n",
      "done!\n"
     ]
    }
   ],
   "source": [
    "#Train models\n",
    "modelnames = ['Dummy','LogisticRegression','NaiveBayes','SVC','DecisionTree','RandomForest','Ensemble']\n",
    "yhat = {}\n",
    "for modelname in modelnames:\n",
    "    print (modelname)\n",
    "    model = train(x_train, y_train, modelname)\n",
    "    print (model)\n",
    "    \n",
    "    yhat[modelname] = model.predict(x_test)\n",
    "    print (yhat[modelname])\n",
    "    \n",
    "print ('done!')"
   ]
  },
  {
   "cell_type": "code",
   "execution_count": 113,
   "metadata": {},
   "outputs": [
    {
     "name": "stdout",
     "output_type": "stream",
     "text": [
      "Dummy\n",
      "              precision    recall  f1-score   support\n",
      "\n",
      "           0       0.54      1.00      0.70         7\n",
      "           1       0.00      0.00      0.00         6\n",
      "\n",
      "   micro avg       0.54      0.54      0.54        13\n",
      "   macro avg       0.27      0.50      0.35        13\n",
      "weighted avg       0.29      0.54      0.38        13\n",
      "\n",
      "LogisticRegression\n",
      "              precision    recall  f1-score   support\n",
      "\n",
      "           0       0.50      0.71      0.59         7\n",
      "           1       0.33      0.17      0.22         6\n",
      "\n",
      "   micro avg       0.46      0.46      0.46        13\n",
      "   macro avg       0.42      0.44      0.41        13\n",
      "weighted avg       0.42      0.46      0.42        13\n",
      "\n",
      "NaiveBayes\n",
      "              precision    recall  f1-score   support\n",
      "\n",
      "           0       0.50      0.57      0.53         7\n",
      "           1       0.40      0.33      0.36         6\n",
      "\n",
      "   micro avg       0.46      0.46      0.46        13\n",
      "   macro avg       0.45      0.45      0.45        13\n",
      "weighted avg       0.45      0.46      0.46        13\n",
      "\n",
      "SVC\n",
      "              precision    recall  f1-score   support\n",
      "\n",
      "           0       0.54      1.00      0.70         7\n",
      "           1       0.00      0.00      0.00         6\n",
      "\n",
      "   micro avg       0.54      0.54      0.54        13\n",
      "   macro avg       0.27      0.50      0.35        13\n",
      "weighted avg       0.29      0.54      0.38        13\n",
      "\n",
      "DecisionTree\n",
      "              precision    recall  f1-score   support\n",
      "\n",
      "           0       0.57      0.57      0.57         7\n",
      "           1       0.50      0.50      0.50         6\n",
      "\n",
      "   micro avg       0.54      0.54      0.54        13\n",
      "   macro avg       0.54      0.54      0.54        13\n",
      "weighted avg       0.54      0.54      0.54        13\n",
      "\n",
      "RandomForest\n",
      "              precision    recall  f1-score   support\n",
      "\n",
      "           0       0.71      0.71      0.71         7\n",
      "           1       0.67      0.67      0.67         6\n",
      "\n",
      "   micro avg       0.69      0.69      0.69        13\n",
      "   macro avg       0.69      0.69      0.69        13\n",
      "weighted avg       0.69      0.69      0.69        13\n",
      "\n",
      "Ensemble\n",
      "              precision    recall  f1-score   support\n",
      "\n",
      "           0       0.50      0.71      0.59         7\n",
      "           1       0.33      0.17      0.22         6\n",
      "\n",
      "   micro avg       0.46      0.46      0.46        13\n",
      "   macro avg       0.42      0.44      0.41        13\n",
      "weighted avg       0.42      0.46      0.42        13\n",
      "\n"
     ]
    },
    {
     "name": "stderr",
     "output_type": "stream",
     "text": [
      "C:\\Users\\Paola.YELA\\AppData\\Local\\Continuum\\anaconda3\\lib\\site-packages\\sklearn\\metrics\\classification.py:1143: UndefinedMetricWarning: Precision and F-score are ill-defined and being set to 0.0 in labels with no predicted samples.\n",
      "  'precision', 'predicted', average, warn_for)\n"
     ]
    }
   ],
   "source": [
    "# Now evaluate\n",
    "results={}\n",
    "for modelname in yhat:\n",
    "    print (modelname)\n",
    "    results[modelname] = classification_report(y_test, yhat[modelname], output_dict=True)\n",
    "    print (classification_report(y_test, yhat[modelname]))"
   ]
  },
  {
   "cell_type": "code",
   "execution_count": 114,
   "metadata": {},
   "outputs": [
    {
     "data": {
      "image/png": "[encoded data removed]",
      "text/plain": [
       "<Figure size 576x432 with 1 Axes>"
      ]
     },
     "metadata": {
      "needs_background": "light"
     },
     "output_type": "display_data"
    }
   ],
   "source": [
    "#Now plot\n",
    "EVAL_AVGTYPE = 'weighted avg'\n",
    "EVAL_MEASURE = 'precision'\n",
    "\n",
    "fig = plt.figure(figsize=(8,6)) \n",
    "\n",
    "labels = modelnames\n",
    "data = [results[x][EVAL_AVGTYPE][EVAL_MEASURE] for x in labels]\n",
    "\n",
    "plt.bar(labels, data, color='#E32219',alpha = .8)\n",
    "    \n",
    "plt.ylabel(EVAL_MEASURE, fontsize=18)\n",
    "plt.tick_params(axis='both', which='major', labelsize=16)\n",
    "plt.tick_params(axis='both', which='minor', labelsize=12)\n",
    "plt.xticks(rotation=90)\n",
    "\n",
    "plt.show()"
   ]
  },
  {
   "cell_type": "markdown",
   "metadata": {},
   "source": [
    "#### 3.3.4) Drought"
   ]
  },
  {
   "cell_type": "code",
   "execution_count": 122,
   "metadata": {},
   "outputs": [
    {
     "data": {
      "text/html": [
       "<div>\n",
       "<style scoped>\n",
       "    .dataframe tbody tr th:only-of-type {\n",
       "        vertical-align: middle;\n",
       "    }\n",
       "\n",
       "    .dataframe tbody tr th {\n",
       "        vertical-align: top;\n",
       "    }\n",
       "\n",
       "    .dataframe thead th {\n",
       "        text-align: right;\n",
       "    }\n",
       "</style>\n",
       "<table border=\"1\" class=\"dataframe\">\n",
       "  <thead>\n",
       "    <tr style=\"text-align: right;\">\n",
       "      <th></th>\n",
       "      <th>0</th>\n",
       "      <th>1</th>\n",
       "      <th>2</th>\n",
       "      <th>3</th>\n",
       "      <th>4</th>\n",
       "      <th>5</th>\n",
       "      <th>6</th>\n",
       "      <th>7</th>\n",
       "      <th>8</th>\n",
       "      <th>9</th>\n",
       "      <th>...</th>\n",
       "      <th>56</th>\n",
       "      <th>57</th>\n",
       "      <th>58</th>\n",
       "      <th>59</th>\n",
       "      <th>60</th>\n",
       "      <th>61</th>\n",
       "      <th>62</th>\n",
       "      <th>63</th>\n",
       "      <th>64</th>\n",
       "      <th>Drought</th>\n",
       "    </tr>\n",
       "  </thead>\n",
       "  <tbody>\n",
       "    <tr>\n",
       "      <th>20</th>\n",
       "      <td>-0.210700</td>\n",
       "      <td>-0.027554</td>\n",
       "      <td>-0.079870</td>\n",
       "      <td>-0.031737</td>\n",
       "      <td>0.034233</td>\n",
       "      <td>-0.290862</td>\n",
       "      <td>0.462228</td>\n",
       "      <td>-0.331929</td>\n",
       "      <td>-0.081201</td>\n",
       "      <td>-0.038153</td>\n",
       "      <td>...</td>\n",
       "      <td>-0.023195</td>\n",
       "      <td>-0.033448</td>\n",
       "      <td>-0.035975</td>\n",
       "      <td>-0.008486</td>\n",
       "      <td>-0.004872</td>\n",
       "      <td>0.007039</td>\n",
       "      <td>-0.001026</td>\n",
       "      <td>-0.002630</td>\n",
       "      <td>9.351335e-16</td>\n",
       "      <td>0</td>\n",
       "    </tr>\n",
       "    <tr>\n",
       "      <th>37</th>\n",
       "      <td>-0.036895</td>\n",
       "      <td>0.070082</td>\n",
       "      <td>0.385997</td>\n",
       "      <td>-0.107435</td>\n",
       "      <td>-0.051307</td>\n",
       "      <td>0.018583</td>\n",
       "      <td>-0.006310</td>\n",
       "      <td>-0.073386</td>\n",
       "      <td>0.055633</td>\n",
       "      <td>-0.162336</td>\n",
       "      <td>...</td>\n",
       "      <td>-0.009296</td>\n",
       "      <td>0.005334</td>\n",
       "      <td>0.000056</td>\n",
       "      <td>0.005610</td>\n",
       "      <td>-0.003969</td>\n",
       "      <td>-0.001577</td>\n",
       "      <td>0.000533</td>\n",
       "      <td>0.001900</td>\n",
       "      <td>9.351335e-16</td>\n",
       "      <td>1</td>\n",
       "    </tr>\n",
       "    <tr>\n",
       "      <th>12</th>\n",
       "      <td>0.203866</td>\n",
       "      <td>0.516668</td>\n",
       "      <td>-0.206135</td>\n",
       "      <td>-0.048428</td>\n",
       "      <td>-0.016315</td>\n",
       "      <td>0.009895</td>\n",
       "      <td>0.000233</td>\n",
       "      <td>-0.008035</td>\n",
       "      <td>-0.001141</td>\n",
       "      <td>-0.018322</td>\n",
       "      <td>...</td>\n",
       "      <td>0.217275</td>\n",
       "      <td>-0.033470</td>\n",
       "      <td>0.009077</td>\n",
       "      <td>-0.055947</td>\n",
       "      <td>-0.021178</td>\n",
       "      <td>-0.008381</td>\n",
       "      <td>-0.027384</td>\n",
       "      <td>0.000916</td>\n",
       "      <td>9.351335e-16</td>\n",
       "      <td>1</td>\n",
       "    </tr>\n",
       "  </tbody>\n",
       "</table>\n",
       "<p>3 rows × 66 columns</p>\n",
       "</div>"
      ],
      "text/plain": [
       "           0         1         2         3         4         5         6  \\\n",
       "20 -0.210700 -0.027554 -0.079870 -0.031737  0.034233 -0.290862  0.462228   \n",
       "37 -0.036895  0.070082  0.385997 -0.107435 -0.051307  0.018583 -0.006310   \n",
       "12  0.203866  0.516668 -0.206135 -0.048428 -0.016315  0.009895  0.000233   \n",
       "\n",
       "           7         8         9   ...           56        57        58  \\\n",
       "20 -0.331929 -0.081201 -0.038153   ...    -0.023195 -0.033448 -0.035975   \n",
       "37 -0.073386  0.055633 -0.162336   ...    -0.009296  0.005334  0.000056   \n",
       "12 -0.008035 -0.001141 -0.018322   ...     0.217275 -0.033470  0.009077   \n",
       "\n",
       "          59        60        61        62        63            64  Drought  \n",
       "20 -0.008486 -0.004872  0.007039 -0.001026 -0.002630  9.351335e-16        0  \n",
       "37  0.005610 -0.003969 -0.001577  0.000533  0.001900  9.351335e-16        1  \n",
       "12 -0.055947 -0.021178 -0.008381 -0.027384  0.000916  9.351335e-16        1  \n",
       "\n",
       "[3 rows x 66 columns]"
      ]
     },
     "execution_count": 122,
     "metadata": {},
     "output_type": "execute_result"
    }
   ],
   "source": [
    "data_drought = pd.DataFrame(vectors_tfidf_reports_dim65)\n",
    "data_drought['Drought'] = baseline['Drought']\n",
    "data_drought = data_drought[data_drought['Drought'].notnull()]\n",
    "data_drought['Drought'] = data_drought['Drought'].astype(int)\n",
    "data_drought.sample(3)"
   ]
  },
  {
   "cell_type": "code",
   "execution_count": 123,
   "metadata": {},
   "outputs": [
    {
     "name": "stdout",
     "output_type": "stream",
     "text": [
      "Proportion of drought class observations:  0.397\n"
     ]
    }
   ],
   "source": [
    "#Classes nicely balanced :)\n",
    "print('Proportion of drought class observations: ',np.round(np.sum(data_drought['Drought'])/len(data_drought), decimals = 3))"
   ]
  },
  {
   "cell_type": "code",
   "execution_count": 124,
   "metadata": {},
   "outputs": [],
   "source": [
    "TEST_SPLIT = 0.2"
   ]
  },
  {
   "cell_type": "code",
   "execution_count": 125,
   "metadata": {},
   "outputs": [
    {
     "name": "stdout",
     "output_type": "stream",
     "text": [
      "TFIDF vectors Train/Test shapes : (40, 65) / (13, 65)\n"
     ]
    }
   ],
   "source": [
    "x_train, x_test, y_train, y_test = train_test_split(data_drought.iloc[:,0:65], data_drought['Drought'], test_size=TEST_SPLIT, random_state=42)\n",
    "x_train, x_val, y_train, y_val = train_test_split(x_train, y_train, test_size=TEST_SPLIT, random_state=43)\n",
    "\n",
    "#total number of observations\n",
    "print (\"TFIDF vectors Train/Test shapes : %s / %s\" % (str(x_train.shape), str(x_test.shape)))"
   ]
  },
  {
   "cell_type": "code",
   "execution_count": 126,
   "metadata": {},
   "outputs": [
    {
     "name": "stdout",
     "output_type": "stream",
     "text": [
      "Dummy\n",
      "DummyClassifier(constant=None, random_state=None, strategy='most_frequent')\n",
      "[0 0 0 0 0 0 0 0 0 0 0 0 0]\n",
      "LogisticRegression\n",
      "LogisticRegression(C=1.0, class_weight=None, dual=False, fit_intercept=True,\n",
      "          intercept_scaling=1, max_iter=500, multi_class='auto',\n",
      "          n_jobs=None, penalty='l2', random_state=None, solver='lbfgs',\n",
      "          tol=0.0001, verbose=0, warm_start=False)\n",
      "[0 0 0 0 0 0 0 0 0 0 0 0 0]\n",
      "NaiveBayes\n",
      "GaussianNB(priors=None, var_smoothing=1e-09)\n",
      "[0 0 1 1 0 0 0 0 1 1 0 0 0]\n",
      "SVC\n",
      "SVC(C=1.0, cache_size=200, class_weight=None, coef0=0.0,\n",
      "  decision_function_shape='ovr', degree=3, gamma='auto', kernel='sigmoid',\n",
      "  max_iter=-1, probability=False, random_state=None, shrinking=True,\n",
      "  tol=0.001, verbose=False)\n",
      "[0 0 0 0 0 0 0 0 0 0 0 0 0]\n",
      "DecisionTree\n",
      "DecisionTreeClassifier(class_weight=None, criterion='gini', max_depth=None,\n",
      "            max_features=None, max_leaf_nodes=None,\n",
      "            min_impurity_decrease=0.0, min_impurity_split=None,\n",
      "            min_samples_leaf=1, min_samples_split=2,\n",
      "            min_weight_fraction_leaf=0.0, presort=False, random_state=None,\n",
      "            splitter='best')\n",
      "[0 0 0 0 0 0 1 1 1 1 0 1 0]\n",
      "RandomForest\n",
      "RandomForestClassifier(bootstrap=True, class_weight=None, criterion='gini',\n",
      "            max_depth=None, max_features='auto', max_leaf_nodes=None,\n",
      "            min_impurity_decrease=0.0, min_impurity_split=None,\n",
      "            min_samples_leaf=1, min_samples_split=2,\n",
      "            min_weight_fraction_leaf=0.0, n_estimators=100, n_jobs=None,\n",
      "            oob_score=False, random_state=1, verbose=0, warm_start=False)\n",
      "[0 0 0 1 0 0 0 0 0 0 0 0 0]\n",
      "Ensemble\n",
      "VotingClassifier(estimators=[('nb', GaussianNB(priors=None, var_smoothing=1e-09)), ('lr', LogisticRegression(C=1.0, class_weight=None, dual=False, fit_intercept=True,\n",
      "          intercept_scaling=1, max_iter=100, multi_class='auto',\n",
      "          n_jobs=None, penalty='l2', random_state=None, solver='liblinear',\n",
      "         ...mators=100, n_jobs=None,\n",
      "            oob_score=False, random_state=1, verbose=0, warm_start=False))],\n",
      "         flatten_transform=None, n_jobs=None, voting='hard', weights=None)\n",
      "[0 0 0 0 0 0 0 0 0 0 0 0 0]\n",
      "done!\n"
     ]
    }
   ],
   "source": [
    "#Train models\n",
    "modelnames = ['Dummy','LogisticRegression','NaiveBayes','SVC','DecisionTree','RandomForest','Ensemble']\n",
    "yhat = {}\n",
    "for modelname in modelnames:\n",
    "    print (modelname)\n",
    "    model = train(x_train, y_train, modelname)\n",
    "    print (model)\n",
    "    \n",
    "    yhat[modelname] = model.predict(x_test)\n",
    "    print (yhat[modelname])\n",
    "    \n",
    "print ('done!')"
   ]
  },
  {
   "cell_type": "code",
   "execution_count": 127,
   "metadata": {},
   "outputs": [
    {
     "name": "stdout",
     "output_type": "stream",
     "text": [
      "Dummy\n",
      "              precision    recall  f1-score   support\n",
      "\n",
      "           0       0.62      1.00      0.76         8\n",
      "           1       0.00      0.00      0.00         5\n",
      "\n",
      "   micro avg       0.62      0.62      0.62        13\n",
      "   macro avg       0.31      0.50      0.38        13\n",
      "weighted avg       0.38      0.62      0.47        13\n",
      "\n",
      "LogisticRegression\n",
      "              precision    recall  f1-score   support\n",
      "\n",
      "           0       0.62      1.00      0.76         8\n",
      "           1       0.00      0.00      0.00         5\n",
      "\n",
      "   micro avg       0.62      0.62      0.62        13\n",
      "   macro avg       0.31      0.50      0.38        13\n",
      "weighted avg       0.38      0.62      0.47        13\n",
      "\n",
      "NaiveBayes\n",
      "              precision    recall  f1-score   support\n",
      "\n",
      "           0       0.56      0.62      0.59         8\n",
      "           1       0.25      0.20      0.22         5\n",
      "\n",
      "   micro avg       0.46      0.46      0.46        13\n",
      "   macro avg       0.40      0.41      0.41        13\n",
      "weighted avg       0.44      0.46      0.45        13\n",
      "\n",
      "SVC\n",
      "              precision    recall  f1-score   support\n",
      "\n",
      "           0       0.62      1.00      0.76         8\n",
      "           1       0.00      0.00      0.00         5\n",
      "\n",
      "   micro avg       0.62      0.62      0.62        13\n",
      "   macro avg       0.31      0.50      0.38        13\n",
      "weighted avg       0.38      0.62      0.47        13\n",
      "\n",
      "DecisionTree\n",
      "              precision    recall  f1-score   support\n",
      "\n",
      "           0       0.62      0.62      0.62         8\n",
      "           1       0.40      0.40      0.40         5\n",
      "\n",
      "   micro avg       0.54      0.54      0.54        13\n",
      "   macro avg       0.51      0.51      0.51        13\n",
      "weighted avg       0.54      0.54      0.54        13\n",
      "\n",
      "RandomForest\n",
      "              precision    recall  f1-score   support\n",
      "\n",
      "           0       0.58      0.88      0.70         8\n",
      "           1       0.00      0.00      0.00         5\n",
      "\n",
      "   micro avg       0.54      0.54      0.54        13\n",
      "   macro avg       0.29      0.44      0.35        13\n",
      "weighted avg       0.36      0.54      0.43        13\n",
      "\n",
      "Ensemble\n",
      "              precision    recall  f1-score   support\n",
      "\n",
      "           0       0.62      1.00      0.76         8\n",
      "           1       0.00      0.00      0.00         5\n",
      "\n",
      "   micro avg       0.62      0.62      0.62        13\n",
      "   macro avg       0.31      0.50      0.38        13\n",
      "weighted avg       0.38      0.62      0.47        13\n",
      "\n"
     ]
    },
    {
     "name": "stderr",
     "output_type": "stream",
     "text": [
      "C:\\Users\\Paola.YELA\\AppData\\Local\\Continuum\\anaconda3\\lib\\site-packages\\sklearn\\metrics\\classification.py:1143: UndefinedMetricWarning: Precision and F-score are ill-defined and being set to 0.0 in labels with no predicted samples.\n",
      "  'precision', 'predicted', average, warn_for)\n"
     ]
    }
   ],
   "source": [
    "# Now evaluate\n",
    "results={}\n",
    "for modelname in yhat:\n",
    "    print (modelname)\n",
    "    results[modelname] = classification_report(y_test, yhat[modelname], output_dict=True)\n",
    "    print (classification_report(y_test, yhat[modelname]))"
   ]
  },
  {
   "cell_type": "code",
   "execution_count": 128,
   "metadata": {},
   "outputs": [
    {
     "data": {
      "image/png": "[encoded data removed]",
      "text/plain": [
       "<Figure size 576x432 with 1 Axes>"
      ]
     },
     "metadata": {
      "needs_background": "light"
     },
     "output_type": "display_data"
    }
   ],
   "source": [
    "#Now plot\n",
    "EVAL_AVGTYPE = 'weighted avg'\n",
    "EVAL_MEASURE = 'precision'\n",
    "\n",
    "fig = plt.figure(figsize=(8,6)) \n",
    "\n",
    "labels = modelnames\n",
    "data = [results[x][EVAL_AVGTYPE][EVAL_MEASURE] for x in labels]\n",
    "\n",
    "plt.bar(labels, data, color='#E32219',alpha = .8)\n",
    "    \n",
    "plt.ylabel(EVAL_MEASURE, fontsize=18)\n",
    "plt.tick_params(axis='both', which='major', labelsize=16)\n",
    "plt.tick_params(axis='both', which='minor', labelsize=12)\n",
    "plt.xticks(rotation=90)\n",
    "\n",
    "plt.show()"
   ]
  },
  {
   "cell_type": "markdown",
   "metadata": {},
   "source": [
    "#### 3.3.5) Tsunami"
   ]
  },
  {
   "cell_type": "code",
   "execution_count": 129,
   "metadata": {},
   "outputs": [
    {
     "data": {
      "text/html": [
       "<div>\n",
       "<style scoped>\n",
       "    .dataframe tbody tr th:only-of-type {\n",
       "        vertical-align: middle;\n",
       "    }\n",
       "\n",
       "    .dataframe tbody tr th {\n",
       "        vertical-align: top;\n",
       "    }\n",
       "\n",
       "    .dataframe thead th {\n",
       "        text-align: right;\n",
       "    }\n",
       "</style>\n",
       "<table border=\"1\" class=\"dataframe\">\n",
       "  <thead>\n",
       "    <tr style=\"text-align: right;\">\n",
       "      <th></th>\n",
       "      <th>0</th>\n",
       "      <th>1</th>\n",
       "      <th>2</th>\n",
       "      <th>3</th>\n",
       "      <th>4</th>\n",
       "      <th>5</th>\n",
       "      <th>6</th>\n",
       "      <th>7</th>\n",
       "      <th>8</th>\n",
       "      <th>9</th>\n",
       "      <th>...</th>\n",
       "      <th>56</th>\n",
       "      <th>57</th>\n",
       "      <th>58</th>\n",
       "      <th>59</th>\n",
       "      <th>60</th>\n",
       "      <th>61</th>\n",
       "      <th>62</th>\n",
       "      <th>63</th>\n",
       "      <th>64</th>\n",
       "      <th>Tsunami</th>\n",
       "    </tr>\n",
       "  </thead>\n",
       "  <tbody>\n",
       "    <tr>\n",
       "      <th>43</th>\n",
       "      <td>-0.051226</td>\n",
       "      <td>0.068850</td>\n",
       "      <td>0.419180</td>\n",
       "      <td>-0.085052</td>\n",
       "      <td>-0.040415</td>\n",
       "      <td>0.016302</td>\n",
       "      <td>-0.001494</td>\n",
       "      <td>0.055178</td>\n",
       "      <td>-0.060566</td>\n",
       "      <td>0.204003</td>\n",
       "      <td>...</td>\n",
       "      <td>0.003245</td>\n",
       "      <td>0.001168</td>\n",
       "      <td>0.019516</td>\n",
       "      <td>-0.012738</td>\n",
       "      <td>-0.022754</td>\n",
       "      <td>0.001871</td>\n",
       "      <td>0.003724</td>\n",
       "      <td>0.001837</td>\n",
       "      <td>9.351335e-16</td>\n",
       "      <td>0</td>\n",
       "    </tr>\n",
       "    <tr>\n",
       "      <th>12</th>\n",
       "      <td>0.203866</td>\n",
       "      <td>0.516668</td>\n",
       "      <td>-0.206135</td>\n",
       "      <td>-0.048428</td>\n",
       "      <td>-0.016315</td>\n",
       "      <td>0.009895</td>\n",
       "      <td>0.000233</td>\n",
       "      <td>-0.008035</td>\n",
       "      <td>-0.001141</td>\n",
       "      <td>-0.018322</td>\n",
       "      <td>...</td>\n",
       "      <td>0.217275</td>\n",
       "      <td>-0.033470</td>\n",
       "      <td>0.009077</td>\n",
       "      <td>-0.055947</td>\n",
       "      <td>-0.021178</td>\n",
       "      <td>-0.008381</td>\n",
       "      <td>-0.027384</td>\n",
       "      <td>0.000916</td>\n",
       "      <td>9.351335e-16</td>\n",
       "      <td>0</td>\n",
       "    </tr>\n",
       "    <tr>\n",
       "      <th>34</th>\n",
       "      <td>0.050405</td>\n",
       "      <td>0.026492</td>\n",
       "      <td>0.084558</td>\n",
       "      <td>0.647190</td>\n",
       "      <td>0.040860</td>\n",
       "      <td>0.003230</td>\n",
       "      <td>-0.001921</td>\n",
       "      <td>-0.057653</td>\n",
       "      <td>0.040895</td>\n",
       "      <td>-0.088922</td>\n",
       "      <td>...</td>\n",
       "      <td>-0.174505</td>\n",
       "      <td>0.016399</td>\n",
       "      <td>-0.001551</td>\n",
       "      <td>-0.001265</td>\n",
       "      <td>0.032932</td>\n",
       "      <td>0.018444</td>\n",
       "      <td>-0.001609</td>\n",
       "      <td>0.003281</td>\n",
       "      <td>9.351335e-16</td>\n",
       "      <td>0</td>\n",
       "    </tr>\n",
       "  </tbody>\n",
       "</table>\n",
       "<p>3 rows × 66 columns</p>\n",
       "</div>"
      ],
      "text/plain": [
       "           0         1         2         3         4         5         6  \\\n",
       "43 -0.051226  0.068850  0.419180 -0.085052 -0.040415  0.016302 -0.001494   \n",
       "12  0.203866  0.516668 -0.206135 -0.048428 -0.016315  0.009895  0.000233   \n",
       "34  0.050405  0.026492  0.084558  0.647190  0.040860  0.003230 -0.001921   \n",
       "\n",
       "           7         8         9   ...           56        57        58  \\\n",
       "43  0.055178 -0.060566  0.204003   ...     0.003245  0.001168  0.019516   \n",
       "12 -0.008035 -0.001141 -0.018322   ...     0.217275 -0.033470  0.009077   \n",
       "34 -0.057653  0.040895 -0.088922   ...    -0.174505  0.016399 -0.001551   \n",
       "\n",
       "          59        60        61        62        63            64  Tsunami  \n",
       "43 -0.012738 -0.022754  0.001871  0.003724  0.001837  9.351335e-16        0  \n",
       "12 -0.055947 -0.021178 -0.008381 -0.027384  0.000916  9.351335e-16        0  \n",
       "34 -0.001265  0.032932  0.018444 -0.001609  0.003281  9.351335e-16        0  \n",
       "\n",
       "[3 rows x 66 columns]"
      ]
     },
     "execution_count": 129,
     "metadata": {},
     "output_type": "execute_result"
    }
   ],
   "source": [
    "data_tsunami = pd.DataFrame(vectors_tfidf_reports_dim65)\n",
    "data_tsunami['Tsunami'] = baseline['Tsunami']\n",
    "data_tsunami = data_tsunami[data_tsunami['Tsunami'].notnull()]\n",
    "data_tsunami['Tsunami'] = data_tsunami['Tsunami'].astype(int)\n",
    "data_tsunami.sample(3)"
   ]
  },
  {
   "cell_type": "code",
   "execution_count": 130,
   "metadata": {},
   "outputs": [
    {
     "name": "stdout",
     "output_type": "stream",
     "text": [
      "Proportion of tsunami class observations:  0.127\n"
     ]
    }
   ],
   "source": [
    "#Classes highly imbalanced\n",
    "print('Proportion of tsunami class observations: ',np.round(np.sum(data_tsunami['Tsunami'])/len(data_tsunami), decimals = 3))"
   ]
  },
  {
   "cell_type": "code",
   "execution_count": 131,
   "metadata": {},
   "outputs": [],
   "source": [
    "TEST_SPLIT = 0.3"
   ]
  },
  {
   "cell_type": "code",
   "execution_count": 132,
   "metadata": {},
   "outputs": [
    {
     "name": "stdout",
     "output_type": "stream",
     "text": [
      "TFIDF vectors Train/Test shapes : (44, 65) /  (19, 65)\n"
     ]
    }
   ],
   "source": [
    "x_train, x_test, y_train, y_test = train_test_split(data_tsunami.iloc[:,0:65], data_tsunami['Tsunami'], test_size=TEST_SPLIT, random_state=42)\n",
    "#x_train, x_val, y_train, y_val = train_test_split(x_train, y_train, test_size=TEST_SPLIT, random_state=43)\n",
    "\n",
    "#total number of observations\n",
    "print (\"TFIDF vectors Train/Test shapes : %s /  %s\" % (str(x_train.shape),  str(x_test.shape)))"
   ]
  },
  {
   "cell_type": "code",
   "execution_count": 133,
   "metadata": {},
   "outputs": [
    {
     "name": "stdout",
     "output_type": "stream",
     "text": [
      "Dummy\n",
      "DummyClassifier(constant=None, random_state=None, strategy='most_frequent')\n",
      "[0 0 0 0 0 0 0 0 0 0 0 0 0 0 0 0 0 0 0]\n",
      "LogisticRegression\n",
      "LogisticRegression(C=1.0, class_weight=None, dual=False, fit_intercept=True,\n",
      "          intercept_scaling=1, max_iter=500, multi_class='auto',\n",
      "          n_jobs=None, penalty='l2', random_state=None, solver='lbfgs',\n",
      "          tol=0.0001, verbose=0, warm_start=False)\n",
      "[0 0 0 0 0 0 0 0 0 0 0 0 0 0 0 0 0 0 0]\n",
      "NaiveBayes\n",
      "GaussianNB(priors=None, var_smoothing=1e-09)\n",
      "[0 0 0 1 0 0 0 0 0 0 0 0 0 0 0 0 0 0 1]\n",
      "SVC\n",
      "SVC(C=1.0, cache_size=200, class_weight=None, coef0=0.0,\n",
      "  decision_function_shape='ovr', degree=3, gamma='auto', kernel='sigmoid',\n",
      "  max_iter=-1, probability=False, random_state=None, shrinking=True,\n",
      "  tol=0.001, verbose=False)\n",
      "[0 0 0 0 0 0 0 0 0 0 0 0 0 0 0 0 0 0 0]\n",
      "DecisionTree\n",
      "DecisionTreeClassifier(class_weight=None, criterion='gini', max_depth=None,\n",
      "            max_features=None, max_leaf_nodes=None,\n",
      "            min_impurity_decrease=0.0, min_impurity_split=None,\n",
      "            min_samples_leaf=1, min_samples_split=2,\n",
      "            min_weight_fraction_leaf=0.0, presort=False, random_state=None,\n",
      "            splitter='best')\n",
      "[0 0 0 0 0 0 0 0 0 0 0 0 0 0 0 0 0 0 1]\n",
      "RandomForest\n",
      "RandomForestClassifier(bootstrap=True, class_weight=None, criterion='gini',\n",
      "            max_depth=None, max_features='auto', max_leaf_nodes=None,\n",
      "            min_impurity_decrease=0.0, min_impurity_split=None,\n",
      "            min_samples_leaf=1, min_samples_split=2,\n",
      "            min_weight_fraction_leaf=0.0, n_estimators=100, n_jobs=None,\n",
      "            oob_score=False, random_state=1, verbose=0, warm_start=False)\n",
      "[0 0 0 1 0 0 0 0 0 0 0 0 0 0 0 0 0 0 0]\n",
      "Ensemble\n",
      "VotingClassifier(estimators=[('nb', GaussianNB(priors=None, var_smoothing=1e-09)), ('lr', LogisticRegression(C=1.0, class_weight=None, dual=False, fit_intercept=True,\n",
      "          intercept_scaling=1, max_iter=100, multi_class='auto',\n",
      "          n_jobs=None, penalty='l2', random_state=None, solver='liblinear',\n",
      "         ...mators=100, n_jobs=None,\n",
      "            oob_score=False, random_state=1, verbose=0, warm_start=False))],\n",
      "         flatten_transform=None, n_jobs=None, voting='hard', weights=None)\n",
      "[0 0 0 0 0 0 0 0 0 0 0 0 0 0 0 0 0 0 0]\n",
      "done!\n"
     ]
    }
   ],
   "source": [
    "#Train models\n",
    "modelnames = ['Dummy','LogisticRegression','NaiveBayes','SVC','DecisionTree','RandomForest','Ensemble']\n",
    "yhat = {}\n",
    "for modelname in modelnames:\n",
    "    print (modelname)\n",
    "    model = train(x_train, y_train, modelname)\n",
    "    print (model)\n",
    "    \n",
    "    yhat[modelname] = model.predict(x_test)\n",
    "    print (yhat[modelname])\n",
    "    \n",
    "print ('done!')"
   ]
  },
  {
   "cell_type": "code",
   "execution_count": 134,
   "metadata": {},
   "outputs": [
    {
     "name": "stdout",
     "output_type": "stream",
     "text": [
      "Dummy\n",
      "              precision    recall  f1-score   support\n",
      "\n",
      "           0       0.89      1.00      0.94        17\n",
      "           1       0.00      0.00      0.00         2\n",
      "\n",
      "   micro avg       0.89      0.89      0.89        19\n",
      "   macro avg       0.45      0.50      0.47        19\n",
      "weighted avg       0.80      0.89      0.85        19\n",
      "\n",
      "LogisticRegression\n",
      "              precision    recall  f1-score   support\n",
      "\n",
      "           0       0.89      1.00      0.94        17\n",
      "           1       0.00      0.00      0.00         2\n",
      "\n",
      "   micro avg       0.89      0.89      0.89        19\n",
      "   macro avg       0.45      0.50      0.47        19\n",
      "weighted avg       0.80      0.89      0.85        19\n",
      "\n",
      "NaiveBayes\n",
      "              precision    recall  f1-score   support\n",
      "\n",
      "           0       0.94      0.94      0.94        17\n",
      "           1       0.50      0.50      0.50         2\n",
      "\n",
      "   micro avg       0.89      0.89      0.89        19\n",
      "   macro avg       0.72      0.72      0.72        19\n",
      "weighted avg       0.89      0.89      0.89        19\n",
      "\n",
      "SVC\n",
      "              precision    recall  f1-score   support\n",
      "\n",
      "           0       0.89      1.00      0.94        17\n",
      "           1       0.00      0.00      0.00         2\n",
      "\n",
      "   micro avg       0.89      0.89      0.89        19\n",
      "   macro avg       0.45      0.50      0.47        19\n",
      "weighted avg       0.80      0.89      0.85        19\n",
      "\n",
      "DecisionTree\n",
      "              precision    recall  f1-score   support\n",
      "\n",
      "           0       0.94      1.00      0.97        17\n",
      "           1       1.00      0.50      0.67         2\n",
      "\n",
      "   micro avg       0.95      0.95      0.95        19\n",
      "   macro avg       0.97      0.75      0.82        19\n",
      "weighted avg       0.95      0.95      0.94        19\n",
      "\n",
      "RandomForest\n",
      "              precision    recall  f1-score   support\n",
      "\n",
      "           0       0.89      0.94      0.91        17\n",
      "           1       0.00      0.00      0.00         2\n",
      "\n",
      "   micro avg       0.84      0.84      0.84        19\n",
      "   macro avg       0.44      0.47      0.46        19\n",
      "weighted avg       0.80      0.84      0.82        19\n",
      "\n",
      "Ensemble\n",
      "              precision    recall  f1-score   support\n",
      "\n",
      "           0       0.89      1.00      0.94        17\n",
      "           1       0.00      0.00      0.00         2\n",
      "\n",
      "   micro avg       0.89      0.89      0.89        19\n",
      "   macro avg       0.45      0.50      0.47        19\n",
      "weighted avg       0.80      0.89      0.85        19\n",
      "\n"
     ]
    },
    {
     "name": "stderr",
     "output_type": "stream",
     "text": [
      "C:\\Users\\Paola.YELA\\AppData\\Local\\Continuum\\anaconda3\\lib\\site-packages\\sklearn\\metrics\\classification.py:1143: UndefinedMetricWarning: Precision and F-score are ill-defined and being set to 0.0 in labels with no predicted samples.\n",
      "  'precision', 'predicted', average, warn_for)\n"
     ]
    }
   ],
   "source": [
    "# Now evaluate\n",
    "results={}\n",
    "for modelname in yhat:\n",
    "    print (modelname)\n",
    "    results[modelname] = classification_report(y_test, yhat[modelname], output_dict=True)\n",
    "    print (classification_report(y_test, yhat[modelname]))"
   ]
  },
  {
   "cell_type": "code",
   "execution_count": 135,
   "metadata": {},
   "outputs": [
    {
     "data": {
      "image/png": "[encoded data removed]",
      "text/plain": [
       "<Figure size 576x432 with 1 Axes>"
      ]
     },
     "metadata": {
      "needs_background": "light"
     },
     "output_type": "display_data"
    }
   ],
   "source": [
    "#Now plot\n",
    "EVAL_AVGTYPE = 'weighted avg'\n",
    "EVAL_MEASURE = 'precision'\n",
    "\n",
    "fig = plt.figure(figsize=(8,6)) \n",
    "\n",
    "labels = modelnames\n",
    "data = [results[x][EVAL_AVGTYPE][EVAL_MEASURE] for x in labels]\n",
    "\n",
    "plt.bar(labels, data, color='#E32219',alpha = .8)\n",
    "    \n",
    "plt.ylabel(EVAL_MEASURE, fontsize=18)\n",
    "plt.tick_params(axis='both', which='major', labelsize=16)\n",
    "plt.tick_params(axis='both', which='minor', labelsize=12)\n",
    "plt.xticks(rotation=90)\n",
    "\n",
    "plt.show()"
   ]
  },
  {
   "cell_type": "markdown",
   "metadata": {},
   "source": [
    "## Previous approach"
   ]
  },
  {
   "cell_type": "code",
   "execution_count": null,
   "metadata": {},
   "outputs": [],
   "source": [
    "nlp = spacy.load(\"en_core_web_sm\")"
   ]
  },
  {
   "cell_type": "code",
   "execution_count": null,
   "metadata": {},
   "outputs": [],
   "source": [
    "#The data\n",
    "corpus_root = 'data/data_simplified'"
   ]
  },
  {
   "cell_type": "markdown",
   "metadata": {},
   "source": [
    "Load the VCA reports in Philippines"
   ]
  },
  {
   "cell_type": "code",
   "execution_count": null,
   "metadata": {},
   "outputs": [],
   "source": [
    "reports = list()\n",
    "reports_title = list()\n",
    "for report_file in os.listdir(corpus_root+'/Asia Pacific/Philippines/Assessment Reports'):\n",
    "    if \".txt\" in report_file:\n",
    "        print(report_file)\n",
    "        with codecs.open(os.path.join(corpus_root+'/Asia Pacific/Philippines/Assessment Reports',report_file),encoding=\"utf8\", errors='ignore') as f:\n",
    "            reports.append(f.read())\n",
    "            reports_title.append(report_file)"
   ]
  },
  {
   "cell_type": "markdown",
   "metadata": {},
   "source": [
    "Print the beginning of the VCA report done in Bakhaw Nort"
   ]
  },
  {
   "cell_type": "code",
   "execution_count": null,
   "metadata": {},
   "outputs": [],
   "source": [
    "print(reports[0][1380:1480])"
   ]
  },
  {
   "cell_type": "markdown",
   "metadata": {},
   "source": [
    "#### Let's remove the new lines"
   ]
  },
  {
   "cell_type": "code",
   "execution_count": null,
   "metadata": {},
   "outputs": [],
   "source": [
    "reports = [\" \".join(r.split()) for r in reports]"
   ]
  },
  {
   "cell_type": "code",
   "execution_count": null,
   "metadata": {},
   "outputs": [],
   "source": [
    "print(reports[20][0:1700])"
   ]
  },
  {
   "cell_type": "code",
   "execution_count": null,
   "metadata": {},
   "outputs": [],
   "source": [
    "count = 0\n",
    "for r in reports:\n",
    "    if(\"typhoon\" in r):\n",
    "        print (reports_title[reports.index(r)]) \n",
    "        count = count + 1\n",
    "print(\"Total reports reporting typhoon: \",count,\" over \",len(reports),\" total number of reports\")"
   ]
  },
  {
   "cell_type": "markdown",
   "metadata": {},
   "source": [
    "## 1. Extraction of information based in dictionaries"
   ]
  },
  {
   "cell_type": "code",
   "execution_count": null,
   "metadata": {},
   "outputs": [],
   "source": [
    "dictionaries_root = 'data/data_dictionaries/'"
   ]
  },
  {
   "cell_type": "markdown",
   "metadata": {},
   "source": [
    "### 1.1 Simple classification"
   ]
  },
  {
   "cell_type": "markdown",
   "metadata": {},
   "source": [
    "Reading dictionaries for classify if the report meets a condition or not."
   ]
  },
  {
   "cell_type": "code",
   "execution_count": null,
   "metadata": {},
   "outputs": [],
   "source": [
    "simple_dictionaries = list()\n",
    "simple_dictionaries_title = list()\n",
    "for dictionary_file in os.listdir(dictionaries_root):\n",
    "    if \".txt\" in dictionary_file:\n",
    "        print(dictionary_file)\n",
    "        with codecs.open(os.path.join(dictionaries_root,dictionary_file),encoding=\"utf8\", errors='ignore') as d:\n",
    "            ### split by new row\n",
    "            simple_dictionaries.append(d.read().split(\"\\r\\n\"))\n",
    "            simple_dictionaries_title.append(dictionary_file)"
   ]
  },
  {
   "cell_type": "markdown",
   "metadata": {},
   "source": [
    "#### 1.1.1 Is the report age disaggregated?"
   ]
  },
  {
   "cell_type": "code",
   "execution_count": null,
   "metadata": {},
   "outputs": [],
   "source": [
    "age_filter = simple_dictionaries[1]"
   ]
  },
  {
   "cell_type": "code",
   "execution_count": null,
   "metadata": {},
   "outputs": [],
   "source": [
    "age_filter"
   ]
  },
  {
   "cell_type": "code",
   "execution_count": null,
   "metadata": {},
   "outputs": [],
   "source": [
    "count = 0\n",
    "for r in reports:\n",
    "    if any(word in r for word in age_filter):\n",
    "        print (reports_title[reports.index(r)]) \n",
    "        count = count + 1\n",
    "print(\"Total reports that are age disaggregated: \",count,\" over \",len(reports),\" total number of reports\")"
   ]
  },
  {
   "cell_type": "markdown",
   "metadata": {},
   "source": [
    " #### 1.1.2 Is the report gender disaggregated?"
   ]
  },
  {
   "cell_type": "code",
   "execution_count": null,
   "metadata": {},
   "outputs": [],
   "source": [
    "gender_filter = simple_dictionaries[4]"
   ]
  },
  {
   "cell_type": "code",
   "execution_count": null,
   "metadata": {},
   "outputs": [],
   "source": [
    "gender_filter"
   ]
  },
  {
   "cell_type": "code",
   "execution_count": null,
   "metadata": {},
   "outputs": [],
   "source": [
    "count = 0\n",
    "for r in reports:\n",
    "    if any(word in r for word in gender_filter):\n",
    "        print (reports_title[reports.index(r)]) \n",
    "        count = count + 1\n",
    "print(\"Total reports that are gender disaggregated: \",count,\" over \",len(reports),\" total number of reports\")"
   ]
  },
  {
   "cell_type": "markdown",
   "metadata": {},
   "source": [
    " #### 1.1.3 Does the report consider diversity?"
   ]
  },
  {
   "cell_type": "code",
   "execution_count": null,
   "metadata": {},
   "outputs": [],
   "source": [
    "diversity_filter = simple_dictionaries[2]"
   ]
  },
  {
   "cell_type": "code",
   "execution_count": null,
   "metadata": {},
   "outputs": [],
   "source": [
    "diversity_filter"
   ]
  },
  {
   "cell_type": "code",
   "execution_count": null,
   "metadata": {},
   "outputs": [],
   "source": [
    "count = 0\n",
    "for r in reports:\n",
    "    if any(word in r for word in diversity_filter):\n",
    "        print (reports_title[reports.index(r)]) \n",
    "        count = count + 1\n",
    "print(\"Total reports that consider diversity: \",count,\" over \",len(reports),\" total number of reports\")"
   ]
  },
  {
   "cell_type": "markdown",
   "metadata": {},
   "source": [
    " #### 1.1.4 Does the report show exposed areas?"
   ]
  },
  {
   "cell_type": "code",
   "execution_count": null,
   "metadata": {},
   "outputs": [],
   "source": [
    "exposure_filter = simple_dictionaries[3]"
   ]
  },
  {
   "cell_type": "code",
   "execution_count": null,
   "metadata": {},
   "outputs": [],
   "source": [
    "exposure_filter"
   ]
  },
  {
   "cell_type": "code",
   "execution_count": null,
   "metadata": {},
   "outputs": [],
   "source": [
    "count = 0\n",
    "for r in reports:\n",
    "    if any(word in r for word in exposure_filter):\n",
    "        print (reports_title[reports.index(r)]) \n",
    "        count = count + 1\n",
    "print(\"Total reports that show exposed areas: \",count,\" over \",len(reports),\" total number of reports\")"
   ]
  },
  {
   "cell_type": "markdown",
   "metadata": {},
   "source": [
    " #### 1.1.5 Does the report have a plan of action?"
   ]
  },
  {
   "cell_type": "code",
   "execution_count": null,
   "metadata": {},
   "outputs": [],
   "source": [
    "plan_filter = simple_dictionaries[0]"
   ]
  },
  {
   "cell_type": "code",
   "execution_count": null,
   "metadata": {},
   "outputs": [],
   "source": [
    "plan_filter"
   ]
  },
  {
   "cell_type": "code",
   "execution_count": null,
   "metadata": {},
   "outputs": [],
   "source": [
    "count = 0\n",
    "for r in reports:\n",
    "    if any(word in r for word in plan_filter):\n",
    "        print (reports_title[reports.index(r)]) \n",
    "        count = count + 1\n",
    "print(\"Total reports that have a plan of action: \",count,\" over \",len(reports),\" total number of reports\")"
   ]
  }
 ],
 "metadata": {
  "kernelspec": {
   "display_name": "Python 3",
   "language": "python",
   "name": "python3"
  },
  "language_info": {
   "codemirror_mode": {
    "name": "ipython",
    "version": 3
   },
   "file_extension": ".py",
   "mimetype": "text/x-python",
   "name": "python",
   "nbconvert_exporter": "python",
   "pygments_lexer": "ipython3",
   "version": "3.7.1"
  }
 },
 "nbformat": 4,
 "nbformat_minor": 2
}
